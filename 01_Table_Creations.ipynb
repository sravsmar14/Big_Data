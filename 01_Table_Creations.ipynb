{
 "cells": [
  {
   "cell_type": "code",
   "execution_count": 24,
   "id": "ea8edb87",
   "metadata": {},
   "outputs": [
    {
     "data": {
      "text/plain": [
       "lastException: Throwable = null\n"
      ]
     },
     "metadata": {},
     "output_type": "display_data",
     "source": "user"
    }
   ],
   "source": [
    "import org.apache.spark.sql.SparkSession\n"
   ]
  },
  {
   "cell_type": "code",
   "execution_count": 26,
   "id": "29ccd67a",
   "metadata": {},
   "outputs": [
    {
     "data": {
      "text/plain": [
       "spark = org.apache.spark.sql.SparkSession@19f3d903\n"
      ]
     },
     "metadata": {},
     "output_type": "display_data",
     "source": "user"
    },
    {
     "data": {
      "text/plain": [
       "org.apache.spark.sql.SparkSession@19f3d903"
      ]
     },
     "execution_count": 26,
     "metadata": {},
     "output_type": "execute_result"
    }
   ],
   "source": [
    "val spark = SparkSession.\n",
    "    builder.\n",
    "    config(\"spark.ui.port\", \"0\").\n",
    "    config(\"spark.sql.warehouse.dir\", \"/user/itv001389/warehouse\").\n",
    "    enableHiveSupport.\n",
    "    master(\"yarn\").\n",
    "    appName(\"Getting Started - Spark with Scala\").\n",
    "    getOrCreate"
   ]
  },
  {
   "cell_type": "markdown",
   "id": "cd50edff",
   "metadata": {},
   "source": [
    "# Creating Orders table"
   ]
  },
  {
   "cell_type": "code",
   "execution_count": 30,
   "id": "99f85fec",
   "metadata": {},
   "outputs": [
    {
     "data": {
      "text/plain": [
       "[]"
      ]
     },
     "execution_count": 30,
     "metadata": {},
     "output_type": "execute_result"
    }
   ],
   "source": [
    "spark.sql(\"CREATE DATABASE raj_retail_db\")\n"
   ]
  },
  {
   "cell_type": "code",
   "execution_count": 32,
   "id": "ce2221d9",
   "metadata": {},
   "outputs": [
    {
     "data": {
      "text/plain": [
       "[]"
      ]
     },
     "execution_count": 32,
     "metadata": {},
     "output_type": "execute_result"
    }
   ],
   "source": [
    "spark.sql(\"use raj_retail_db\")"
   ]
  },
  {
   "cell_type": "code",
   "execution_count": 51,
   "id": "c785c049",
   "metadata": {},
   "outputs": [
    {
     "data": {
      "text/plain": [
       "df = [order_id: int, Order_date: timestamp ... 2 more fields]\n"
      ]
     },
     "metadata": {},
     "output_type": "display_data",
     "source": "user"
    },
    {
     "data": {
      "text/plain": [
       "[order_id: int, Order_date: timestamp ... 2 more fields]"
      ]
     },
     "execution_count": 51,
     "metadata": {},
     "output_type": "execute_result"
    }
   ],
   "source": [
    "val df = spark.read.format(\"csv\").schema(\"order_id int ,Order_date timestamp ,Order_product_id int ,Order_status string\")\n",
    ".load(\"hdfs://m01.itversity.com:9000/user/itv001389/retail_db/orders\")"
   ]
  },
  {
   "cell_type": "code",
   "execution_count": 52,
   "id": "15df9b82",
   "metadata": {},
   "outputs": [
    {
     "name": "stdout",
     "output_type": "stream",
     "text": [
      "root\n",
      " |-- order_id: integer (nullable = true)\n",
      " |-- Order_date: timestamp (nullable = true)\n",
      " |-- Order_product_id: integer (nullable = true)\n",
      " |-- Order_status: string (nullable = true)\n",
      "\n"
     ]
    }
   ],
   "source": [
    "df.printSchema()"
   ]
  },
  {
   "cell_type": "code",
   "execution_count": 53,
   "id": "70deed0a",
   "metadata": {},
   "outputs": [
    {
     "data": {
      "text/plain": [
       "68883"
      ]
     },
     "execution_count": 53,
     "metadata": {},
     "output_type": "execute_result"
    }
   ],
   "source": [
    "df.count()"
   ]
  },
  {
   "cell_type": "code",
   "execution_count": 54,
   "id": "6c9178b3",
   "metadata": {},
   "outputs": [],
   "source": [
    "df.write.saveAsTable(\"raj_retail_db.Orders\")"
   ]
  },
  {
   "cell_type": "code",
   "execution_count": 55,
   "id": "3c60fda8",
   "metadata": {},
   "outputs": [
    {
     "name": "stdout",
     "output_type": "stream",
     "text": [
      "+--------+\n",
      "|count(1)|\n",
      "+--------+\n",
      "|   68883|\n",
      "+--------+\n",
      "\n"
     ]
    }
   ],
   "source": [
    "spark.sql(\"select count(*) from Orders\").show()"
   ]
  },
  {
   "cell_type": "code",
   "execution_count": 57,
   "id": "69982481",
   "metadata": {},
   "outputs": [
    {
     "name": "stdout",
     "output_type": "stream",
     "text": [
      "root\n",
      " |-- order_id: integer (nullable = true)\n",
      " |-- Order_date: timestamp (nullable = true)\n",
      " |-- Order_product_id: integer (nullable = true)\n",
      " |-- Order_status: string (nullable = true)\n",
      "\n"
     ]
    }
   ],
   "source": [
    "spark.sql(\"select * from Orders limit 2\").printSchema()"
   ]
  },
  {
   "cell_type": "markdown",
   "id": "96a0cef9",
   "metadata": {},
   "source": [
    "# Creating Order Items table"
   ]
  },
  {
   "cell_type": "code",
   "execution_count": 59,
   "id": "3ec9474f",
   "metadata": {},
   "outputs": [
    {
     "data": {
      "text/plain": [
       "df1 = [order_item_id: int, order_item_order_id: int ... 4 more fields]\n"
      ]
     },
     "metadata": {},
     "output_type": "display_data",
     "source": "user"
    },
    {
     "data": {
      "text/plain": [
       "[order_item_id: int, order_item_order_id: int ... 4 more fields]"
      ]
     },
     "execution_count": 59,
     "metadata": {},
     "output_type": "execute_result"
    }
   ],
   "source": [
    "val df1 = spark.read.format(\"csv\").schema(\"order_item_id int,order_item_order_id int,order_item_product_id int,order_item_quantity int,order_item_subtotal decimal(17,4),order_item_product_price decimal(17,4)\")\n",
    ".load(\"hdfs://m01.itversity.com:9000/user/itv001389/retail_db/order_items\")"
   ]
  },
  {
   "cell_type": "code",
   "execution_count": 60,
   "id": "2fe3b676",
   "metadata": {},
   "outputs": [
    {
     "data": {
      "text/plain": [
       "172198"
      ]
     },
     "execution_count": 60,
     "metadata": {},
     "output_type": "execute_result"
    }
   ],
   "source": [
    "df1.count()"
   ]
  },
  {
   "cell_type": "code",
   "execution_count": 61,
   "id": "94e56edc",
   "metadata": {},
   "outputs": [
    {
     "name": "stdout",
     "output_type": "stream",
     "text": [
      "root\n",
      " |-- order_item_id: integer (nullable = true)\n",
      " |-- order_item_order_id: integer (nullable = true)\n",
      " |-- order_item_product_id: integer (nullable = true)\n",
      " |-- order_item_quantity: integer (nullable = true)\n",
      " |-- order_item_subtotal: decimal(17,4) (nullable = true)\n",
      " |-- order_item_product_price: decimal(17,4) (nullable = true)\n",
      "\n"
     ]
    }
   ],
   "source": [
    "df1.printSchema()"
   ]
  },
  {
   "cell_type": "code",
   "execution_count": 62,
   "id": "1cc59adc",
   "metadata": {},
   "outputs": [],
   "source": [
    "df1.write.saveAsTable(\"raj_retail_db.Order_items\")"
   ]
  },
  {
   "cell_type": "code",
   "execution_count": 63,
   "id": "d4dce88e",
   "metadata": {},
   "outputs": [
    {
     "name": "stdout",
     "output_type": "stream",
     "text": [
      "+-------------+-----------+-----------+\n",
      "|     database|  tableName|isTemporary|\n",
      "+-------------+-----------+-----------+\n",
      "|raj_retail_db|order_items|      false|\n",
      "|raj_retail_db|     orders|      false|\n",
      "+-------------+-----------+-----------+\n",
      "\n"
     ]
    }
   ],
   "source": [
    "spark.sql(\"show tables\").show()"
   ]
  },
  {
   "cell_type": "code",
   "execution_count": 64,
   "id": "fe0b077b",
   "metadata": {},
   "outputs": [
    {
     "data": {
      "text/plain": [
       "[]"
      ]
     },
     "execution_count": 64,
     "metadata": {},
     "output_type": "execute_result"
    }
   ],
   "source": [
    "spark.sql(\"create external table orders_raj_nopath_text_test ( Order_id int, order_date timestamp, order_number int, order_status String) row format delimited fields terminated by ',' stored as textfile location '/user/itv001389/retail_db/orders_raj_nopath_text_test'\");"
   ]
  },
  {
   "cell_type": "code",
   "execution_count": 66,
   "id": "a0350a67",
   "metadata": {},
   "outputs": [
    {
     "name": "stdout",
     "output_type": "stream",
     "text": [
      "+-------------+---------------------------+-----------+\n",
      "|database     |tableName                  |isTemporary|\n",
      "+-------------+---------------------------+-----------+\n",
      "|raj_retail_db|order_items                |false      |\n",
      "|raj_retail_db|orders                     |false      |\n",
      "|raj_retail_db|orders_raj_nopath_text_test|false      |\n",
      "+-------------+---------------------------+-----------+\n",
      "\n"
     ]
    }
   ],
   "source": [
    "spark.sql(\"show tables\").show(false)"
   ]
  },
  {
   "cell_type": "code",
   "execution_count": 67,
   "id": "917b6ac1",
   "metadata": {},
   "outputs": [
    {
     "name": "stdout",
     "output_type": "stream",
     "text": [
      "+----------------------------------------------------------------------------------------------------------------------------------------------------------------------------------------------------------------------------------------------------------------------------------------------------------------------------------------------------------------------------------------------------------------------------------------------------------------------------------------------------------------------------------------------------------------------------------------------------+\n",
      "|createtab_stmt                                                                                                                                                                                                                                                                                                                                                                                                                                                                                                                                                                                      |\n",
      "+----------------------------------------------------------------------------------------------------------------------------------------------------------------------------------------------------------------------------------------------------------------------------------------------------------------------------------------------------------------------------------------------------------------------------------------------------------------------------------------------------------------------------------------------------------------------------------------------------+\n",
      "|CREATE EXTERNAL TABLE `orders_raj_nopath_text_test`(`Order_id` INT, `order_date` TIMESTAMP, `order_number` INT, `order_status` STRING)\n",
      "ROW FORMAT SERDE 'org.apache.hadoop.hive.serde2.lazy.LazySimpleSerDe'\n",
      "WITH SERDEPROPERTIES (\n",
      "  'field.delim' = ',',\n",
      "  'serialization.format' = ','\n",
      ")\n",
      "STORED AS\n",
      "  INPUTFORMAT 'org.apache.hadoop.mapred.TextInputFormat'\n",
      "  OUTPUTFORMAT 'org.apache.hadoop.hive.ql.io.HiveIgnoreKeyTextOutputFormat'\n",
      "LOCATION 'hdfs://m01.itversity.com:9000/user/itv001389/retail_db/orders_raj_nopath_text_test'\n",
      "TBLPROPERTIES (\n",
      "  'transient_lastDdlTime' = '1634322859'\n",
      ")\n",
      "|\n",
      "+----------------------------------------------------------------------------------------------------------------------------------------------------------------------------------------------------------------------------------------------------------------------------------------------------------------------------------------------------------------------------------------------------------------------------------------------------------------------------------------------------------------------------------------------------------------------------------------------------+\n",
      "\n"
     ]
    }
   ],
   "source": [
    "spark.sql(\"show create table orders_raj_nopath_text_test\").show(false)"
   ]
  },
  {
   "cell_type": "code",
   "execution_count": null,
   "id": "34ade76b",
   "metadata": {},
   "outputs": [],
   "source": []
  }
 ],
 "metadata": {
  "kernelspec": {
   "display_name": "Spark 2 - Scala",
   "language": "scala",
   "name": "spark_2_scala"
  },
  "language_info": {
   "codemirror_mode": "text/x-scala",
   "file_extension": ".scala",
   "mimetype": "text/x-scala",
   "name": "scala",
   "pygments_lexer": "scala",
   "version": "2.11.12"
  }
 },
 "nbformat": 4,
 "nbformat_minor": 5
}
