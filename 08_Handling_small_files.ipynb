{
 "cells": [
  {
   "cell_type": "code",
   "execution_count": 1,
   "id": "224be1ca",
   "metadata": {},
   "outputs": [],
   "source": [
    "import org.apache.spark.sql.SparkSession"
   ]
  },
  {
   "cell_type": "code",
   "execution_count": 2,
   "id": "d7aa4ec4",
   "metadata": {},
   "outputs": [
    {
     "data": {
      "text/plain": [
       "spark = org.apache.spark.sql.SparkSession@547dc43\n"
      ]
     },
     "metadata": {},
     "output_type": "display_data",
     "source": "user"
    },
    {
     "data": {
      "text/plain": [
       "org.apache.spark.sql.SparkSession@547dc43"
      ]
     },
     "execution_count": 2,
     "metadata": {},
     "output_type": "execute_result"
    }
   ],
   "source": [
    "val spark = SparkSession.\n",
    "    builder.\n",
    "    config(\"spark.ui.port\", \"0\").\n",
    "    config(\"spark.sql.warehouse.dir\", \"/user/itv001389/warehouse\").\n",
    "    enableHiveSupport.\n",
    "    master(\"yarn\").\n",
    "    appName(\"Getting Started - Spark with Scala\").\n",
    "    getOrCreate"
   ]
  },
  {
   "cell_type": "code",
   "execution_count": 3,
   "id": "ff9cc93a",
   "metadata": {},
   "outputs": [
    {
     "data": {
      "text/plain": [
       "[]"
      ]
     },
     "execution_count": 3,
     "metadata": {},
     "output_type": "execute_result"
    }
   ],
   "source": [
    "spark.sql(\"use Raj\")"
   ]
  },
  {
   "cell_type": "code",
   "execution_count": 4,
   "id": "92a1ff95",
   "metadata": {},
   "outputs": [
    {
     "name": "stdout",
     "output_type": "stream",
     "text": [
      "+----------------------------+--------------------------------------------------------------------+-------+\n",
      "|col_name                    |data_type                                                           |comment|\n",
      "+----------------------------+--------------------------------------------------------------------+-------+\n",
      "|order_id                    |int                                                                 |null   |\n",
      "|Order_date                  |timestamp                                                           |null   |\n",
      "|Order_product_id            |int                                                                 |null   |\n",
      "|Order_status                |string                                                              |null   |\n",
      "|                            |                                                                    |       |\n",
      "|# Detailed Table Information|                                                                    |       |\n",
      "|Database                    |raj                                                                 |       |\n",
      "|Table                       |orders                                                              |       |\n",
      "|Owner                       |itv001389                                                           |       |\n",
      "|Created Time                |Sat Oct 16 03:39:18 EDT 2021                                        |       |\n",
      "|Last Access                 |Wed Dec 31 19:00:00 EST 1969                                        |       |\n",
      "|Created By                  |Spark 2.4.7                                                         |       |\n",
      "|Type                        |MANAGED                                                             |       |\n",
      "|Provider                    |parquet                                                             |       |\n",
      "|Table Properties            |[transient_lastDdlTime=1634369958]                                  |       |\n",
      "|Statistics                  |487493 bytes                                                        |       |\n",
      "|Location                    |hdfs://m01.itversity.com:9000/user/itv001389/warehouse/raj.db/orders|       |\n",
      "|Serde Library               |org.apache.hadoop.hive.ql.io.parquet.serde.ParquetHiveSerDe         |       |\n",
      "|InputFormat                 |org.apache.hadoop.hive.ql.io.parquet.MapredParquetInputFormat       |       |\n",
      "|OutputFormat                |org.apache.hadoop.hive.ql.io.parquet.MapredParquetOutputFormat      |       |\n",
      "+----------------------------+--------------------------------------------------------------------+-------+\n",
      "only showing top 20 rows\n",
      "\n"
     ]
    }
   ],
   "source": [
    "spark.sql(\"describe formatted Raj.orders\").show(false)"
   ]
  },
  {
   "cell_type": "code",
   "execution_count": 3,
   "id": "bfcee247",
   "metadata": {},
   "outputs": [
    {
     "name": "stdout",
     "output_type": "stream",
     "text": [
      "01_Hive_Table_Creation.ipynb\t      07_Bucketing_practice.ipynb\n",
      "01_Table_Creations.ipynb\t      08_Handling_small_files.ipynb\n",
      "02_Order_table_creations.ipynb\t      filename.hql\n",
      "03_OrderItem_table_creation.ipynb     ${system:java.io.tmpdir}\n",
      "04_Order_OrderItem_Joins.ipynb\t      test.txt\n",
      "05_Order_OrderItems_Partitions.ipynb  Untitled1.ipynb\n",
      "06_Msck_Practise.ipynb\t\t      Untitled.ipynb\n"
     ]
    }
   ],
   "source": [
    "!ls"
   ]
  },
  {
   "cell_type": "code",
   "execution_count": 4,
   "id": "e3967dfb",
   "metadata": {},
   "outputs": [
    {
     "name": "stdout",
     "output_type": "stream",
     "text": [
      "Found 2 items\n",
      "-rw-r--r--   3 itv001389 supergroup          0 2021-10-16 03:39 hdfs://m01.itversity.com:9000/user/itv001389/warehouse/raj.db/orders/_SUCCESS\n",
      "-rw-r--r--   3 itv001389 supergroup     487493 2021-10-16 03:39 hdfs://m01.itversity.com:9000/user/itv001389/warehouse/raj.db/orders/part-00000-6502fdf1-89f6-48b4-ae4c-6c0376ab98ce-c000.snappy.parquet\n"
     ]
    }
   ],
   "source": [
    "!hadoop fs -ls hdfs://m01.itversity.com:9000/user/itv001389/warehouse/raj.db/orders"
   ]
  },
  {
   "cell_type": "code",
   "execution_count": 5,
   "id": "182e895f",
   "metadata": {},
   "outputs": [
    {
     "name": "stdout",
     "output_type": "stream",
     "text": [
      "-rw-r--r--   3 itv001389 supergroup          0 2021-10-16 03:39 hdfs://m01.itversity.com:9000/user/itv001389/warehouse/raj.db/orders/_SUCCESS\n"
     ]
    }
   ],
   "source": [
    "!hadoop fs -ls  hdfs://m01.itversity.com:9000/user/itv001389/warehouse/raj.db/orders/_SUCCESS"
   ]
  },
  {
   "cell_type": "code",
   "execution_count": 8,
   "id": "21b531a3",
   "metadata": {},
   "outputs": [
    {
     "data": {
      "text/plain": [
       "lastException: Throwable = null\n"
      ]
     },
     "metadata": {},
     "output_type": "display_data",
     "source": "user"
    },
    {
     "data": {
      "text/plain": [
       "[]"
      ]
     },
     "execution_count": 8,
     "metadata": {},
     "output_type": "execute_result"
    }
   ],
   "source": [
    "spark.sql(\"create table Raj.orders_smallfile(order_id int,order_date timestamp,order_product_id int,order_status string) row format delimited fields terminated by ',' location  'hdfs://m01.itversity.com:9000/user/itv001389/warehouse/raj.db/order_csv' \")"
   ]
  },
  {
   "cell_type": "code",
   "execution_count": 4,
   "id": "fd0d5c86",
   "metadata": {},
   "outputs": [
    {
     "data": {
      "text/plain": [
       "[]"
      ]
     },
     "execution_count": 4,
     "metadata": {},
     "output_type": "execute_result"
    }
   ],
   "source": [
    "spark.sql(\"insert into table Raj.orders_smallfile select * from Raj.orders \")"
   ]
  },
  {
   "cell_type": "code",
   "execution_count": 7,
   "id": "ceb31fca",
   "metadata": {},
   "outputs": [
    {
     "name": "stdout",
     "output_type": "stream",
     "text": [
      "+--------+\n",
      "|count(1)|\n",
      "+--------+\n",
      "|   68883|\n",
      "+--------+\n",
      "\n"
     ]
    }
   ],
   "source": [
    "spark.sql(\"select count(*) from Raj.orders_smallfile\").show()"
   ]
  },
  {
   "cell_type": "code",
   "execution_count": 1,
   "id": "8d2722d9",
   "metadata": {},
   "outputs": [
    {
     "name": "stdout",
     "output_type": "stream",
     "text": [
      "Found 1 items\n",
      "-rwxr-xr-x   3 itv001389 supergroup    2862178 2021-10-17 05:41 hdfs://m01.itversity.com:9000/user/itv001389/warehouse/raj.db/order_csv/part-00000-1ab13468-79cd-462d-a762-92e550cbdc25-c000\n"
     ]
    }
   ],
   "source": [
    "!hadoop fs -ls hdfs://m01.itversity.com:9000/user/itv001389/warehouse/raj.db/order_csv"
   ]
  },
  {
   "cell_type": "code",
   "execution_count": 2,
   "id": "7c5f465a",
   "metadata": {},
   "outputs": [],
   "source": [
    "!hadoop fs -cp  hdfs://m01.itversity.com:9000/user/itv001389/warehouse/raj.db/order_csv/part-00000-1ab13468-79cd-462d-a762-92e550cbdc25-c000  hdfs://m01.itversity.com:9000/user/itv001389/warehouse/raj.db/order_csv/part-00000-1ab13468-79cd-462d-a762-92e550cbdc25-c001"
   ]
  },
  {
   "cell_type": "code",
   "execution_count": 3,
   "id": "798e7107",
   "metadata": {},
   "outputs": [],
   "source": [
    "!hadoop fs -cp  hdfs://m01.itversity.com:9000/user/itv001389/warehouse/raj.db/order_csv/part-00000-1ab13468-79cd-462d-a762-92e550cbdc25-c000  hdfs://m01.itversity.com:9000/user/itv001389/warehouse/raj.db/order_csv/part-00000-1ab13468-79cd-462d-a762-92e550cbdc25-c002"
   ]
  },
  {
   "cell_type": "code",
   "execution_count": 4,
   "id": "682ac775",
   "metadata": {},
   "outputs": [],
   "source": [
    "!hadoop fs -cp  hdfs://m01.itversity.com:9000/user/itv001389/warehouse/raj.db/order_csv/part-00000-1ab13468-79cd-462d-a762-92e550cbdc25-c000  hdfs://m01.itversity.com:9000/user/itv001389/warehouse/raj.db/order_csv/part-00000-1ab13468-79cd-462d-a762-92e550cbdc25-c003"
   ]
  },
  {
   "cell_type": "code",
   "execution_count": 5,
   "id": "89869875",
   "metadata": {},
   "outputs": [],
   "source": [
    "!hadoop fs -cp  hdfs://m01.itversity.com:9000/user/itv001389/warehouse/raj.db/order_csv/part-00000-1ab13468-79cd-462d-a762-92e550cbdc25-c000  hdfs://m01.itversity.com:9000/user/itv001389/warehouse/raj.db/order_csv/part-00000-1ab13468-79cd-462d-a762-92e550cbdc25-c004"
   ]
  },
  {
   "cell_type": "code",
   "execution_count": 6,
   "id": "83686415",
   "metadata": {},
   "outputs": [],
   "source": [
    "!hadoop fs -cp  hdfs://m01.itversity.com:9000/user/itv001389/warehouse/raj.db/order_csv/part-00000-1ab13468-79cd-462d-a762-92e550cbdc25-c000  hdfs://m01.itversity.com:9000/user/itv001389/warehouse/raj.db/order_csv/part-00000-1ab13468-79cd-462d-a762-92e550cbdc25-c005"
   ]
  },
  {
   "cell_type": "code",
   "execution_count": 7,
   "id": "1be8cfd7",
   "metadata": {},
   "outputs": [],
   "source": [
    "!hadoop fs -cp  hdfs://m01.itversity.com:9000/user/itv001389/warehouse/raj.db/order_csv/part-00000-1ab13468-79cd-462d-a762-92e550cbdc25-c000  hdfs://m01.itversity.com:9000/user/itv001389/warehouse/raj.db/order_csv/part-00000-1ab13468-79cd-462d-a762-92e550cbdc25-c006"
   ]
  },
  {
   "cell_type": "code",
   "execution_count": 8,
   "id": "4286b75d",
   "metadata": {},
   "outputs": [],
   "source": [
    "!hadoop fs -cp  hdfs://m01.itversity.com:9000/user/itv001389/warehouse/raj.db/order_csv/part-00000-1ab13468-79cd-462d-a762-92e550cbdc25-c000  hdfs://m01.itversity.com:9000/user/itv001389/warehouse/raj.db/order_csv/part-00000-1ab13468-79cd-462d-a762-92e550cbdc25-c007"
   ]
  },
  {
   "cell_type": "code",
   "execution_count": 9,
   "id": "67b86e2f",
   "metadata": {},
   "outputs": [],
   "source": [
    "!hadoop fs -cp  hdfs://m01.itversity.com:9000/user/itv001389/warehouse/raj.db/order_csv/part-00000-1ab13468-79cd-462d-a762-92e550cbdc25-c000  hdfs://m01.itversity.com:9000/user/itv001389/warehouse/raj.db/order_csv/part-00000-1ab13468-79cd-462d-a762-92e550cbdc25-c008"
   ]
  },
  {
   "cell_type": "code",
   "execution_count": 10,
   "id": "8bdfe13e",
   "metadata": {},
   "outputs": [],
   "source": [
    "!hadoop fs -cp  hdfs://m01.itversity.com:9000/user/itv001389/warehouse/raj.db/order_csv/part-00000-1ab13468-79cd-462d-a762-92e550cbdc25-c000  hdfs://m01.itversity.com:9000/user/itv001389/warehouse/raj.db/order_csv/part-00000-1ab13468-79cd-462d-a762-92e550cbdc25-c009"
   ]
  },
  {
   "cell_type": "code",
   "execution_count": 11,
   "id": "1b1b1f1e",
   "metadata": {},
   "outputs": [],
   "source": [
    "!hadoop fs -cp  hdfs://m01.itversity.com:9000/user/itv001389/warehouse/raj.db/order_csv/part-00000-1ab13468-79cd-462d-a762-92e550cbdc25-c000  hdfs://m01.itversity.com:9000/user/itv001389/warehouse/raj.db/order_csv/part-00000-1ab13468-79cd-462d-a762-92e550cbdc25-c010"
   ]
  },
  {
   "cell_type": "code",
   "execution_count": 12,
   "id": "c6ff38af",
   "metadata": {},
   "outputs": [],
   "source": [
    "!hadoop fs -cp  hdfs://m01.itversity.com:9000/user/itv001389/warehouse/raj.db/order_csv/part-00000-1ab13468-79cd-462d-a762-92e550cbdc25-c000  hdfs://m01.itversity.com:9000/user/itv001389/warehouse/raj.db/order_csv/part-00000-1ab13468-79cd-462d-a762-92e550cbdc25-c011"
   ]
  },
  {
   "cell_type": "code",
   "execution_count": 13,
   "id": "8b5eecd9",
   "metadata": {},
   "outputs": [],
   "source": [
    "!hadoop fs -cp  hdfs://m01.itversity.com:9000/user/itv001389/warehouse/raj.db/order_csv/part-00000-1ab13468-79cd-462d-a762-92e550cbdc25-c000  hdfs://m01.itversity.com:9000/user/itv001389/warehouse/raj.db/order_csv/part-00000-1ab13468-79cd-462d-a762-92e550cbdc25-c012"
   ]
  },
  {
   "cell_type": "code",
   "execution_count": 14,
   "id": "c5197b53",
   "metadata": {},
   "outputs": [],
   "source": [
    "!hadoop fs -cp  hdfs://m01.itversity.com:9000/user/itv001389/warehouse/raj.db/order_csv/part-00000-1ab13468-79cd-462d-a762-92e550cbdc25-c000  hdfs://m01.itversity.com:9000/user/itv001389/warehouse/raj.db/order_csv/part-00000-1ab13468-79cd-462d-a762-92e550cbdc25-c013"
   ]
  },
  {
   "cell_type": "code",
   "execution_count": 15,
   "id": "fb3976fc",
   "metadata": {},
   "outputs": [],
   "source": [
    "!hadoop fs -cp  hdfs://m01.itversity.com:9000/user/itv001389/warehouse/raj.db/order_csv/part-00000-1ab13468-79cd-462d-a762-92e550cbdc25-c000  hdfs://m01.itversity.com:9000/user/itv001389/warehouse/raj.db/order_csv/part-00000-1ab13468-79cd-462d-a762-92e550cbdc25-c014"
   ]
  },
  {
   "cell_type": "code",
   "execution_count": 16,
   "id": "b0ffda73",
   "metadata": {},
   "outputs": [],
   "source": [
    "!hadoop fs -cp  hdfs://m01.itversity.com:9000/user/itv001389/warehouse/raj.db/order_csv/part-00000-1ab13468-79cd-462d-a762-92e550cbdc25-c000  hdfs://m01.itversity.com:9000/user/itv001389/warehouse/raj.db/order_csv/part-00000-1ab13468-79cd-462d-a762-92e550cbdc25-c015"
   ]
  },
  {
   "cell_type": "code",
   "execution_count": 17,
   "id": "06745cfa",
   "metadata": {},
   "outputs": [
    {
     "name": "stdout",
     "output_type": "stream",
     "text": [
      "Found 16 items\n",
      "-rwxr-xr-x   3 itv001389 supergroup    2862178 2021-10-17 05:41 hdfs://m01.itversity.com:9000/user/itv001389/warehouse/raj.db/order_csv/part-00000-1ab13468-79cd-462d-a762-92e550cbdc25-c000\n",
      "-rw-r--r--   3 itv001389 supergroup    2862178 2021-10-17 05:45 hdfs://m01.itversity.com:9000/user/itv001389/warehouse/raj.db/order_csv/part-00000-1ab13468-79cd-462d-a762-92e550cbdc25-c001\n",
      "-rw-r--r--   3 itv001389 supergroup    2862178 2021-10-17 05:46 hdfs://m01.itversity.com:9000/user/itv001389/warehouse/raj.db/order_csv/part-00000-1ab13468-79cd-462d-a762-92e550cbdc25-c002\n",
      "-rw-r--r--   3 itv001389 supergroup    2862178 2021-10-17 05:46 hdfs://m01.itversity.com:9000/user/itv001389/warehouse/raj.db/order_csv/part-00000-1ab13468-79cd-462d-a762-92e550cbdc25-c003\n",
      "-rw-r--r--   3 itv001389 supergroup    2862178 2021-10-17 05:46 hdfs://m01.itversity.com:9000/user/itv001389/warehouse/raj.db/order_csv/part-00000-1ab13468-79cd-462d-a762-92e550cbdc25-c004\n",
      "-rw-r--r--   3 itv001389 supergroup    2862178 2021-10-17 05:46 hdfs://m01.itversity.com:9000/user/itv001389/warehouse/raj.db/order_csv/part-00000-1ab13468-79cd-462d-a762-92e550cbdc25-c005\n",
      "-rw-r--r--   3 itv001389 supergroup    2862178 2021-10-17 05:46 hdfs://m01.itversity.com:9000/user/itv001389/warehouse/raj.db/order_csv/part-00000-1ab13468-79cd-462d-a762-92e550cbdc25-c006\n",
      "-rw-r--r--   3 itv001389 supergroup    2862178 2021-10-17 05:46 hdfs://m01.itversity.com:9000/user/itv001389/warehouse/raj.db/order_csv/part-00000-1ab13468-79cd-462d-a762-92e550cbdc25-c007\n",
      "-rw-r--r--   3 itv001389 supergroup    2862178 2021-10-17 05:47 hdfs://m01.itversity.com:9000/user/itv001389/warehouse/raj.db/order_csv/part-00000-1ab13468-79cd-462d-a762-92e550cbdc25-c008\n",
      "-rw-r--r--   3 itv001389 supergroup    2862178 2021-10-17 05:47 hdfs://m01.itversity.com:9000/user/itv001389/warehouse/raj.db/order_csv/part-00000-1ab13468-79cd-462d-a762-92e550cbdc25-c009\n",
      "-rw-r--r--   3 itv001389 supergroup    2862178 2021-10-17 05:47 hdfs://m01.itversity.com:9000/user/itv001389/warehouse/raj.db/order_csv/part-00000-1ab13468-79cd-462d-a762-92e550cbdc25-c010\n",
      "-rw-r--r--   3 itv001389 supergroup    2862178 2021-10-17 05:47 hdfs://m01.itversity.com:9000/user/itv001389/warehouse/raj.db/order_csv/part-00000-1ab13468-79cd-462d-a762-92e550cbdc25-c011\n",
      "-rw-r--r--   3 itv001389 supergroup    2862178 2021-10-17 05:47 hdfs://m01.itversity.com:9000/user/itv001389/warehouse/raj.db/order_csv/part-00000-1ab13468-79cd-462d-a762-92e550cbdc25-c012\n",
      "-rw-r--r--   3 itv001389 supergroup    2862178 2021-10-17 05:47 hdfs://m01.itversity.com:9000/user/itv001389/warehouse/raj.db/order_csv/part-00000-1ab13468-79cd-462d-a762-92e550cbdc25-c013\n",
      "-rw-r--r--   3 itv001389 supergroup    2862178 2021-10-17 05:47 hdfs://m01.itversity.com:9000/user/itv001389/warehouse/raj.db/order_csv/part-00000-1ab13468-79cd-462d-a762-92e550cbdc25-c014\n",
      "-rw-r--r--   3 itv001389 supergroup    2862178 2021-10-17 05:48 hdfs://m01.itversity.com:9000/user/itv001389/warehouse/raj.db/order_csv/part-00000-1ab13468-79cd-462d-a762-92e550cbdc25-c015\n"
     ]
    }
   ],
   "source": [
    "!hadoop fs -ls hdfs://m01.itversity.com:9000/user/itv001389/warehouse/raj.db/order_csv"
   ]
  },
  {
   "cell_type": "code",
   "execution_count": 4,
   "id": "6f982e7b",
   "metadata": {},
   "outputs": [
    {
     "name": "stdout",
     "output_type": "stream",
     "text": [
      "+--------+\n",
      "|count(1)|\n",
      "+--------+\n",
      "| 1102128|\n",
      "+--------+\n",
      "\n"
     ]
    }
   ],
   "source": [
    "spark.sql(\"select count(*) from Raj.orders_smallfile\").show()"
   ]
  },
  {
   "cell_type": "code",
   "execution_count": 6,
   "id": "9becfe64",
   "metadata": {},
   "outputs": [
    {
     "data": {
      "text/plain": [
       "lastException: Throwable = null\n"
      ]
     },
     "metadata": {},
     "output_type": "display_data",
     "source": "user"
    },
    {
     "data": {
      "text/plain": [
       "[]"
      ]
     },
     "execution_count": 6,
     "metadata": {},
     "output_type": "execute_result"
    }
   ],
   "source": [
    "spark.sql(\"create table Raj.orders_seq(order_id int,order_date timestamp,order_product_id int,order_status string) stored as sequencefile\")"
   ]
  },
  {
   "cell_type": "code",
   "execution_count": 5,
   "id": "d5c9accc",
   "metadata": {},
   "outputs": [
    {
     "data": {
      "text/plain": [
       "[]"
      ]
     },
     "execution_count": 5,
     "metadata": {},
     "output_type": "execute_result"
    }
   ],
   "source": [
    "spark.sql(\"insert into table Raj.orders_seq select * from Raj.orders_smallfile\")"
   ]
  },
  {
   "cell_type": "code",
   "execution_count": 7,
   "id": "a5e994c9",
   "metadata": {},
   "outputs": [
    {
     "name": "stdout",
     "output_type": "stream",
     "text": [
      "+-------------------------------------------------------------------------------------------------------------------------------------------------------------------------------------------------------------------------------------------------------------------------------------------------------------------------------------------------------------------------------------------------------------------------------------------------------------------------------------------------------------------------------------------------------------------------------------------------------------------------------------+\n",
      "|createtab_stmt                                                                                                                                                                                                                                                                                                                                                                                                                                                                                                                                                                                                                       |\n",
      "+-------------------------------------------------------------------------------------------------------------------------------------------------------------------------------------------------------------------------------------------------------------------------------------------------------------------------------------------------------------------------------------------------------------------------------------------------------------------------------------------------------------------------------------------------------------------------------------------------------------------------------------+\n",
      "|CREATE EXTERNAL TABLE `Raj`.`orders_smallfile`(`order_id` INT, `order_date` TIMESTAMP, `order_product_id` INT, `order_status` STRING)\n",
      "ROW FORMAT SERDE 'org.apache.hadoop.hive.serde2.lazy.LazySimpleSerDe'\n",
      "WITH SERDEPROPERTIES (\n",
      "  'field.delim' = ',',\n",
      "  'serialization.format' = ','\n",
      ")\n",
      "STORED AS\n",
      "  INPUTFORMAT 'org.apache.hadoop.mapred.TextInputFormat'\n",
      "  OUTPUTFORMAT 'org.apache.hadoop.hive.ql.io.HiveIgnoreKeyTextOutputFormat'\n",
      "LOCATION 'hdfs://m01.itversity.com:9000/user/itv001389/warehouse/raj.db/order_csv'\n",
      "TBLPROPERTIES (\n",
      "  'transient_lastDdlTime' = '1634463692',\n",
      "  'STATS_GENERATED_VIA_STATS_TASK' = 'true'\n",
      ")\n",
      "|\n",
      "+-------------------------------------------------------------------------------------------------------------------------------------------------------------------------------------------------------------------------------------------------------------------------------------------------------------------------------------------------------------------------------------------------------------------------------------------------------------------------------------------------------------------------------------------------------------------------------------------------------------------------------------+\n",
      "\n"
     ]
    }
   ],
   "source": [
    "spark.sql(\"show create table Raj.orders_smallfile\").show(false)"
   ]
  },
  {
   "cell_type": "code",
   "execution_count": 6,
   "id": "2f0244e4",
   "metadata": {},
   "outputs": [
    {
     "name": "stdout",
     "output_type": "stream",
     "text": [
      "+--------+\n",
      "|count(1)|\n",
      "+--------+\n",
      "| 2204256|\n",
      "+--------+\n",
      "\n"
     ]
    }
   ],
   "source": [
    "spark.sql(\"select count(*) from Raj.orders_seq\").show()"
   ]
  },
  {
   "cell_type": "code",
   "execution_count": 9,
   "id": "16e8d25a",
   "metadata": {},
   "outputs": [
    {
     "name": "stdout",
     "output_type": "stream",
     "text": [
      "+----------------------------+------------------------------------------------------------------------+-------+\n",
      "|col_name                    |data_type                                                               |comment|\n",
      "+----------------------------+------------------------------------------------------------------------+-------+\n",
      "|order_id                    |int                                                                     |null   |\n",
      "|order_date                  |timestamp                                                               |null   |\n",
      "|order_product_id            |int                                                                     |null   |\n",
      "|order_status                |string                                                                  |null   |\n",
      "|                            |                                                                        |       |\n",
      "|# Detailed Table Information|                                                                        |       |\n",
      "|Database                    |raj                                                                     |       |\n",
      "|Table                       |orders_seq                                                              |       |\n",
      "|Owner                       |itv001389                                                               |       |\n",
      "|Created Time                |Sun Oct 17 05:55:08 EDT 2021                                            |       |\n",
      "|Last Access                 |Wed Dec 31 19:00:00 EST 1969                                            |       |\n",
      "|Created By                  |Spark 2.4.7                                                             |       |\n",
      "|Type                        |MANAGED                                                                 |       |\n",
      "|Provider                    |hive                                                                    |       |\n",
      "|Table Properties            |[transient_lastDdlTime=1634464567, STATS_GENERATED_VIA_STATS_TASK=true] |       |\n",
      "|Statistics                  |59603856 bytes                                                          |       |\n",
      "|Location                    |hdfs://m01.itversity.com:9000/user/itv001389/warehouse/raj.db/orders_seq|       |\n",
      "|Serde Library               |org.apache.hadoop.hive.serde2.lazy.LazySimpleSerDe                      |       |\n",
      "|InputFormat                 |org.apache.hadoop.mapred.SequenceFileInputFormat                        |       |\n",
      "|OutputFormat                |org.apache.hadoop.mapred.SequenceFileOutputFormat                       |       |\n",
      "+----------------------------+------------------------------------------------------------------------+-------+\n",
      "only showing top 20 rows\n",
      "\n"
     ]
    }
   ],
   "source": [
    "spark.sql(\"describe formatted Raj.orders_seq\").show(false)"
   ]
  },
  {
   "cell_type": "code",
   "execution_count": 4,
   "id": "19753de6",
   "metadata": {},
   "outputs": [
    {
     "name": "stdout",
     "output_type": "stream",
     "text": [
      "+-----------------------------------------------------------------------------------------------------------------------------------------------------------------------------------------------------------------------------------------------------------------------------------------------------------------------------------------------------------------------------------------------------------------------------------------------------------------------------------------------------------+\n",
      "|createtab_stmt                                                                                                                                                                                                                                                                                                                                                                                                                                                                                             |\n",
      "+-----------------------------------------------------------------------------------------------------------------------------------------------------------------------------------------------------------------------------------------------------------------------------------------------------------------------------------------------------------------------------------------------------------------------------------------------------------------------------------------------------------+\n",
      "|CREATE TABLE `Raj`.`orders_seq`(`order_id` INT, `order_date` TIMESTAMP, `order_product_id` INT, `order_status` STRING)\n",
      "ROW FORMAT SERDE 'org.apache.hadoop.hive.serde2.lazy.LazySimpleSerDe'\n",
      "WITH SERDEPROPERTIES (\n",
      "  'serialization.format' = '1'\n",
      ")\n",
      "STORED AS\n",
      "  INPUTFORMAT 'org.apache.hadoop.mapred.SequenceFileInputFormat'\n",
      "  OUTPUTFORMAT 'org.apache.hadoop.mapred.SequenceFileOutputFormat'\n",
      "TBLPROPERTIES (\n",
      "  'transient_lastDdlTime' = '1634464567',\n",
      "  'STATS_GENERATED_VIA_STATS_TASK' = 'true'\n",
      ")\n",
      "|\n",
      "+-----------------------------------------------------------------------------------------------------------------------------------------------------------------------------------------------------------------------------------------------------------------------------------------------------------------------------------------------------------------------------------------------------------------------------------------------------------------------------------------------------------+\n",
      "\n"
     ]
    }
   ],
   "source": [
    "spark.sql(\"show create table Raj.orders_seq\").show(false)"
   ]
  },
  {
   "cell_type": "code",
   "execution_count": 2,
   "id": "defc6a86",
   "metadata": {},
   "outputs": [
    {
     "name": "stdout",
     "output_type": "stream",
     "text": [
      "33\n"
     ]
    }
   ],
   "source": [
    "!hadoop fs -ls hdfs://m01.itversity.com:9000/user/itv001389/warehouse/raj.db/orders_seq|wc -l "
   ]
  },
  {
   "cell_type": "code",
   "execution_count": null,
   "id": "dfb0d87e",
   "metadata": {},
   "outputs": [],
   "source": []
  }
 ],
 "metadata": {
  "kernelspec": {
   "display_name": "Spark 2 - Scala",
   "language": "scala",
   "name": "spark_2_scala"
  },
  "language_info": {
   "codemirror_mode": "text/x-scala",
   "file_extension": ".scala",
   "mimetype": "text/x-scala",
   "name": "scala",
   "pygments_lexer": "scala",
   "version": "2.11.12"
  }
 },
 "nbformat": 4,
 "nbformat_minor": 5
}
