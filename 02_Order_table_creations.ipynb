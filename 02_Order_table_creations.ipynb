{
 "cells": [
  {
   "cell_type": "markdown",
   "id": "2d11f171",
   "metadata": {},
   "source": [
    "#### In this notebook, I will workout of different ways of table creation and loading strategies "
   ]
  },
  {
   "cell_type": "markdown",
   "id": "689d07f1",
   "metadata": {},
   "source": [
    "#### creating table with orc format"
   ]
  },
  {
   "cell_type": "code",
   "execution_count": 82,
   "id": "fc2f18b2",
   "metadata": {},
   "outputs": [
    {
     "data": {
      "text/plain": [
       "lastException: Throwable = null\n"
      ]
     },
     "metadata": {},
     "output_type": "display_data",
     "source": "user"
    }
   ],
   "source": [
    "import org.apache.spark.sql.SparkSession\n"
   ]
  },
  {
   "cell_type": "code",
   "execution_count": 83,
   "id": "e7ac0a3c",
   "metadata": {},
   "outputs": [
    {
     "data": {
      "text/plain": [
       "spark = org.apache.spark.sql.SparkSession@7acb4298\n"
      ]
     },
     "metadata": {},
     "output_type": "display_data",
     "source": "user"
    },
    {
     "data": {
      "text/plain": [
       "org.apache.spark.sql.SparkSession@7acb4298"
      ]
     },
     "execution_count": 83,
     "metadata": {},
     "output_type": "execute_result"
    }
   ],
   "source": [
    "val spark = SparkSession.\n",
    "    builder.\n",
    "    config(\"spark.ui.port\", \"0\").\n",
    "    config(\"spark.sql.warehouse.dir\", \"/user/itv001389/warehouse\").\n",
    "    enableHiveSupport.\n",
    "    master(\"yarn\").\n",
    "    appName(\"Getting Started - Spark with Scala\").\n",
    "    getOrCreate"
   ]
  },
  {
   "cell_type": "code",
   "execution_count": 20,
   "id": "85bd697e",
   "metadata": {},
   "outputs": [
    {
     "data": {
      "text/plain": [
       "[]"
      ]
     },
     "execution_count": 20,
     "metadata": {},
     "output_type": "execute_result"
    }
   ],
   "source": [
    "spark.sql(\"create database Raj\")"
   ]
  },
  {
   "cell_type": "code",
   "execution_count": 22,
   "id": "6d9d72b4",
   "metadata": {},
   "outputs": [
    {
     "data": {
      "text/plain": [
       "lastException: Throwable = null\n"
      ]
     },
     "metadata": {},
     "output_type": "display_data",
     "source": "user"
    },
    {
     "data": {
      "text/plain": [
       "[]"
      ]
     },
     "execution_count": 22,
     "metadata": {},
     "output_type": "execute_result"
    }
   ],
   "source": [
    "spark.sql(\"use Raj\")"
   ]
  },
  {
   "cell_type": "code",
   "execution_count": 23,
   "id": "27529113",
   "metadata": {},
   "outputs": [
    {
     "data": {
      "text/plain": [
       "df = [order_id: int, Order_date: timestamp ... 2 more fields]\n"
      ]
     },
     "metadata": {},
     "output_type": "display_data",
     "source": "user"
    },
    {
     "data": {
      "text/plain": [
       "[order_id: int, Order_date: timestamp ... 2 more fields]"
      ]
     },
     "execution_count": 23,
     "metadata": {},
     "output_type": "execute_result"
    }
   ],
   "source": [
    "val df = spark.read.format(\"csv\").schema(\"order_id int ,Order_date timestamp ,Order_product_id int ,Order_status string\")\n",
    ".load(\"hdfs://m01.itversity.com:9000/user/itv001389/retail_db/orders\")"
   ]
  },
  {
   "cell_type": "code",
   "execution_count": 24,
   "id": "f1e22d9a",
   "metadata": {},
   "outputs": [],
   "source": [
    "df.write.saveAsTable(\"Raj.Orders\")"
   ]
  },
  {
   "cell_type": "code",
   "execution_count": 25,
   "id": "1ad0176c",
   "metadata": {},
   "outputs": [
    {
     "data": {
      "text/plain": [
       "df1 = [order_item_id: int, order_item_order_id: int ... 4 more fields]\n"
      ]
     },
     "metadata": {},
     "output_type": "display_data",
     "source": "user"
    },
    {
     "data": {
      "text/plain": [
       "[order_item_id: int, order_item_order_id: int ... 4 more fields]"
      ]
     },
     "execution_count": 25,
     "metadata": {},
     "output_type": "execute_result"
    }
   ],
   "source": [
    "val df1 = spark.read.format(\"csv\").schema(\"order_item_id int,order_item_order_id int,order_item_product_id int,order_item_quantity int,order_item_subtotal decimal(17,4),order_item_product_price decimal(17,4)\")\n",
    ".load(\"hdfs://m01.itversity.com:9000/user/itv001389/retail_db/order_items\")"
   ]
  },
  {
   "cell_type": "code",
   "execution_count": 26,
   "id": "a240bb7d",
   "metadata": {},
   "outputs": [],
   "source": [
    "df1.write.saveAsTable(\"Raj.Order_items\")"
   ]
  },
  {
   "cell_type": "code",
   "execution_count": 28,
   "id": "961651a0",
   "metadata": {},
   "outputs": [
    {
     "name": "stdout",
     "output_type": "stream",
     "text": [
      "+--------+-----------+-----------+\n",
      "|database|  tableName|isTemporary|\n",
      "+--------+-----------+-----------+\n",
      "|     raj|order_items|      false|\n",
      "|     raj|     orders|      false|\n",
      "+--------+-----------+-----------+\n",
      "\n"
     ]
    }
   ],
   "source": [
    "spark.sql(\"show tables\").show()"
   ]
  },
  {
   "cell_type": "code",
   "execution_count": 84,
   "id": "271df0c8",
   "metadata": {},
   "outputs": [
    {
     "name": "stdout",
     "output_type": "stream",
     "text": [
      "+--------+-------------------+----------------+---------------+\n",
      "|order_id|         Order_date|Order_product_id|   Order_status|\n",
      "+--------+-------------------+----------------+---------------+\n",
      "|       1|2013-07-25 00:00:00|           11599|         CLOSED|\n",
      "|       2|2013-07-25 00:00:00|             256|PENDING_PAYMENT|\n",
      "|       3|2013-07-25 00:00:00|           12111|       COMPLETE|\n",
      "+--------+-------------------+----------------+---------------+\n",
      "\n"
     ]
    }
   ],
   "source": [
    "spark.sql(\"select * from Raj.Orders limit 3\").show()"
   ]
  },
  {
   "cell_type": "code",
   "execution_count": 33,
   "id": "c311adc7",
   "metadata": {},
   "outputs": [
    {
     "name": "stdout",
     "output_type": "stream",
     "text": [
      "+----------------------------+--------------------------------------------------------------------+-------+\n",
      "|col_name                    |data_type                                                           |comment|\n",
      "+----------------------------+--------------------------------------------------------------------+-------+\n",
      "|order_id                    |int                                                                 |null   |\n",
      "|Order_date                  |timestamp                                                           |null   |\n",
      "|Order_product_id            |int                                                                 |null   |\n",
      "|Order_status                |string                                                              |null   |\n",
      "|                            |                                                                    |       |\n",
      "|# Detailed Table Information|                                                                    |       |\n",
      "|Database                    |raj                                                                 |       |\n",
      "|Table                       |orders                                                              |       |\n",
      "|Owner                       |itv001389                                                           |       |\n",
      "|Created Time                |Sat Oct 16 03:39:18 EDT 2021                                        |       |\n",
      "|Last Access                 |Wed Dec 31 19:00:00 EST 1969                                        |       |\n",
      "|Created By                  |Spark 2.4.7                                                         |       |\n",
      "|Type                        |MANAGED                                                             |       |\n",
      "|Provider                    |parquet                                                             |       |\n",
      "|Table Properties            |[transient_lastDdlTime=1634369958]                                  |       |\n",
      "|Statistics                  |487493 bytes                                                        |       |\n",
      "|Location                    |hdfs://m01.itversity.com:9000/user/itv001389/warehouse/raj.db/orders|       |\n",
      "|Serde Library               |org.apache.hadoop.hive.ql.io.parquet.serde.ParquetHiveSerDe         |       |\n",
      "|InputFormat                 |org.apache.hadoop.hive.ql.io.parquet.MapredParquetInputFormat       |       |\n",
      "|OutputFormat                |org.apache.hadoop.hive.ql.io.parquet.MapredParquetOutputFormat      |       |\n",
      "+----------------------------+--------------------------------------------------------------------+-------+\n",
      "only showing top 20 rows\n",
      "\n"
     ]
    }
   ],
   "source": [
    "spark.sql(\"describe formatted Raj.Orders\").show(false)"
   ]
  },
  {
   "cell_type": "code",
   "execution_count": 34,
   "id": "280b447a",
   "metadata": {},
   "outputs": [
    {
     "name": "stdout",
     "output_type": "stream",
     "text": [
      "+-------------+-------------------+---------------------+-------------------+-------------------+------------------------+\n",
      "|order_item_id|order_item_order_id|order_item_product_id|order_item_quantity|order_item_subtotal|order_item_product_price|\n",
      "+-------------+-------------------+---------------------+-------------------+-------------------+------------------------+\n",
      "|            1|                  1|                  957|                  1|           299.9800|                299.9800|\n",
      "|            2|                  2|                 1073|                  1|           199.9900|                199.9900|\n",
      "|            3|                  2|                  502|                  5|           250.0000|                 50.0000|\n",
      "+-------------+-------------------+---------------------+-------------------+-------------------+------------------------+\n",
      "\n"
     ]
    }
   ],
   "source": [
    "spark.sql(\"select * from Raj.Order_items limit 3\").show()"
   ]
  },
  {
   "cell_type": "code",
   "execution_count": 35,
   "id": "890ca1ca",
   "metadata": {},
   "outputs": [
    {
     "name": "stdout",
     "output_type": "stream",
     "text": [
      "+----------------------------+-------------------------------------------------------------------------+-------+\n",
      "|col_name                    |data_type                                                                |comment|\n",
      "+----------------------------+-------------------------------------------------------------------------+-------+\n",
      "|order_item_id               |int                                                                      |null   |\n",
      "|order_item_order_id         |int                                                                      |null   |\n",
      "|order_item_product_id       |int                                                                      |null   |\n",
      "|order_item_quantity         |int                                                                      |null   |\n",
      "|order_item_subtotal         |decimal(17,4)                                                            |null   |\n",
      "|order_item_product_price    |decimal(17,4)                                                            |null   |\n",
      "|                            |                                                                         |       |\n",
      "|# Detailed Table Information|                                                                         |       |\n",
      "|Database                    |raj                                                                      |       |\n",
      "|Table                       |order_items                                                              |       |\n",
      "|Owner                       |itv001389                                                                |       |\n",
      "|Created Time                |Sat Oct 16 03:39:50 EDT 2021                                             |       |\n",
      "|Last Access                 |Wed Dec 31 19:00:00 EST 1969                                             |       |\n",
      "|Created By                  |Spark 2.4.7                                                              |       |\n",
      "|Type                        |MANAGED                                                                  |       |\n",
      "|Provider                    |parquet                                                                  |       |\n",
      "|Table Properties            |[transient_lastDdlTime=1634369990]                                       |       |\n",
      "|Statistics                  |1619257 bytes                                                            |       |\n",
      "|Location                    |hdfs://m01.itversity.com:9000/user/itv001389/warehouse/raj.db/order_items|       |\n",
      "|Serde Library               |org.apache.hadoop.hive.ql.io.parquet.serde.ParquetHiveSerDe              |       |\n",
      "+----------------------------+-------------------------------------------------------------------------+-------+\n",
      "only showing top 20 rows\n",
      "\n"
     ]
    }
   ],
   "source": [
    "spark.sql(\"describe formatted Raj.Order_items\").show(false)"
   ]
  },
  {
   "cell_type": "markdown",
   "id": "bc1be51e",
   "metadata": {},
   "source": [
    "#### Creating Hive table using ORC format\n",
    "\n",
    "##### ORC and Parquet are the best file formats in Hadoop environment. They are columnar storage. By default this file formats have inbuilt intelligence because of predicate and projection pushdown\n",
    "\n",
    "##### For Eg : When we want to retrieve specific value then in this file formats it will go and directly get that particular value without scanning entire file "
   ]
  },
  {
   "cell_type": "code",
   "execution_count": 37,
   "id": "34f1c68a",
   "metadata": {},
   "outputs": [
    {
     "data": {
      "text/plain": [
       "[]"
      ]
     },
     "execution_count": 37,
     "metadata": {},
     "output_type": "execute_result"
    }
   ],
   "source": [
    "spark.sql(\"CREATE TABLE Raj.order_orc( Order_id int, Order_date timestamp, Order_product_id int, order_status STRING) stored as orc location 'hdfs://m01.itversity.com:9000/user/itv001389/warehouse/raj.db/order_orc'\")"
   ]
  },
  {
   "cell_type": "code",
   "execution_count": 38,
   "id": "e689943d",
   "metadata": {},
   "outputs": [
    {
     "name": "stdout",
     "output_type": "stream",
     "text": [
      "+--------+----------+----------------+------------+\n",
      "|Order_id|Order_date|Order_product_id|order_status|\n",
      "+--------+----------+----------------+------------+\n",
      "+--------+----------+----------------+------------+\n",
      "\n"
     ]
    }
   ],
   "source": [
    "spark.sql(\"select * from Raj.order_orc limit 5\").show(false)"
   ]
  },
  {
   "cell_type": "markdown",
   "id": "03328045",
   "metadata": {},
   "source": [
    "#### Loading data into orc table"
   ]
  },
  {
   "cell_type": "code",
   "execution_count": 45,
   "id": "e05bbf6c",
   "metadata": {},
   "outputs": [
    {
     "data": {
      "text/plain": [
       "lastException: Throwable = null\n"
      ]
     },
     "metadata": {},
     "output_type": "display_data",
     "source": "user"
    },
    {
     "data": {
      "text/plain": [
       "[]"
      ]
     },
     "execution_count": 45,
     "metadata": {},
     "output_type": "execute_result"
    }
   ],
   "source": [
    "spark.sql(\"insert overwrite  table Raj.order_orc select * from  Raj.Orders\")"
   ]
  },
  {
   "cell_type": "code",
   "execution_count": 108,
   "id": "c02fbd39",
   "metadata": {},
   "outputs": [
    {
     "name": "stdout",
     "output_type": "stream",
     "text": [
      "+----------------------------+--------------------------------------------------------------------+-------+\n",
      "|col_name                    |data_type                                                           |comment|\n",
      "+----------------------------+--------------------------------------------------------------------+-------+\n",
      "|order_id                    |int                                                                 |null   |\n",
      "|Order_date                  |timestamp                                                           |null   |\n",
      "|Order_product_id            |int                                                                 |null   |\n",
      "|Order_status                |string                                                              |null   |\n",
      "|                            |                                                                    |       |\n",
      "|# Detailed Table Information|                                                                    |       |\n",
      "|Database                    |raj                                                                 |       |\n",
      "|Table                       |orders                                                              |       |\n",
      "|Owner                       |itv001389                                                           |       |\n",
      "|Created Time                |Sat Oct 16 03:39:18 EDT 2021                                        |       |\n",
      "|Last Access                 |Wed Dec 31 19:00:00 EST 1969                                        |       |\n",
      "|Created By                  |Spark 2.4.7                                                         |       |\n",
      "|Type                        |MANAGED                                                             |       |\n",
      "|Provider                    |parquet                                                             |       |\n",
      "|Table Properties            |[transient_lastDdlTime=1634369958]                                  |       |\n",
      "|Statistics                  |487493 bytes                                                        |       |\n",
      "|Location                    |hdfs://m01.itversity.com:9000/user/itv001389/warehouse/raj.db/orders|       |\n",
      "|Serde Library               |org.apache.hadoop.hive.ql.io.parquet.serde.ParquetHiveSerDe         |       |\n",
      "|InputFormat                 |org.apache.hadoop.hive.ql.io.parquet.MapredParquetInputFormat       |       |\n",
      "|OutputFormat                |org.apache.hadoop.hive.ql.io.parquet.MapredParquetOutputFormat      |       |\n",
      "+----------------------------+--------------------------------------------------------------------+-------+\n",
      "only showing top 20 rows\n",
      "\n"
     ]
    }
   ],
   "source": [
    "spark.sql(\"describe formatted Raj.Orders\").show(false)"
   ]
  },
  {
   "cell_type": "code",
   "execution_count": 46,
   "id": "24f04341",
   "metadata": {},
   "outputs": [
    {
     "name": "stdout",
     "output_type": "stream",
     "text": [
      "+--------+\n",
      "|count(1)|\n",
      "+--------+\n",
      "|   68883|\n",
      "+--------+\n",
      "\n"
     ]
    }
   ],
   "source": [
    "spark.sql(\"select count(*) from Raj.order_orc\").show()"
   ]
  },
  {
   "cell_type": "code",
   "execution_count": 47,
   "id": "faac57d9",
   "metadata": {},
   "outputs": [
    {
     "name": "stdout",
     "output_type": "stream",
     "text": [
      "+--------+-------------------+----------------+---------------+\n",
      "|Order_id|         Order_date|Order_product_id|   order_status|\n",
      "+--------+-------------------+----------------+---------------+\n",
      "|       1|2013-07-25 00:00:00|           11599|         CLOSED|\n",
      "|       2|2013-07-25 00:00:00|             256|PENDING_PAYMENT|\n",
      "+--------+-------------------+----------------+---------------+\n",
      "\n"
     ]
    }
   ],
   "source": [
    "spark.sql(\"select * from Raj.order_orc limit 2\").show()"
   ]
  },
  {
   "cell_type": "code",
   "execution_count": 104,
   "id": "ad9ea97e",
   "metadata": {},
   "outputs": [
    {
     "name": "stdout",
     "output_type": "stream",
     "text": [
      "+----------------------------+-----------------------------------------------------------------------+-------+\n",
      "|col_name                    |data_type                                                              |comment|\n",
      "+----------------------------+-----------------------------------------------------------------------+-------+\n",
      "|Order_id                    |int                                                                    |null   |\n",
      "|Order_date                  |timestamp                                                              |null   |\n",
      "|Order_product_id            |int                                                                    |null   |\n",
      "|order_status                |string                                                                 |null   |\n",
      "|                            |                                                                       |       |\n",
      "|# Detailed Table Information|                                                                       |       |\n",
      "|Database                    |raj                                                                    |       |\n",
      "|Table                       |order_orc                                                              |       |\n",
      "|Owner                       |itv001389                                                              |       |\n",
      "|Created Time                |Sat Oct 16 03:55:31 EDT 2021                                           |       |\n",
      "|Last Access                 |Wed Dec 31 19:00:00 EST 1969                                           |       |\n",
      "|Created By                  |Spark 2.4.7                                                            |       |\n",
      "|Type                        |EXTERNAL                                                               |       |\n",
      "|Provider                    |hive                                                                   |       |\n",
      "|Table Properties            |[transient_lastDdlTime=1634371281]                                     |       |\n",
      "|Statistics                  |186175 bytes                                                           |       |\n",
      "|Location                    |hdfs://m01.itversity.com:9000/user/itv001389/warehouse/raj.db/order_orc|       |\n",
      "|Serde Library               |org.apache.hadoop.hive.ql.io.orc.OrcSerde                              |       |\n",
      "|InputFormat                 |org.apache.hadoop.hive.ql.io.orc.OrcInputFormat                        |       |\n",
      "|OutputFormat                |org.apache.hadoop.hive.ql.io.orc.OrcOutputFormat                       |       |\n",
      "+----------------------------+-----------------------------------------------------------------------+-------+\n",
      "only showing top 20 rows\n",
      "\n"
     ]
    }
   ],
   "source": [
    "spark.sql(\"describe formatted Raj.order_orc\").show(false)"
   ]
  },
  {
   "cell_type": "markdown",
   "id": "e8d613fc",
   "metadata": {},
   "source": [
    "#### CTAS(Create Table As Select)"
   ]
  },
  {
   "cell_type": "code",
   "execution_count": null,
   "id": "b60e5c1d",
   "metadata": {},
   "outputs": [],
   "source": [
    "spark.sql(\"create table Raj.order_parq1 as select * from Raj.Orders\")"
   ]
  },
  {
   "cell_type": "markdown",
   "id": "7253b7fb",
   "metadata": {},
   "source": [
    "## Table properties"
   ]
  },
  {
   "cell_type": "markdown",
   "id": "fdb28e2f",
   "metadata": {},
   "source": [
    "##### Converting managed table to external table using property"
   ]
  },
  {
   "cell_type": "code",
   "execution_count": null,
   "id": "82960dba",
   "metadata": {},
   "outputs": [],
   "source": [
    "spark.sql(\"alter table Raj.order_orc SET TBLPROPERTIES('EXTERNAL'='TRUE')\")"
   ]
  },
  {
   "cell_type": "markdown",
   "id": "bdf0c745",
   "metadata": {},
   "source": [
    "##### Creating a table by using skipping header property"
   ]
  },
  {
   "cell_type": "code",
   "execution_count": 95,
   "id": "e9d97507",
   "metadata": {},
   "outputs": [
    {
     "data": {
      "text/plain": [
       "[]"
      ]
     },
     "execution_count": 95,
     "metadata": {},
     "output_type": "execute_result"
    }
   ],
   "source": [
    "spark.sql(\"create table Raj.order_skip_header3(order_id int,order_date timestamp,order_product_id int,order_status string) stored as parquet location 'hdfs://m01.itversity.com:9000/user/itv001389/warehouse/raj.db/orders' TBLPROPERTIES('skip.header.line.count'='100') \")"
   ]
  },
  {
   "cell_type": "code",
   "execution_count": 90,
   "id": "4f142f1f",
   "metadata": {},
   "outputs": [
    {
     "name": "stdout",
     "output_type": "stream",
     "text": [
      "+----------------------------+--------------------------------------------------------------------+-------+\n",
      "|col_name                    |data_type                                                           |comment|\n",
      "+----------------------------+--------------------------------------------------------------------+-------+\n",
      "|order_id                    |int                                                                 |null   |\n",
      "|Order_date                  |timestamp                                                           |null   |\n",
      "|Order_product_id            |int                                                                 |null   |\n",
      "|Order_status                |string                                                              |null   |\n",
      "|                            |                                                                    |       |\n",
      "|# Detailed Table Information|                                                                    |       |\n",
      "|Database                    |raj                                                                 |       |\n",
      "|Table                       |orders                                                              |       |\n",
      "|Owner                       |itv001389                                                           |       |\n",
      "|Created Time                |Sat Oct 16 03:39:18 EDT 2021                                        |       |\n",
      "|Last Access                 |Wed Dec 31 19:00:00 EST 1969                                        |       |\n",
      "|Created By                  |Spark 2.4.7                                                         |       |\n",
      "|Type                        |MANAGED                                                             |       |\n",
      "|Provider                    |parquet                                                             |       |\n",
      "|Table Properties            |[transient_lastDdlTime=1634369958]                                  |       |\n",
      "|Statistics                  |487493 bytes                                                        |       |\n",
      "|Location                    |hdfs://m01.itversity.com:9000/user/itv001389/warehouse/raj.db/orders|       |\n",
      "|Serde Library               |org.apache.hadoop.hive.ql.io.parquet.serde.ParquetHiveSerDe         |       |\n",
      "|InputFormat                 |org.apache.hadoop.hive.ql.io.parquet.MapredParquetInputFormat       |       |\n",
      "|OutputFormat                |org.apache.hadoop.hive.ql.io.parquet.MapredParquetOutputFormat      |       |\n",
      "+----------------------------+--------------------------------------------------------------------+-------+\n",
      "only showing top 20 rows\n",
      "\n"
     ]
    }
   ],
   "source": [
    "spark.sql(\"describe formatted Raj.Orders\").show(false)"
   ]
  },
  {
   "cell_type": "code",
   "execution_count": 96,
   "id": "36aabd5b",
   "metadata": {},
   "outputs": [
    {
     "name": "stdout",
     "output_type": "stream",
     "text": [
      "+--------+-------------------+----------------+---------------+\n",
      "|order_id|         order_date|order_product_id|   order_status|\n",
      "+--------+-------------------+----------------+---------------+\n",
      "|       1|2013-07-25 00:00:00|           11599|         CLOSED|\n",
      "|       2|2013-07-25 00:00:00|             256|PENDING_PAYMENT|\n",
      "+--------+-------------------+----------------+---------------+\n",
      "\n"
     ]
    }
   ],
   "source": [
    "spark.sql(\"select * from  Raj.order_skip_header3 limit 2\").show()"
   ]
  },
  {
   "cell_type": "code",
   "execution_count": 97,
   "id": "0edeecea",
   "metadata": {},
   "outputs": [
    {
     "name": "stdout",
     "output_type": "stream",
     "text": [
      "+--------+\n",
      "|count(1)|\n",
      "+--------+\n",
      "|   68883|\n",
      "+--------+\n",
      "\n"
     ]
    }
   ],
   "source": [
    "spark.sql(\"select count(*) from Raj.order_skip_header3 \").show()"
   ]
  },
  {
   "cell_type": "markdown",
   "id": "c7da74c5",
   "metadata": {},
   "source": [
    "#####   Creating a table by using immutable property\n",
    "##### Immutable property is used to avoid the duplicate data getting loaded into the table"
   ]
  },
  {
   "cell_type": "code",
   "execution_count": 70,
   "id": "edc077eb",
   "metadata": {},
   "outputs": [
    {
     "data": {
      "text/plain": [
       "[]"
      ]
     },
     "execution_count": 70,
     "metadata": {},
     "output_type": "execute_result"
    }
   ],
   "source": [
    "spark.sql(\"create table Raj.order_immu(order_id int,order_date timestamp,order_product_id int,order_status string) row format delimited fields terminated by ',' location 'hdfs://m01.itversity.com:9000/user/itv001389/warehouse/raj.db/order_imm' TBLPROPERTIES('immutable'='true') \")"
   ]
  },
  {
   "cell_type": "code",
   "execution_count": 102,
   "id": "485ec871",
   "metadata": {},
   "outputs": [
    {
     "data": {
      "text/plain": [
       "[]"
      ]
     },
     "execution_count": 102,
     "metadata": {},
     "output_type": "execute_result"
    }
   ],
   "source": [
    "spark.sql(\"insert into table Raj.order_immu select * from Raj.Orders\")"
   ]
  },
  {
   "cell_type": "code",
   "execution_count": null,
   "id": "d00e4537",
   "metadata": {},
   "outputs": [],
   "source": [
    "spark.sql(\"select count(*) from Raj.order_immu \").show()"
   ]
  },
  {
   "cell_type": "code",
   "execution_count": null,
   "id": "aebb4888",
   "metadata": {},
   "outputs": [],
   "source": [
    "spark.sql(\"select * from Orders limit 2\").show()"
   ]
  },
  {
   "cell_type": "markdown",
   "id": "5bbf2f76",
   "metadata": {},
   "source": [
    "#####    Creating a table using snappy compression "
   ]
  },
  {
   "cell_type": "code",
   "execution_count": 107,
   "id": "dafadace",
   "metadata": {},
   "outputs": [
    {
     "data": {
      "text/plain": [
       "lastException: Throwable = null\n"
      ]
     },
     "metadata": {},
     "output_type": "display_data",
     "source": "user"
    },
    {
     "data": {
      "text/plain": [
       "[]"
      ]
     },
     "execution_count": 107,
     "metadata": {},
     "output_type": "execute_result"
    }
   ],
   "source": [
    "spark.sql(\"create table Raj.order_snap(order_id int,order_date timestamp,order_product_id int,order_status string) stored as orc TBLPROPERTIES('compression'='snappy')\")"
   ]
  },
  {
   "cell_type": "code",
   "execution_count": null,
   "id": "37a299d4",
   "metadata": {},
   "outputs": [],
   "source": [
    "spark.sql(\"insert into table Raj.order_snap select * from Raj.Orders\").show(false)"
   ]
  },
  {
   "cell_type": "code",
   "execution_count": 110,
   "id": "ffacc2d2",
   "metadata": {},
   "outputs": [
    {
     "name": "stdout",
     "output_type": "stream",
     "text": [
      "+--------+\n",
      "|count(1)|\n",
      "+--------+\n",
      "|   68883|\n",
      "+--------+\n",
      "\n"
     ]
    }
   ],
   "source": [
    "spark.sql(\"select count(*) from Raj.order_snap \").show()"
   ]
  },
  {
   "cell_type": "code",
   "execution_count": 111,
   "id": "b81ada53",
   "metadata": {},
   "outputs": [
    {
     "name": "stdout",
     "output_type": "stream",
     "text": [
      "+--------+-------------------+----------------+---------------+\n",
      "|order_id|order_date         |order_product_id|order_status   |\n",
      "+--------+-------------------+----------------+---------------+\n",
      "|1       |2013-07-25 00:00:00|11599           |CLOSED         |\n",
      "|2       |2013-07-25 00:00:00|256             |PENDING_PAYMENT|\n",
      "|3       |2013-07-25 00:00:00|12111           |COMPLETE       |\n",
      "|4       |2013-07-25 00:00:00|8827            |CLOSED         |\n",
      "|5       |2013-07-25 00:00:00|11318           |COMPLETE       |\n",
      "+--------+-------------------+----------------+---------------+\n",
      "\n"
     ]
    }
   ],
   "source": [
    "spark.sql(\"select * from Raj.order_snap limit 5\").show(false)"
   ]
  },
  {
   "cell_type": "code",
   "execution_count": null,
   "id": "fa2df110",
   "metadata": {},
   "outputs": [],
   "source": []
  }
 ],
 "metadata": {
  "kernelspec": {
   "display_name": "Spark 2 - Scala",
   "language": "scala",
   "name": "spark_2_scala"
  },
  "language_info": {
   "codemirror_mode": "text/x-scala",
   "file_extension": ".scala",
   "mimetype": "text/x-scala",
   "name": "scala",
   "pygments_lexer": "scala",
   "version": "2.11.12"
  }
 },
 "nbformat": 4,
 "nbformat_minor": 5
}
