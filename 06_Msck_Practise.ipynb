{
 "cells": [
  {
   "cell_type": "code",
   "execution_count": 1,
   "id": "550584a2",
   "metadata": {},
   "outputs": [],
   "source": [
    "import org.apache.spark.sql.SparkSession"
   ]
  },
  {
   "cell_type": "code",
   "execution_count": 2,
   "id": "a55190be",
   "metadata": {},
   "outputs": [
    {
     "data": {
      "text/plain": [
       "spark = org.apache.spark.sql.SparkSession@2edeeda7\n"
      ]
     },
     "metadata": {},
     "output_type": "display_data",
     "source": "user"
    },
    {
     "data": {
      "text/plain": [
       "org.apache.spark.sql.SparkSession@2edeeda7"
      ]
     },
     "execution_count": 2,
     "metadata": {},
     "output_type": "execute_result"
    }
   ],
   "source": [
    "val spark = SparkSession.\n",
    "    builder.\n",
    "    config(\"spark.ui.port\", \"0\").\n",
    "    config(\"spark.sql.warehouse.dir\", \"/user/itv001389/warehouse\").\n",
    "    enableHiveSupport.\n",
    "    master(\"yarn\").\n",
    "    appName(\"Getting Started - Spark with Scala\").\n",
    "    getOrCreate"
   ]
  },
  {
   "cell_type": "code",
   "execution_count": 3,
   "id": "541af4b1",
   "metadata": {},
   "outputs": [
    {
     "data": {
      "text/plain": [
       "[]"
      ]
     },
     "execution_count": 3,
     "metadata": {},
     "output_type": "execute_result"
    }
   ],
   "source": [
    "spark.sql(\"use Raj\")"
   ]
  },
  {
   "cell_type": "code",
   "execution_count": 5,
   "id": "181b1783",
   "metadata": {},
   "outputs": [
    {
     "name": "stdout",
     "output_type": "stream",
     "text": [
      "+--------+------------------+-----------+\n",
      "|database|         tableName|isTemporary|\n",
      "+--------+------------------+-----------+\n",
      "|     raj|        order_immu|      false|\n",
      "|     raj|     orderitem_nor|      false|\n",
      "|     raj|     orderitem_orc|      false|\n",
      "|     raj|     orderitem_par|      false|\n",
      "|     raj|       order_items|      false|\n",
      "|     raj|  order_items_part|      false|\n",
      "|     raj|          order_oi|      false|\n",
      "|     raj|     order_oi_cast|      false|\n",
      "|     raj|    order_oi_cast1|      false|\n",
      "|     raj|     order_oi_part|      false|\n",
      "|     raj|    order_oi_part1|      false|\n",
      "|     raj|    order_oi_part2|      false|\n",
      "|     raj|   order_oi_partit|      false|\n",
      "|     raj|order_oi_partition|      false|\n",
      "|     raj|     order_oi_sum1|      false|\n",
      "|     raj|     order_oi_sum2|      false|\n",
      "|     raj|         order_orc|      false|\n",
      "|     raj|            orders|      false|\n",
      "|     raj| order_skip_header|      false|\n",
      "|     raj|order_skip_header1|      false|\n",
      "|     raj|order_skip_header2|      false|\n",
      "|     raj|order_skip_header3|      false|\n",
      "|     raj|        order_snap|      false|\n",
      "|     raj|       orders_part|      false|\n",
      "+--------+------------------+-----------+\n",
      "\n"
     ]
    }
   ],
   "source": [
    "spark.sql(\"show tables\").show(40)"
   ]
  },
  {
   "cell_type": "markdown",
   "id": "ea55481c",
   "metadata": {},
   "source": [
    "#####   Generally hive will store the partitions in the metastore.\n",
    "#####   If a new partition is added directly to HDFS through any external source then metastore will not be aware of the           new partitions added.\n",
    "#####   In this situation either we can use 'alter table tablename add partitions' command or\n",
    "#####   we can run 'Msck repair table tablename'.\n",
    "#####   Here,this will add the metastore to the partitions which were added directly to HDFS.\n",
    "#####   If the partitions are being added between the tables in hive then no need of using any of the above methods."
   ]
  },
  {
   "cell_type": "code",
   "execution_count": 19,
   "id": "7c422942",
   "metadata": {},
   "outputs": [
    {
     "data": {
      "text/plain": [
       "[]"
      ]
     },
     "execution_count": 19,
     "metadata": {},
     "output_type": "execute_result"
    }
   ],
   "source": [
    "spark.sql(\"create table Raj.orders_date_part2(order_id int,order_product_id int,order_status string) partitioned by (order_date date) \")"
   ]
  },
  {
   "cell_type": "code",
   "execution_count": 12,
   "id": "b6f357ec",
   "metadata": {},
   "outputs": [
    {
     "data": {
      "text/plain": [
       "lastException: Throwable = null\n"
      ]
     },
     "metadata": {},
     "output_type": "display_data",
     "source": "user"
    },
    {
     "data": {
      "text/plain": [
       "[key: string, value: string]"
      ]
     },
     "execution_count": 12,
     "metadata": {},
     "output_type": "execute_result"
    }
   ],
   "source": [
    "spark.sql(\"SET hive.exe.dynamic.partition='true'\")"
   ]
  },
  {
   "cell_type": "code",
   "execution_count": 15,
   "id": "2fc6b7d2",
   "metadata": {},
   "outputs": [
    {
     "data": {
      "text/plain": [
       "lastException: Throwable = null\n"
      ]
     },
     "metadata": {},
     "output_type": "display_data",
     "source": "user"
    },
    {
     "data": {
      "text/plain": [
       "[key: string, value: string]"
      ]
     },
     "execution_count": 15,
     "metadata": {},
     "output_type": "execute_result"
    }
   ],
   "source": [
    "spark.sql(\"SET hive.exec.dynamic.partition.mode='nonstrict'\")"
   ]
  },
  {
   "cell_type": "markdown",
   "id": "06c6003a",
   "metadata": {},
   "source": [
    "#####  Early as the date column datatype was timestamp,so to get only date used cast(date) and this will remove hours"
   ]
  },
  {
   "cell_type": "code",
   "execution_count": 20,
   "id": "62d346b2",
   "metadata": {},
   "outputs": [
    {
     "data": {
      "text/plain": [
       "[]"
      ]
     },
     "execution_count": 20,
     "metadata": {},
     "output_type": "execute_result"
    }
   ],
   "source": [
    "spark.sql(\"insert into table Raj.orders_date_part2 select order_id,order_product_id,order_status,cast(order_date as date) from Raj.orders \")"
   ]
  },
  {
   "cell_type": "code",
   "execution_count": 21,
   "id": "84c24277",
   "metadata": {},
   "outputs": [
    {
     "name": "stdout",
     "output_type": "stream",
     "text": [
      "+--------+----------------+---------------+----------+\n",
      "|order_id|order_product_id|order_status   |order_date|\n",
      "+--------+----------------+---------------+----------+\n",
      "|24801   |4305            |PENDING        |2013-12-26|\n",
      "|24802   |8921            |PENDING        |2013-12-26|\n",
      "|24803   |9080            |CLOSED         |2013-12-26|\n",
      "|24804   |125             |PENDING_PAYMENT|2013-12-26|\n",
      "|24805   |6097            |ON_HOLD        |2013-12-26|\n",
      "+--------+----------------+---------------+----------+\n",
      "only showing top 5 rows\n",
      "\n"
     ]
    }
   ],
   "source": [
    "spark.sql(\"select * from Raj.orders_date_part2 \").show(5,false)"
   ]
  },
  {
   "cell_type": "code",
   "execution_count": 22,
   "id": "6c47b229",
   "metadata": {},
   "outputs": [
    {
     "name": "stdout",
     "output_type": "stream",
     "text": [
      "+----------------------------+-------------------------------------------------------------------------------+-------+\n",
      "|col_name                    |data_type                                                                      |comment|\n",
      "+----------------------------+-------------------------------------------------------------------------------+-------+\n",
      "|order_id                    |int                                                                            |null   |\n",
      "|order_product_id            |int                                                                            |null   |\n",
      "|order_status                |string                                                                         |null   |\n",
      "|order_date                  |date                                                                           |null   |\n",
      "|# Partition Information     |                                                                               |       |\n",
      "|# col_name                  |data_type                                                                      |comment|\n",
      "|order_date                  |date                                                                           |null   |\n",
      "|                            |                                                                               |       |\n",
      "|# Detailed Table Information|                                                                               |       |\n",
      "|Database                    |raj                                                                            |       |\n",
      "|Table                       |orders_date_part2                                                              |       |\n",
      "|Owner                       |itv001389                                                                      |       |\n",
      "|Created Time                |Sun Oct 17 02:41:14 EDT 2021                                                   |       |\n",
      "|Last Access                 |Wed Dec 31 19:00:00 EST 1969                                                   |       |\n",
      "|Created By                  |Spark 2.4.7                                                                    |       |\n",
      "|Type                        |MANAGED                                                                        |       |\n",
      "|Provider                    |hive                                                                           |       |\n",
      "|Table Properties            |[transient_lastDdlTime=1634452874]                                             |       |\n",
      "|Location                    |hdfs://m01.itversity.com:9000/user/itv001389/warehouse/raj.db/orders_date_part2|       |\n",
      "|Serde Library               |org.apache.hadoop.hive.serde2.lazy.LazySimpleSerDe                             |       |\n",
      "+----------------------------+-------------------------------------------------------------------------------+-------+\n",
      "only showing top 20 rows\n",
      "\n"
     ]
    }
   ],
   "source": [
    "spark.sql(\"describe formatted Raj.orders_date_part2 \").show(false)"
   ]
  },
  {
   "cell_type": "code",
   "execution_count": 5,
   "id": "b6406584",
   "metadata": {},
   "outputs": [
    {
     "name": "stdout",
     "output_type": "stream",
     "text": [
      "+--------+\n",
      "|count(1)|\n",
      "+--------+\n",
      "|   68883|\n",
      "+--------+\n",
      "\n"
     ]
    }
   ],
   "source": [
    "spark.sql(\"select count(*) from Raj.orders_date_part2\").show()"
   ]
  },
  {
   "cell_type": "code",
   "execution_count": 6,
   "id": "bc268bf1",
   "metadata": {},
   "outputs": [
    {
     "data": {
      "text/plain": [
       "364"
      ]
     },
     "execution_count": 6,
     "metadata": {},
     "output_type": "execute_result"
    }
   ],
   "source": [
    "spark.sql(\"show partitions Raj.orders_date_part2\").count()"
   ]
  },
  {
   "cell_type": "code",
   "execution_count": null,
   "id": "1319c8aa",
   "metadata": {},
   "outputs": [],
   "source": [
    "%%sh\n",
    "\n",
    "ls"
   ]
  },
  {
   "cell_type": "code",
   "execution_count": null,
   "id": "d018f08f",
   "metadata": {},
   "outputs": [],
   "source": []
  },
  {
   "cell_type": "code",
   "execution_count": null,
   "id": "be3c3652",
   "metadata": {},
   "outputs": [],
   "source": [
    "!ls "
   ]
  },
  {
   "cell_type": "code",
   "execution_count": 5,
   "id": "7e041368",
   "metadata": {},
   "outputs": [
    {
     "name": "stdout",
     "output_type": "stream",
     "text": [
      "Found 364 items\n",
      "drwxr-xr-x   - itv001389 supergroup          0 2021-10-17 02:43 hdfs://m01.itversity.com:9000/user/itv001389/warehouse/raj.db/orders_date_part2/order_date=2013-07-25\n",
      "drwxr-xr-x   - itv001389 supergroup          0 2021-10-17 02:42 hdfs://m01.itversity.com:9000/user/itv001389/warehouse/raj.db/orders_date_part2/order_date=2013-07-26\n",
      "drwxr-xr-x   - itv001389 supergroup          0 2021-10-17 02:42 hdfs://m01.itversity.com:9000/user/itv001389/warehouse/raj.db/orders_date_part2/order_date=2013-07-27\n",
      "drwxr-xr-x   - itv001389 supergroup          0 2021-10-17 02:42 hdfs://m01.itversity.com:9000/user/itv001389/warehouse/raj.db/orders_date_part2/order_date=2013-07-28\n",
      "drwxr-xr-x   - itv001389 supergroup          0 2021-10-17 02:42 hdfs://m01.itversity.com:9000/user/itv001389/warehouse/raj.db/orders_date_part2/order_date=2013-07-29\n",
      "drwxr-xr-x   - itv001389 supergroup          0 2021-10-17 02:42 hdfs://m01.itversity.com:9000/user/itv001389/warehouse/raj.db/orders_date_part2/order_date=2013-07-30\n",
      "drwxr-xr-x   - itv001389 supergroup          0 2021-10-17 02:42 hdfs://m01.itversity.com:9000/user/itv001389/warehouse/raj.db/orders_date_part2/order_date=2013-07-31\n",
      "drwxr-xr-x   - itv001389 supergroup          0 2021-10-17 02:42 hdfs://m01.itversity.com:9000/user/itv001389/warehouse/raj.db/orders_date_part2/order_date=2013-08-01\n",
      "drwxr-xr-x   - itv001389 supergroup          0 2021-10-17 02:42 hdfs://m01.itversity.com:9000/user/itv001389/warehouse/raj.db/orders_date_part2/order_date=2013-08-02\n",
      "drwxr-xr-x   - itv001389 supergroup          0 2021-10-17 02:42 hdfs://m01.itversity.com:9000/user/itv001389/warehouse/raj.db/orders_date_part2/order_date=2013-08-03\n",
      "drwxr-xr-x   - itv001389 supergroup          0 2021-10-17 02:42 hdfs://m01.itversity.com:9000/user/itv001389/warehouse/raj.db/orders_date_part2/order_date=2013-08-04\n",
      "drwxr-xr-x   - itv001389 supergroup          0 2021-10-17 02:42 hdfs://m01.itversity.com:9000/user/itv001389/warehouse/raj.db/orders_date_part2/order_date=2013-08-05\n",
      "drwxr-xr-x   - itv001389 supergroup          0 2021-10-17 02:42 hdfs://m01.itversity.com:9000/user/itv001389/warehouse/raj.db/orders_date_part2/order_date=2013-08-06\n",
      "drwxr-xr-x   - itv001389 supergroup          0 2021-10-17 02:42 hdfs://m01.itversity.com:9000/user/itv001389/warehouse/raj.db/orders_date_part2/order_date=2013-08-07\n",
      "drwxr-xr-x   - itv001389 supergroup          0 2021-10-17 02:42 hdfs://m01.itversity.com:9000/user/itv001389/warehouse/raj.db/orders_date_part2/order_date=2013-08-08\n",
      "drwxr-xr-x   - itv001389 supergroup          0 2021-10-17 02:42 hdfs://m01.itversity.com:9000/user/itv001389/warehouse/raj.db/orders_date_part2/order_date=2013-08-09\n",
      "drwxr-xr-x   - itv001389 supergroup          0 2021-10-17 02:42 hdfs://m01.itversity.com:9000/user/itv001389/warehouse/raj.db/orders_date_part2/order_date=2013-08-10\n",
      "drwxr-xr-x   - itv001389 supergroup          0 2021-10-17 02:42 hdfs://m01.itversity.com:9000/user/itv001389/warehouse/raj.db/orders_date_part2/order_date=2013-08-11\n",
      "drwxr-xr-x   - itv001389 supergroup          0 2021-10-17 02:42 hdfs://m01.itversity.com:9000/user/itv001389/warehouse/raj.db/orders_date_part2/order_date=2013-08-12\n",
      "drwxr-xr-x   - itv001389 supergroup          0 2021-10-17 02:42 hdfs://m01.itversity.com:9000/user/itv001389/warehouse/raj.db/orders_date_part2/order_date=2013-08-13\n",
      "drwxr-xr-x   - itv001389 supergroup          0 2021-10-17 02:42 hdfs://m01.itversity.com:9000/user/itv001389/warehouse/raj.db/orders_date_part2/order_date=2013-08-14\n",
      "drwxr-xr-x   - itv001389 supergroup          0 2021-10-17 02:42 hdfs://m01.itversity.com:9000/user/itv001389/warehouse/raj.db/orders_date_part2/order_date=2013-08-15\n",
      "drwxr-xr-x   - itv001389 supergroup          0 2021-10-17 02:42 hdfs://m01.itversity.com:9000/user/itv001389/warehouse/raj.db/orders_date_part2/order_date=2013-08-16\n",
      "drwxr-xr-x   - itv001389 supergroup          0 2021-10-17 02:43 hdfs://m01.itversity.com:9000/user/itv001389/warehouse/raj.db/orders_date_part2/order_date=2013-08-17\n",
      "drwxr-xr-x   - itv001389 supergroup          0 2021-10-17 02:42 hdfs://m01.itversity.com:9000/user/itv001389/warehouse/raj.db/orders_date_part2/order_date=2013-08-18\n",
      "drwxr-xr-x   - itv001389 supergroup          0 2021-10-17 02:42 hdfs://m01.itversity.com:9000/user/itv001389/warehouse/raj.db/orders_date_part2/order_date=2013-08-19\n",
      "drwxr-xr-x   - itv001389 supergroup          0 2021-10-17 02:42 hdfs://m01.itversity.com:9000/user/itv001389/warehouse/raj.db/orders_date_part2/order_date=2013-08-20\n",
      "drwxr-xr-x   - itv001389 supergroup          0 2021-10-17 02:42 hdfs://m01.itversity.com:9000/user/itv001389/warehouse/raj.db/orders_date_part2/order_date=2013-08-21\n",
      "drwxr-xr-x   - itv001389 supergroup          0 2021-10-17 02:42 hdfs://m01.itversity.com:9000/user/itv001389/warehouse/raj.db/orders_date_part2/order_date=2013-08-22\n",
      "drwxr-xr-x   - itv001389 supergroup          0 2021-10-17 02:42 hdfs://m01.itversity.com:9000/user/itv001389/warehouse/raj.db/orders_date_part2/order_date=2013-08-23\n",
      "drwxr-xr-x   - itv001389 supergroup          0 2021-10-17 02:42 hdfs://m01.itversity.com:9000/user/itv001389/warehouse/raj.db/orders_date_part2/order_date=2013-08-24\n",
      "drwxr-xr-x   - itv001389 supergroup          0 2021-10-17 02:43 hdfs://m01.itversity.com:9000/user/itv001389/warehouse/raj.db/orders_date_part2/order_date=2013-08-25\n",
      "drwxr-xr-x   - itv001389 supergroup          0 2021-10-17 02:42 hdfs://m01.itversity.com:9000/user/itv001389/warehouse/raj.db/orders_date_part2/order_date=2013-08-26\n",
      "drwxr-xr-x   - itv001389 supergroup          0 2021-10-17 02:42 hdfs://m01.itversity.com:9000/user/itv001389/warehouse/raj.db/orders_date_part2/order_date=2013-08-27\n",
      "drwxr-xr-x   - itv001389 supergroup          0 2021-10-17 02:43 hdfs://m01.itversity.com:9000/user/itv001389/warehouse/raj.db/orders_date_part2/order_date=2013-08-28\n",
      "drwxr-xr-x   - itv001389 supergroup          0 2021-10-17 02:42 hdfs://m01.itversity.com:9000/user/itv001389/warehouse/raj.db/orders_date_part2/order_date=2013-08-29\n",
      "drwxr-xr-x   - itv001389 supergroup          0 2021-10-17 02:42 hdfs://m01.itversity.com:9000/user/itv001389/warehouse/raj.db/orders_date_part2/order_date=2013-08-30\n",
      "drwxr-xr-x   - itv001389 supergroup          0 2021-10-17 02:42 hdfs://m01.itversity.com:9000/user/itv001389/warehouse/raj.db/orders_date_part2/order_date=2013-08-31\n",
      "drwxr-xr-x   - itv001389 supergroup          0 2021-10-17 02:42 hdfs://m01.itversity.com:9000/user/itv001389/warehouse/raj.db/orders_date_part2/order_date=2013-09-01\n",
      "drwxr-xr-x   - itv001389 supergroup          0 2021-10-17 02:42 hdfs://m01.itversity.com:9000/user/itv001389/warehouse/raj.db/orders_date_part2/order_date=2013-09-02\n",
      "drwxr-xr-x   - itv001389 supergroup          0 2021-10-17 02:42 hdfs://m01.itversity.com:9000/user/itv001389/warehouse/raj.db/orders_date_part2/order_date=2013-09-03\n",
      "drwxr-xr-x   - itv001389 supergroup          0 2021-10-17 02:42 hdfs://m01.itversity.com:9000/user/itv001389/warehouse/raj.db/orders_date_part2/order_date=2013-09-04\n",
      "drwxr-xr-x   - itv001389 supergroup          0 2021-10-17 02:42 hdfs://m01.itversity.com:9000/user/itv001389/warehouse/raj.db/orders_date_part2/order_date=2013-09-05\n",
      "drwxr-xr-x   - itv001389 supergroup          0 2021-10-17 02:42 hdfs://m01.itversity.com:9000/user/itv001389/warehouse/raj.db/orders_date_part2/order_date=2013-09-06\n",
      "drwxr-xr-x   - itv001389 supergroup          0 2021-10-17 02:42 hdfs://m01.itversity.com:9000/user/itv001389/warehouse/raj.db/orders_date_part2/order_date=2013-09-07\n",
      "drwxr-xr-x   - itv001389 supergroup          0 2021-10-17 02:42 hdfs://m01.itversity.com:9000/user/itv001389/warehouse/raj.db/orders_date_part2/order_date=2013-09-08\n",
      "drwxr-xr-x   - itv001389 supergroup          0 2021-10-17 02:43 hdfs://m01.itversity.com:9000/user/itv001389/warehouse/raj.db/orders_date_part2/order_date=2013-09-09\n",
      "drwxr-xr-x   - itv001389 supergroup          0 2021-10-17 02:42 hdfs://m01.itversity.com:9000/user/itv001389/warehouse/raj.db/orders_date_part2/order_date=2013-09-10\n",
      "drwxr-xr-x   - itv001389 supergroup          0 2021-10-17 02:43 hdfs://m01.itversity.com:9000/user/itv001389/warehouse/raj.db/orders_date_part2/order_date=2013-09-11\n",
      "drwxr-xr-x   - itv001389 supergroup          0 2021-10-17 02:42 hdfs://m01.itversity.com:9000/user/itv001389/warehouse/raj.db/orders_date_part2/order_date=2013-09-12\n",
      "drwxr-xr-x   - itv001389 supergroup          0 2021-10-17 02:42 hdfs://m01.itversity.com:9000/user/itv001389/warehouse/raj.db/orders_date_part2/order_date=2013-09-13\n",
      "drwxr-xr-x   - itv001389 supergroup          0 2021-10-17 02:42 hdfs://m01.itversity.com:9000/user/itv001389/warehouse/raj.db/orders_date_part2/order_date=2013-09-14\n",
      "drwxr-xr-x   - itv001389 supergroup          0 2021-10-17 02:42 hdfs://m01.itversity.com:9000/user/itv001389/warehouse/raj.db/orders_date_part2/order_date=2013-09-15\n",
      "drwxr-xr-x   - itv001389 supergroup          0 2021-10-17 02:42 hdfs://m01.itversity.com:9000/user/itv001389/warehouse/raj.db/orders_date_part2/order_date=2013-09-16\n",
      "drwxr-xr-x   - itv001389 supergroup          0 2021-10-17 02:43 hdfs://m01.itversity.com:9000/user/itv001389/warehouse/raj.db/orders_date_part2/order_date=2013-09-17\n",
      "drwxr-xr-x   - itv001389 supergroup          0 2021-10-17 02:42 hdfs://m01.itversity.com:9000/user/itv001389/warehouse/raj.db/orders_date_part2/order_date=2013-09-18\n",
      "drwxr-xr-x   - itv001389 supergroup          0 2021-10-17 02:42 hdfs://m01.itversity.com:9000/user/itv001389/warehouse/raj.db/orders_date_part2/order_date=2013-09-19\n",
      "drwxr-xr-x   - itv001389 supergroup          0 2021-10-17 02:42 hdfs://m01.itversity.com:9000/user/itv001389/warehouse/raj.db/orders_date_part2/order_date=2013-09-20\n",
      "drwxr-xr-x   - itv001389 supergroup          0 2021-10-17 02:42 hdfs://m01.itversity.com:9000/user/itv001389/warehouse/raj.db/orders_date_part2/order_date=2013-09-21\n",
      "drwxr-xr-x   - itv001389 supergroup          0 2021-10-17 02:42 hdfs://m01.itversity.com:9000/user/itv001389/warehouse/raj.db/orders_date_part2/order_date=2013-09-22\n",
      "drwxr-xr-x   - itv001389 supergroup          0 2021-10-17 02:42 hdfs://m01.itversity.com:9000/user/itv001389/warehouse/raj.db/orders_date_part2/order_date=2013-09-23\n",
      "drwxr-xr-x   - itv001389 supergroup          0 2021-10-17 02:42 hdfs://m01.itversity.com:9000/user/itv001389/warehouse/raj.db/orders_date_part2/order_date=2013-09-24\n",
      "drwxr-xr-x   - itv001389 supergroup          0 2021-10-17 02:43 hdfs://m01.itversity.com:9000/user/itv001389/warehouse/raj.db/orders_date_part2/order_date=2013-09-25\n",
      "drwxr-xr-x   - itv001389 supergroup          0 2021-10-17 02:42 hdfs://m01.itversity.com:9000/user/itv001389/warehouse/raj.db/orders_date_part2/order_date=2013-09-26\n",
      "drwxr-xr-x   - itv001389 supergroup          0 2021-10-17 02:42 hdfs://m01.itversity.com:9000/user/itv001389/warehouse/raj.db/orders_date_part2/order_date=2013-09-27\n",
      "drwxr-xr-x   - itv001389 supergroup          0 2021-10-17 02:43 hdfs://m01.itversity.com:9000/user/itv001389/warehouse/raj.db/orders_date_part2/order_date=2013-09-28\n",
      "drwxr-xr-x   - itv001389 supergroup          0 2021-10-17 02:42 hdfs://m01.itversity.com:9000/user/itv001389/warehouse/raj.db/orders_date_part2/order_date=2013-09-29\n",
      "drwxr-xr-x   - itv001389 supergroup          0 2021-10-17 02:43 hdfs://m01.itversity.com:9000/user/itv001389/warehouse/raj.db/orders_date_part2/order_date=2013-09-30\n",
      "drwxr-xr-x   - itv001389 supergroup          0 2021-10-17 02:42 hdfs://m01.itversity.com:9000/user/itv001389/warehouse/raj.db/orders_date_part2/order_date=2013-10-01\n",
      "drwxr-xr-x   - itv001389 supergroup          0 2021-10-17 02:42 hdfs://m01.itversity.com:9000/user/itv001389/warehouse/raj.db/orders_date_part2/order_date=2013-10-02\n",
      "drwxr-xr-x   - itv001389 supergroup          0 2021-10-17 02:43 hdfs://m01.itversity.com:9000/user/itv001389/warehouse/raj.db/orders_date_part2/order_date=2013-10-03\n",
      "drwxr-xr-x   - itv001389 supergroup          0 2021-10-17 02:42 hdfs://m01.itversity.com:9000/user/itv001389/warehouse/raj.db/orders_date_part2/order_date=2013-10-04\n",
      "drwxr-xr-x   - itv001389 supergroup          0 2021-10-17 02:42 hdfs://m01.itversity.com:9000/user/itv001389/warehouse/raj.db/orders_date_part2/order_date=2013-10-05\n",
      "drwxr-xr-x   - itv001389 supergroup          0 2021-10-17 02:42 hdfs://m01.itversity.com:9000/user/itv001389/warehouse/raj.db/orders_date_part2/order_date=2013-10-06\n",
      "drwxr-xr-x   - itv001389 supergroup          0 2021-10-17 02:42 hdfs://m01.itversity.com:9000/user/itv001389/warehouse/raj.db/orders_date_part2/order_date=2013-10-07\n",
      "drwxr-xr-x   - itv001389 supergroup          0 2021-10-17 02:42 hdfs://m01.itversity.com:9000/user/itv001389/warehouse/raj.db/orders_date_part2/order_date=2013-10-08\n",
      "drwxr-xr-x   - itv001389 supergroup          0 2021-10-17 02:42 hdfs://m01.itversity.com:9000/user/itv001389/warehouse/raj.db/orders_date_part2/order_date=2013-10-09\n",
      "drwxr-xr-x   - itv001389 supergroup          0 2021-10-17 02:42 hdfs://m01.itversity.com:9000/user/itv001389/warehouse/raj.db/orders_date_part2/order_date=2013-10-10\n",
      "drwxr-xr-x   - itv001389 supergroup          0 2021-10-17 02:43 hdfs://m01.itversity.com:9000/user/itv001389/warehouse/raj.db/orders_date_part2/order_date=2013-10-11\n",
      "drwxr-xr-x   - itv001389 supergroup          0 2021-10-17 02:42 hdfs://m01.itversity.com:9000/user/itv001389/warehouse/raj.db/orders_date_part2/order_date=2013-10-12\n",
      "drwxr-xr-x   - itv001389 supergroup          0 2021-10-17 02:42 hdfs://m01.itversity.com:9000/user/itv001389/warehouse/raj.db/orders_date_part2/order_date=2013-10-13\n",
      "drwxr-xr-x   - itv001389 supergroup          0 2021-10-17 02:42 hdfs://m01.itversity.com:9000/user/itv001389/warehouse/raj.db/orders_date_part2/order_date=2013-10-14\n",
      "drwxr-xr-x   - itv001389 supergroup          0 2021-10-17 02:42 hdfs://m01.itversity.com:9000/user/itv001389/warehouse/raj.db/orders_date_part2/order_date=2013-10-15\n",
      "drwxr-xr-x   - itv001389 supergroup          0 2021-10-17 02:42 hdfs://m01.itversity.com:9000/user/itv001389/warehouse/raj.db/orders_date_part2/order_date=2013-10-16\n",
      "drwxr-xr-x   - itv001389 supergroup          0 2021-10-17 02:42 hdfs://m01.itversity.com:9000/user/itv001389/warehouse/raj.db/orders_date_part2/order_date=2013-10-17\n",
      "drwxr-xr-x   - itv001389 supergroup          0 2021-10-17 02:42 hdfs://m01.itversity.com:9000/user/itv001389/warehouse/raj.db/orders_date_part2/order_date=2013-10-18\n",
      "drwxr-xr-x   - itv001389 supergroup          0 2021-10-17 02:42 hdfs://m01.itversity.com:9000/user/itv001389/warehouse/raj.db/orders_date_part2/order_date=2013-10-19\n",
      "drwxr-xr-x   - itv001389 supergroup          0 2021-10-17 02:42 hdfs://m01.itversity.com:9000/user/itv001389/warehouse/raj.db/orders_date_part2/order_date=2013-10-20\n",
      "drwxr-xr-x   - itv001389 supergroup          0 2021-10-17 02:42 hdfs://m01.itversity.com:9000/user/itv001389/warehouse/raj.db/orders_date_part2/order_date=2013-10-21\n",
      "drwxr-xr-x   - itv001389 supergroup          0 2021-10-17 02:42 hdfs://m01.itversity.com:9000/user/itv001389/warehouse/raj.db/orders_date_part2/order_date=2013-10-22\n",
      "drwxr-xr-x   - itv001389 supergroup          0 2021-10-17 02:42 hdfs://m01.itversity.com:9000/user/itv001389/warehouse/raj.db/orders_date_part2/order_date=2013-10-23\n",
      "drwxr-xr-x   - itv001389 supergroup          0 2021-10-17 02:42 hdfs://m01.itversity.com:9000/user/itv001389/warehouse/raj.db/orders_date_part2/order_date=2013-10-24\n",
      "drwxr-xr-x   - itv001389 supergroup          0 2021-10-17 02:42 hdfs://m01.itversity.com:9000/user/itv001389/warehouse/raj.db/orders_date_part2/order_date=2013-10-25\n",
      "drwxr-xr-x   - itv001389 supergroup          0 2021-10-17 02:42 hdfs://m01.itversity.com:9000/user/itv001389/warehouse/raj.db/orders_date_part2/order_date=2013-10-26\n",
      "drwxr-xr-x   - itv001389 supergroup          0 2021-10-17 02:42 hdfs://m01.itversity.com:9000/user/itv001389/warehouse/raj.db/orders_date_part2/order_date=2013-10-27\n",
      "drwxr-xr-x   - itv001389 supergroup          0 2021-10-17 02:42 hdfs://m01.itversity.com:9000/user/itv001389/warehouse/raj.db/orders_date_part2/order_date=2013-10-28\n",
      "drwxr-xr-x   - itv001389 supergroup          0 2021-10-17 02:42 hdfs://m01.itversity.com:9000/user/itv001389/warehouse/raj.db/orders_date_part2/order_date=2013-10-29\n",
      "drwxr-xr-x   - itv001389 supergroup          0 2021-10-17 02:42 hdfs://m01.itversity.com:9000/user/itv001389/warehouse/raj.db/orders_date_part2/order_date=2013-10-30\n",
      "drwxr-xr-x   - itv001389 supergroup          0 2021-10-17 02:42 hdfs://m01.itversity.com:9000/user/itv001389/warehouse/raj.db/orders_date_part2/order_date=2013-10-31\n",
      "drwxr-xr-x   - itv001389 supergroup          0 2021-10-17 02:42 hdfs://m01.itversity.com:9000/user/itv001389/warehouse/raj.db/orders_date_part2/order_date=2013-11-01\n",
      "drwxr-xr-x   - itv001389 supergroup          0 2021-10-17 02:42 hdfs://m01.itversity.com:9000/user/itv001389/warehouse/raj.db/orders_date_part2/order_date=2013-11-02\n",
      "drwxr-xr-x   - itv001389 supergroup          0 2021-10-17 02:43 hdfs://m01.itversity.com:9000/user/itv001389/warehouse/raj.db/orders_date_part2/order_date=2013-11-03\n",
      "drwxr-xr-x   - itv001389 supergroup          0 2021-10-17 02:42 hdfs://m01.itversity.com:9000/user/itv001389/warehouse/raj.db/orders_date_part2/order_date=2013-11-04\n",
      "drwxr-xr-x   - itv001389 supergroup          0 2021-10-17 02:42 hdfs://m01.itversity.com:9000/user/itv001389/warehouse/raj.db/orders_date_part2/order_date=2013-11-05\n",
      "drwxr-xr-x   - itv001389 supergroup          0 2021-10-17 02:42 hdfs://m01.itversity.com:9000/user/itv001389/warehouse/raj.db/orders_date_part2/order_date=2013-11-06\n",
      "drwxr-xr-x   - itv001389 supergroup          0 2021-10-17 02:42 hdfs://m01.itversity.com:9000/user/itv001389/warehouse/raj.db/orders_date_part2/order_date=2013-11-07\n",
      "drwxr-xr-x   - itv001389 supergroup          0 2021-10-17 02:42 hdfs://m01.itversity.com:9000/user/itv001389/warehouse/raj.db/orders_date_part2/order_date=2013-11-08\n",
      "drwxr-xr-x   - itv001389 supergroup          0 2021-10-17 02:42 hdfs://m01.itversity.com:9000/user/itv001389/warehouse/raj.db/orders_date_part2/order_date=2013-11-09\n",
      "drwxr-xr-x   - itv001389 supergroup          0 2021-10-17 02:42 hdfs://m01.itversity.com:9000/user/itv001389/warehouse/raj.db/orders_date_part2/order_date=2013-11-10\n",
      "drwxr-xr-x   - itv001389 supergroup          0 2021-10-17 02:43 hdfs://m01.itversity.com:9000/user/itv001389/warehouse/raj.db/orders_date_part2/order_date=2013-11-11\n",
      "drwxr-xr-x   - itv001389 supergroup          0 2021-10-17 02:42 hdfs://m01.itversity.com:9000/user/itv001389/warehouse/raj.db/orders_date_part2/order_date=2013-11-12\n",
      "drwxr-xr-x   - itv001389 supergroup          0 2021-10-17 02:42 hdfs://m01.itversity.com:9000/user/itv001389/warehouse/raj.db/orders_date_part2/order_date=2013-11-13\n",
      "drwxr-xr-x   - itv001389 supergroup          0 2021-10-17 02:42 hdfs://m01.itversity.com:9000/user/itv001389/warehouse/raj.db/orders_date_part2/order_date=2013-11-14\n",
      "drwxr-xr-x   - itv001389 supergroup          0 2021-10-17 02:42 hdfs://m01.itversity.com:9000/user/itv001389/warehouse/raj.db/orders_date_part2/order_date=2013-11-15\n",
      "drwxr-xr-x   - itv001389 supergroup          0 2021-10-17 02:42 hdfs://m01.itversity.com:9000/user/itv001389/warehouse/raj.db/orders_date_part2/order_date=2013-11-16\n",
      "drwxr-xr-x   - itv001389 supergroup          0 2021-10-17 02:42 hdfs://m01.itversity.com:9000/user/itv001389/warehouse/raj.db/orders_date_part2/order_date=2013-11-17\n",
      "drwxr-xr-x   - itv001389 supergroup          0 2021-10-17 02:42 hdfs://m01.itversity.com:9000/user/itv001389/warehouse/raj.db/orders_date_part2/order_date=2013-11-18\n",
      "drwxr-xr-x   - itv001389 supergroup          0 2021-10-17 02:42 hdfs://m01.itversity.com:9000/user/itv001389/warehouse/raj.db/orders_date_part2/order_date=2013-11-19\n",
      "drwxr-xr-x   - itv001389 supergroup          0 2021-10-17 02:42 hdfs://m01.itversity.com:9000/user/itv001389/warehouse/raj.db/orders_date_part2/order_date=2013-11-20\n",
      "drwxr-xr-x   - itv001389 supergroup          0 2021-10-17 02:42 hdfs://m01.itversity.com:9000/user/itv001389/warehouse/raj.db/orders_date_part2/order_date=2013-11-21\n",
      "drwxr-xr-x   - itv001389 supergroup          0 2021-10-17 02:42 hdfs://m01.itversity.com:9000/user/itv001389/warehouse/raj.db/orders_date_part2/order_date=2013-11-22\n",
      "drwxr-xr-x   - itv001389 supergroup          0 2021-10-17 02:42 hdfs://m01.itversity.com:9000/user/itv001389/warehouse/raj.db/orders_date_part2/order_date=2013-11-23\n",
      "drwxr-xr-x   - itv001389 supergroup          0 2021-10-17 02:42 hdfs://m01.itversity.com:9000/user/itv001389/warehouse/raj.db/orders_date_part2/order_date=2013-11-24\n",
      "drwxr-xr-x   - itv001389 supergroup          0 2021-10-17 02:42 hdfs://m01.itversity.com:9000/user/itv001389/warehouse/raj.db/orders_date_part2/order_date=2013-11-25\n",
      "drwxr-xr-x   - itv001389 supergroup          0 2021-10-17 02:42 hdfs://m01.itversity.com:9000/user/itv001389/warehouse/raj.db/orders_date_part2/order_date=2013-11-26\n",
      "drwxr-xr-x   - itv001389 supergroup          0 2021-10-17 02:42 hdfs://m01.itversity.com:9000/user/itv001389/warehouse/raj.db/orders_date_part2/order_date=2013-11-27\n",
      "drwxr-xr-x   - itv001389 supergroup          0 2021-10-17 02:42 hdfs://m01.itversity.com:9000/user/itv001389/warehouse/raj.db/orders_date_part2/order_date=2013-11-28\n",
      "drwxr-xr-x   - itv001389 supergroup          0 2021-10-17 02:42 hdfs://m01.itversity.com:9000/user/itv001389/warehouse/raj.db/orders_date_part2/order_date=2013-11-29\n",
      "drwxr-xr-x   - itv001389 supergroup          0 2021-10-17 02:42 hdfs://m01.itversity.com:9000/user/itv001389/warehouse/raj.db/orders_date_part2/order_date=2013-11-30\n",
      "drwxr-xr-x   - itv001389 supergroup          0 2021-10-17 02:42 hdfs://m01.itversity.com:9000/user/itv001389/warehouse/raj.db/orders_date_part2/order_date=2013-12-01\n",
      "drwxr-xr-x   - itv001389 supergroup          0 2021-10-17 02:42 hdfs://m01.itversity.com:9000/user/itv001389/warehouse/raj.db/orders_date_part2/order_date=2013-12-02\n",
      "drwxr-xr-x   - itv001389 supergroup          0 2021-10-17 02:42 hdfs://m01.itversity.com:9000/user/itv001389/warehouse/raj.db/orders_date_part2/order_date=2013-12-03\n",
      "drwxr-xr-x   - itv001389 supergroup          0 2021-10-17 02:42 hdfs://m01.itversity.com:9000/user/itv001389/warehouse/raj.db/orders_date_part2/order_date=2013-12-04\n",
      "drwxr-xr-x   - itv001389 supergroup          0 2021-10-17 02:42 hdfs://m01.itversity.com:9000/user/itv001389/warehouse/raj.db/orders_date_part2/order_date=2013-12-05\n",
      "drwxr-xr-x   - itv001389 supergroup          0 2021-10-17 02:42 hdfs://m01.itversity.com:9000/user/itv001389/warehouse/raj.db/orders_date_part2/order_date=2013-12-06\n",
      "drwxr-xr-x   - itv001389 supergroup          0 2021-10-17 02:42 hdfs://m01.itversity.com:9000/user/itv001389/warehouse/raj.db/orders_date_part2/order_date=2013-12-07\n",
      "drwxr-xr-x   - itv001389 supergroup          0 2021-10-17 02:42 hdfs://m01.itversity.com:9000/user/itv001389/warehouse/raj.db/orders_date_part2/order_date=2013-12-08\n",
      "drwxr-xr-x   - itv001389 supergroup          0 2021-10-17 02:42 hdfs://m01.itversity.com:9000/user/itv001389/warehouse/raj.db/orders_date_part2/order_date=2013-12-09\n",
      "drwxr-xr-x   - itv001389 supergroup          0 2021-10-17 02:42 hdfs://m01.itversity.com:9000/user/itv001389/warehouse/raj.db/orders_date_part2/order_date=2013-12-10\n",
      "drwxr-xr-x   - itv001389 supergroup          0 2021-10-17 02:42 hdfs://m01.itversity.com:9000/user/itv001389/warehouse/raj.db/orders_date_part2/order_date=2013-12-11\n",
      "drwxr-xr-x   - itv001389 supergroup          0 2021-10-17 02:42 hdfs://m01.itversity.com:9000/user/itv001389/warehouse/raj.db/orders_date_part2/order_date=2013-12-12\n",
      "drwxr-xr-x   - itv001389 supergroup          0 2021-10-17 02:42 hdfs://m01.itversity.com:9000/user/itv001389/warehouse/raj.db/orders_date_part2/order_date=2013-12-13\n",
      "drwxr-xr-x   - itv001389 supergroup          0 2021-10-17 02:42 hdfs://m01.itversity.com:9000/user/itv001389/warehouse/raj.db/orders_date_part2/order_date=2013-12-14\n",
      "drwxr-xr-x   - itv001389 supergroup          0 2021-10-17 02:42 hdfs://m01.itversity.com:9000/user/itv001389/warehouse/raj.db/orders_date_part2/order_date=2013-12-15\n",
      "drwxr-xr-x   - itv001389 supergroup          0 2021-10-17 02:42 hdfs://m01.itversity.com:9000/user/itv001389/warehouse/raj.db/orders_date_part2/order_date=2013-12-16\n",
      "drwxr-xr-x   - itv001389 supergroup          0 2021-10-17 02:42 hdfs://m01.itversity.com:9000/user/itv001389/warehouse/raj.db/orders_date_part2/order_date=2013-12-17\n",
      "drwxr-xr-x   - itv001389 supergroup          0 2021-10-17 02:42 hdfs://m01.itversity.com:9000/user/itv001389/warehouse/raj.db/orders_date_part2/order_date=2013-12-18\n",
      "drwxr-xr-x   - itv001389 supergroup          0 2021-10-17 02:42 hdfs://m01.itversity.com:9000/user/itv001389/warehouse/raj.db/orders_date_part2/order_date=2013-12-19\n",
      "drwxr-xr-x   - itv001389 supergroup          0 2021-10-17 02:42 hdfs://m01.itversity.com:9000/user/itv001389/warehouse/raj.db/orders_date_part2/order_date=2013-12-20\n",
      "drwxr-xr-x   - itv001389 supergroup          0 2021-10-17 02:42 hdfs://m01.itversity.com:9000/user/itv001389/warehouse/raj.db/orders_date_part2/order_date=2013-12-21\n",
      "drwxr-xr-x   - itv001389 supergroup          0 2021-10-17 02:42 hdfs://m01.itversity.com:9000/user/itv001389/warehouse/raj.db/orders_date_part2/order_date=2013-12-22\n",
      "drwxr-xr-x   - itv001389 supergroup          0 2021-10-17 02:42 hdfs://m01.itversity.com:9000/user/itv001389/warehouse/raj.db/orders_date_part2/order_date=2013-12-23\n",
      "drwxr-xr-x   - itv001389 supergroup          0 2021-10-17 02:42 hdfs://m01.itversity.com:9000/user/itv001389/warehouse/raj.db/orders_date_part2/order_date=2013-12-24\n",
      "drwxr-xr-x   - itv001389 supergroup          0 2021-10-17 02:42 hdfs://m01.itversity.com:9000/user/itv001389/warehouse/raj.db/orders_date_part2/order_date=2013-12-25\n",
      "drwxr-xr-x   - itv001389 supergroup          0 2021-10-17 02:42 hdfs://m01.itversity.com:9000/user/itv001389/warehouse/raj.db/orders_date_part2/order_date=2013-12-26\n",
      "drwxr-xr-x   - itv001389 supergroup          0 2021-10-17 02:42 hdfs://m01.itversity.com:9000/user/itv001389/warehouse/raj.db/orders_date_part2/order_date=2013-12-27\n",
      "drwxr-xr-x   - itv001389 supergroup          0 2021-10-17 02:42 hdfs://m01.itversity.com:9000/user/itv001389/warehouse/raj.db/orders_date_part2/order_date=2013-12-28\n",
      "drwxr-xr-x   - itv001389 supergroup          0 2021-10-17 02:42 hdfs://m01.itversity.com:9000/user/itv001389/warehouse/raj.db/orders_date_part2/order_date=2013-12-29\n",
      "drwxr-xr-x   - itv001389 supergroup          0 2021-10-17 02:42 hdfs://m01.itversity.com:9000/user/itv001389/warehouse/raj.db/orders_date_part2/order_date=2013-12-30\n",
      "drwxr-xr-x   - itv001389 supergroup          0 2021-10-17 02:42 hdfs://m01.itversity.com:9000/user/itv001389/warehouse/raj.db/orders_date_part2/order_date=2013-12-31\n",
      "drwxr-xr-x   - itv001389 supergroup          0 2021-10-17 02:42 hdfs://m01.itversity.com:9000/user/itv001389/warehouse/raj.db/orders_date_part2/order_date=2014-01-01\n",
      "drwxr-xr-x   - itv001389 supergroup          0 2021-10-17 02:42 hdfs://m01.itversity.com:9000/user/itv001389/warehouse/raj.db/orders_date_part2/order_date=2014-01-02\n",
      "drwxr-xr-x   - itv001389 supergroup          0 2021-10-17 02:42 hdfs://m01.itversity.com:9000/user/itv001389/warehouse/raj.db/orders_date_part2/order_date=2014-01-03\n",
      "drwxr-xr-x   - itv001389 supergroup          0 2021-10-17 02:42 hdfs://m01.itversity.com:9000/user/itv001389/warehouse/raj.db/orders_date_part2/order_date=2014-01-04\n",
      "drwxr-xr-x   - itv001389 supergroup          0 2021-10-17 02:42 hdfs://m01.itversity.com:9000/user/itv001389/warehouse/raj.db/orders_date_part2/order_date=2014-01-05\n",
      "drwxr-xr-x   - itv001389 supergroup          0 2021-10-17 02:43 hdfs://m01.itversity.com:9000/user/itv001389/warehouse/raj.db/orders_date_part2/order_date=2014-01-06\n",
      "drwxr-xr-x   - itv001389 supergroup          0 2021-10-17 02:42 hdfs://m01.itversity.com:9000/user/itv001389/warehouse/raj.db/orders_date_part2/order_date=2014-01-07\n",
      "drwxr-xr-x   - itv001389 supergroup          0 2021-10-17 02:42 hdfs://m01.itversity.com:9000/user/itv001389/warehouse/raj.db/orders_date_part2/order_date=2014-01-08\n",
      "drwxr-xr-x   - itv001389 supergroup          0 2021-10-17 02:43 hdfs://m01.itversity.com:9000/user/itv001389/warehouse/raj.db/orders_date_part2/order_date=2014-01-09\n",
      "drwxr-xr-x   - itv001389 supergroup          0 2021-10-17 02:42 hdfs://m01.itversity.com:9000/user/itv001389/warehouse/raj.db/orders_date_part2/order_date=2014-01-10\n",
      "drwxr-xr-x   - itv001389 supergroup          0 2021-10-17 02:42 hdfs://m01.itversity.com:9000/user/itv001389/warehouse/raj.db/orders_date_part2/order_date=2014-01-11\n",
      "drwxr-xr-x   - itv001389 supergroup          0 2021-10-17 02:42 hdfs://m01.itversity.com:9000/user/itv001389/warehouse/raj.db/orders_date_part2/order_date=2014-01-12\n",
      "drwxr-xr-x   - itv001389 supergroup          0 2021-10-17 02:42 hdfs://m01.itversity.com:9000/user/itv001389/warehouse/raj.db/orders_date_part2/order_date=2014-01-13\n",
      "drwxr-xr-x   - itv001389 supergroup          0 2021-10-17 02:43 hdfs://m01.itversity.com:9000/user/itv001389/warehouse/raj.db/orders_date_part2/order_date=2014-01-14\n",
      "drwxr-xr-x   - itv001389 supergroup          0 2021-10-17 02:42 hdfs://m01.itversity.com:9000/user/itv001389/warehouse/raj.db/orders_date_part2/order_date=2014-01-15\n",
      "drwxr-xr-x   - itv001389 supergroup          0 2021-10-17 02:42 hdfs://m01.itversity.com:9000/user/itv001389/warehouse/raj.db/orders_date_part2/order_date=2014-01-16\n",
      "drwxr-xr-x   - itv001389 supergroup          0 2021-10-17 02:42 hdfs://m01.itversity.com:9000/user/itv001389/warehouse/raj.db/orders_date_part2/order_date=2014-01-17\n",
      "drwxr-xr-x   - itv001389 supergroup          0 2021-10-17 02:42 hdfs://m01.itversity.com:9000/user/itv001389/warehouse/raj.db/orders_date_part2/order_date=2014-01-18\n",
      "drwxr-xr-x   - itv001389 supergroup          0 2021-10-17 02:42 hdfs://m01.itversity.com:9000/user/itv001389/warehouse/raj.db/orders_date_part2/order_date=2014-01-19\n",
      "drwxr-xr-x   - itv001389 supergroup          0 2021-10-17 02:42 hdfs://m01.itversity.com:9000/user/itv001389/warehouse/raj.db/orders_date_part2/order_date=2014-01-20\n",
      "drwxr-xr-x   - itv001389 supergroup          0 2021-10-17 02:42 hdfs://m01.itversity.com:9000/user/itv001389/warehouse/raj.db/orders_date_part2/order_date=2014-01-21\n",
      "drwxr-xr-x   - itv001389 supergroup          0 2021-10-17 02:43 hdfs://m01.itversity.com:9000/user/itv001389/warehouse/raj.db/orders_date_part2/order_date=2014-01-22\n",
      "drwxr-xr-x   - itv001389 supergroup          0 2021-10-17 02:42 hdfs://m01.itversity.com:9000/user/itv001389/warehouse/raj.db/orders_date_part2/order_date=2014-01-23\n",
      "drwxr-xr-x   - itv001389 supergroup          0 2021-10-17 02:42 hdfs://m01.itversity.com:9000/user/itv001389/warehouse/raj.db/orders_date_part2/order_date=2014-01-24\n",
      "drwxr-xr-x   - itv001389 supergroup          0 2021-10-17 02:42 hdfs://m01.itversity.com:9000/user/itv001389/warehouse/raj.db/orders_date_part2/order_date=2014-01-25\n",
      "drwxr-xr-x   - itv001389 supergroup          0 2021-10-17 02:42 hdfs://m01.itversity.com:9000/user/itv001389/warehouse/raj.db/orders_date_part2/order_date=2014-01-26\n",
      "drwxr-xr-x   - itv001389 supergroup          0 2021-10-17 02:42 hdfs://m01.itversity.com:9000/user/itv001389/warehouse/raj.db/orders_date_part2/order_date=2014-01-27\n",
      "drwxr-xr-x   - itv001389 supergroup          0 2021-10-17 02:42 hdfs://m01.itversity.com:9000/user/itv001389/warehouse/raj.db/orders_date_part2/order_date=2014-01-28\n",
      "drwxr-xr-x   - itv001389 supergroup          0 2021-10-17 02:42 hdfs://m01.itversity.com:9000/user/itv001389/warehouse/raj.db/orders_date_part2/order_date=2014-01-29\n",
      "drwxr-xr-x   - itv001389 supergroup          0 2021-10-17 02:43 hdfs://m01.itversity.com:9000/user/itv001389/warehouse/raj.db/orders_date_part2/order_date=2014-01-30\n",
      "drwxr-xr-x   - itv001389 supergroup          0 2021-10-17 02:42 hdfs://m01.itversity.com:9000/user/itv001389/warehouse/raj.db/orders_date_part2/order_date=2014-01-31\n",
      "drwxr-xr-x   - itv001389 supergroup          0 2021-10-17 02:42 hdfs://m01.itversity.com:9000/user/itv001389/warehouse/raj.db/orders_date_part2/order_date=2014-02-01\n",
      "drwxr-xr-x   - itv001389 supergroup          0 2021-10-17 02:42 hdfs://m01.itversity.com:9000/user/itv001389/warehouse/raj.db/orders_date_part2/order_date=2014-02-02\n",
      "drwxr-xr-x   - itv001389 supergroup          0 2021-10-17 02:43 hdfs://m01.itversity.com:9000/user/itv001389/warehouse/raj.db/orders_date_part2/order_date=2014-02-03\n",
      "drwxr-xr-x   - itv001389 supergroup          0 2021-10-17 02:42 hdfs://m01.itversity.com:9000/user/itv001389/warehouse/raj.db/orders_date_part2/order_date=2014-02-04\n",
      "drwxr-xr-x   - itv001389 supergroup          0 2021-10-17 02:42 hdfs://m01.itversity.com:9000/user/itv001389/warehouse/raj.db/orders_date_part2/order_date=2014-02-05\n",
      "drwxr-xr-x   - itv001389 supergroup          0 2021-10-17 02:42 hdfs://m01.itversity.com:9000/user/itv001389/warehouse/raj.db/orders_date_part2/order_date=2014-02-06\n",
      "drwxr-xr-x   - itv001389 supergroup          0 2021-10-17 02:42 hdfs://m01.itversity.com:9000/user/itv001389/warehouse/raj.db/orders_date_part2/order_date=2014-02-07\n",
      "drwxr-xr-x   - itv001389 supergroup          0 2021-10-17 02:42 hdfs://m01.itversity.com:9000/user/itv001389/warehouse/raj.db/orders_date_part2/order_date=2014-02-08\n",
      "drwxr-xr-x   - itv001389 supergroup          0 2021-10-17 02:43 hdfs://m01.itversity.com:9000/user/itv001389/warehouse/raj.db/orders_date_part2/order_date=2014-02-09\n",
      "drwxr-xr-x   - itv001389 supergroup          0 2021-10-17 02:42 hdfs://m01.itversity.com:9000/user/itv001389/warehouse/raj.db/orders_date_part2/order_date=2014-02-10\n",
      "drwxr-xr-x   - itv001389 supergroup          0 2021-10-17 02:43 hdfs://m01.itversity.com:9000/user/itv001389/warehouse/raj.db/orders_date_part2/order_date=2014-02-11\n",
      "drwxr-xr-x   - itv001389 supergroup          0 2021-10-17 02:42 hdfs://m01.itversity.com:9000/user/itv001389/warehouse/raj.db/orders_date_part2/order_date=2014-02-12\n",
      "drwxr-xr-x   - itv001389 supergroup          0 2021-10-17 02:42 hdfs://m01.itversity.com:9000/user/itv001389/warehouse/raj.db/orders_date_part2/order_date=2014-02-13\n",
      "drwxr-xr-x   - itv001389 supergroup          0 2021-10-17 02:42 hdfs://m01.itversity.com:9000/user/itv001389/warehouse/raj.db/orders_date_part2/order_date=2014-02-14\n",
      "drwxr-xr-x   - itv001389 supergroup          0 2021-10-17 02:42 hdfs://m01.itversity.com:9000/user/itv001389/warehouse/raj.db/orders_date_part2/order_date=2014-02-15\n",
      "drwxr-xr-x   - itv001389 supergroup          0 2021-10-17 02:42 hdfs://m01.itversity.com:9000/user/itv001389/warehouse/raj.db/orders_date_part2/order_date=2014-02-16\n",
      "drwxr-xr-x   - itv001389 supergroup          0 2021-10-17 02:43 hdfs://m01.itversity.com:9000/user/itv001389/warehouse/raj.db/orders_date_part2/order_date=2014-02-17\n",
      "drwxr-xr-x   - itv001389 supergroup          0 2021-10-17 02:42 hdfs://m01.itversity.com:9000/user/itv001389/warehouse/raj.db/orders_date_part2/order_date=2014-02-18\n",
      "drwxr-xr-x   - itv001389 supergroup          0 2021-10-17 02:42 hdfs://m01.itversity.com:9000/user/itv001389/warehouse/raj.db/orders_date_part2/order_date=2014-02-19\n",
      "drwxr-xr-x   - itv001389 supergroup          0 2021-10-17 02:42 hdfs://m01.itversity.com:9000/user/itv001389/warehouse/raj.db/orders_date_part2/order_date=2014-02-20\n",
      "drwxr-xr-x   - itv001389 supergroup          0 2021-10-17 02:42 hdfs://m01.itversity.com:9000/user/itv001389/warehouse/raj.db/orders_date_part2/order_date=2014-02-21\n",
      "drwxr-xr-x   - itv001389 supergroup          0 2021-10-17 02:42 hdfs://m01.itversity.com:9000/user/itv001389/warehouse/raj.db/orders_date_part2/order_date=2014-02-22\n",
      "drwxr-xr-x   - itv001389 supergroup          0 2021-10-17 02:42 hdfs://m01.itversity.com:9000/user/itv001389/warehouse/raj.db/orders_date_part2/order_date=2014-02-23\n",
      "drwxr-xr-x   - itv001389 supergroup          0 2021-10-17 02:42 hdfs://m01.itversity.com:9000/user/itv001389/warehouse/raj.db/orders_date_part2/order_date=2014-02-24\n",
      "drwxr-xr-x   - itv001389 supergroup          0 2021-10-17 02:42 hdfs://m01.itversity.com:9000/user/itv001389/warehouse/raj.db/orders_date_part2/order_date=2014-02-25\n",
      "drwxr-xr-x   - itv001389 supergroup          0 2021-10-17 02:42 hdfs://m01.itversity.com:9000/user/itv001389/warehouse/raj.db/orders_date_part2/order_date=2014-02-26\n",
      "drwxr-xr-x   - itv001389 supergroup          0 2021-10-17 02:42 hdfs://m01.itversity.com:9000/user/itv001389/warehouse/raj.db/orders_date_part2/order_date=2014-02-27\n",
      "drwxr-xr-x   - itv001389 supergroup          0 2021-10-17 02:42 hdfs://m01.itversity.com:9000/user/itv001389/warehouse/raj.db/orders_date_part2/order_date=2014-02-28\n",
      "drwxr-xr-x   - itv001389 supergroup          0 2021-10-17 02:42 hdfs://m01.itversity.com:9000/user/itv001389/warehouse/raj.db/orders_date_part2/order_date=2014-03-01\n",
      "drwxr-xr-x   - itv001389 supergroup          0 2021-10-17 02:42 hdfs://m01.itversity.com:9000/user/itv001389/warehouse/raj.db/orders_date_part2/order_date=2014-03-02\n",
      "drwxr-xr-x   - itv001389 supergroup          0 2021-10-17 02:43 hdfs://m01.itversity.com:9000/user/itv001389/warehouse/raj.db/orders_date_part2/order_date=2014-03-03\n",
      "drwxr-xr-x   - itv001389 supergroup          0 2021-10-17 02:42 hdfs://m01.itversity.com:9000/user/itv001389/warehouse/raj.db/orders_date_part2/order_date=2014-03-04\n",
      "drwxr-xr-x   - itv001389 supergroup          0 2021-10-17 02:42 hdfs://m01.itversity.com:9000/user/itv001389/warehouse/raj.db/orders_date_part2/order_date=2014-03-05\n",
      "drwxr-xr-x   - itv001389 supergroup          0 2021-10-17 02:42 hdfs://m01.itversity.com:9000/user/itv001389/warehouse/raj.db/orders_date_part2/order_date=2014-03-06\n",
      "drwxr-xr-x   - itv001389 supergroup          0 2021-10-17 02:42 hdfs://m01.itversity.com:9000/user/itv001389/warehouse/raj.db/orders_date_part2/order_date=2014-03-07\n",
      "drwxr-xr-x   - itv001389 supergroup          0 2021-10-17 02:42 hdfs://m01.itversity.com:9000/user/itv001389/warehouse/raj.db/orders_date_part2/order_date=2014-03-08\n",
      "drwxr-xr-x   - itv001389 supergroup          0 2021-10-17 02:42 hdfs://m01.itversity.com:9000/user/itv001389/warehouse/raj.db/orders_date_part2/order_date=2014-03-10\n",
      "drwxr-xr-x   - itv001389 supergroup          0 2021-10-17 02:42 hdfs://m01.itversity.com:9000/user/itv001389/warehouse/raj.db/orders_date_part2/order_date=2014-03-11\n",
      "drwxr-xr-x   - itv001389 supergroup          0 2021-10-17 02:42 hdfs://m01.itversity.com:9000/user/itv001389/warehouse/raj.db/orders_date_part2/order_date=2014-03-12\n",
      "drwxr-xr-x   - itv001389 supergroup          0 2021-10-17 02:42 hdfs://m01.itversity.com:9000/user/itv001389/warehouse/raj.db/orders_date_part2/order_date=2014-03-13\n",
      "drwxr-xr-x   - itv001389 supergroup          0 2021-10-17 02:42 hdfs://m01.itversity.com:9000/user/itv001389/warehouse/raj.db/orders_date_part2/order_date=2014-03-14\n",
      "drwxr-xr-x   - itv001389 supergroup          0 2021-10-17 02:42 hdfs://m01.itversity.com:9000/user/itv001389/warehouse/raj.db/orders_date_part2/order_date=2014-03-15\n",
      "drwxr-xr-x   - itv001389 supergroup          0 2021-10-17 02:42 hdfs://m01.itversity.com:9000/user/itv001389/warehouse/raj.db/orders_date_part2/order_date=2014-03-16\n",
      "drwxr-xr-x   - itv001389 supergroup          0 2021-10-17 02:42 hdfs://m01.itversity.com:9000/user/itv001389/warehouse/raj.db/orders_date_part2/order_date=2014-03-17\n",
      "drwxr-xr-x   - itv001389 supergroup          0 2021-10-17 02:42 hdfs://m01.itversity.com:9000/user/itv001389/warehouse/raj.db/orders_date_part2/order_date=2014-03-18\n",
      "drwxr-xr-x   - itv001389 supergroup          0 2021-10-17 02:42 hdfs://m01.itversity.com:9000/user/itv001389/warehouse/raj.db/orders_date_part2/order_date=2014-03-19\n",
      "drwxr-xr-x   - itv001389 supergroup          0 2021-10-17 02:42 hdfs://m01.itversity.com:9000/user/itv001389/warehouse/raj.db/orders_date_part2/order_date=2014-03-20\n",
      "drwxr-xr-x   - itv001389 supergroup          0 2021-10-17 02:42 hdfs://m01.itversity.com:9000/user/itv001389/warehouse/raj.db/orders_date_part2/order_date=2014-03-21\n",
      "drwxr-xr-x   - itv001389 supergroup          0 2021-10-17 02:42 hdfs://m01.itversity.com:9000/user/itv001389/warehouse/raj.db/orders_date_part2/order_date=2014-03-22\n",
      "drwxr-xr-x   - itv001389 supergroup          0 2021-10-17 02:42 hdfs://m01.itversity.com:9000/user/itv001389/warehouse/raj.db/orders_date_part2/order_date=2014-03-23\n",
      "drwxr-xr-x   - itv001389 supergroup          0 2021-10-17 02:42 hdfs://m01.itversity.com:9000/user/itv001389/warehouse/raj.db/orders_date_part2/order_date=2014-03-24\n",
      "drwxr-xr-x   - itv001389 supergroup          0 2021-10-17 02:42 hdfs://m01.itversity.com:9000/user/itv001389/warehouse/raj.db/orders_date_part2/order_date=2014-03-25\n",
      "drwxr-xr-x   - itv001389 supergroup          0 2021-10-17 02:42 hdfs://m01.itversity.com:9000/user/itv001389/warehouse/raj.db/orders_date_part2/order_date=2014-03-26\n",
      "drwxr-xr-x   - itv001389 supergroup          0 2021-10-17 02:42 hdfs://m01.itversity.com:9000/user/itv001389/warehouse/raj.db/orders_date_part2/order_date=2014-03-27\n",
      "drwxr-xr-x   - itv001389 supergroup          0 2021-10-17 02:42 hdfs://m01.itversity.com:9000/user/itv001389/warehouse/raj.db/orders_date_part2/order_date=2014-03-28\n",
      "drwxr-xr-x   - itv001389 supergroup          0 2021-10-17 02:42 hdfs://m01.itversity.com:9000/user/itv001389/warehouse/raj.db/orders_date_part2/order_date=2014-03-29\n",
      "drwxr-xr-x   - itv001389 supergroup          0 2021-10-17 02:42 hdfs://m01.itversity.com:9000/user/itv001389/warehouse/raj.db/orders_date_part2/order_date=2014-03-30\n",
      "drwxr-xr-x   - itv001389 supergroup          0 2021-10-17 02:42 hdfs://m01.itversity.com:9000/user/itv001389/warehouse/raj.db/orders_date_part2/order_date=2014-03-31\n",
      "drwxr-xr-x   - itv001389 supergroup          0 2021-10-17 02:42 hdfs://m01.itversity.com:9000/user/itv001389/warehouse/raj.db/orders_date_part2/order_date=2014-04-01\n",
      "drwxr-xr-x   - itv001389 supergroup          0 2021-10-17 02:42 hdfs://m01.itversity.com:9000/user/itv001389/warehouse/raj.db/orders_date_part2/order_date=2014-04-02\n",
      "drwxr-xr-x   - itv001389 supergroup          0 2021-10-17 02:43 hdfs://m01.itversity.com:9000/user/itv001389/warehouse/raj.db/orders_date_part2/order_date=2014-04-03\n",
      "drwxr-xr-x   - itv001389 supergroup          0 2021-10-17 02:42 hdfs://m01.itversity.com:9000/user/itv001389/warehouse/raj.db/orders_date_part2/order_date=2014-04-04\n",
      "drwxr-xr-x   - itv001389 supergroup          0 2021-10-17 02:42 hdfs://m01.itversity.com:9000/user/itv001389/warehouse/raj.db/orders_date_part2/order_date=2014-04-05\n",
      "drwxr-xr-x   - itv001389 supergroup          0 2021-10-17 02:42 hdfs://m01.itversity.com:9000/user/itv001389/warehouse/raj.db/orders_date_part2/order_date=2014-04-06\n",
      "drwxr-xr-x   - itv001389 supergroup          0 2021-10-17 02:42 hdfs://m01.itversity.com:9000/user/itv001389/warehouse/raj.db/orders_date_part2/order_date=2014-04-07\n",
      "drwxr-xr-x   - itv001389 supergroup          0 2021-10-17 02:42 hdfs://m01.itversity.com:9000/user/itv001389/warehouse/raj.db/orders_date_part2/order_date=2014-04-08\n",
      "drwxr-xr-x   - itv001389 supergroup          0 2021-10-17 02:42 hdfs://m01.itversity.com:9000/user/itv001389/warehouse/raj.db/orders_date_part2/order_date=2014-04-09\n",
      "drwxr-xr-x   - itv001389 supergroup          0 2021-10-17 02:42 hdfs://m01.itversity.com:9000/user/itv001389/warehouse/raj.db/orders_date_part2/order_date=2014-04-10\n",
      "drwxr-xr-x   - itv001389 supergroup          0 2021-10-17 02:42 hdfs://m01.itversity.com:9000/user/itv001389/warehouse/raj.db/orders_date_part2/order_date=2014-04-11\n",
      "drwxr-xr-x   - itv001389 supergroup          0 2021-10-17 02:42 hdfs://m01.itversity.com:9000/user/itv001389/warehouse/raj.db/orders_date_part2/order_date=2014-04-12\n",
      "drwxr-xr-x   - itv001389 supergroup          0 2021-10-17 02:42 hdfs://m01.itversity.com:9000/user/itv001389/warehouse/raj.db/orders_date_part2/order_date=2014-04-13\n",
      "drwxr-xr-x   - itv001389 supergroup          0 2021-10-17 02:42 hdfs://m01.itversity.com:9000/user/itv001389/warehouse/raj.db/orders_date_part2/order_date=2014-04-14\n",
      "drwxr-xr-x   - itv001389 supergroup          0 2021-10-17 02:42 hdfs://m01.itversity.com:9000/user/itv001389/warehouse/raj.db/orders_date_part2/order_date=2014-04-15\n",
      "drwxr-xr-x   - itv001389 supergroup          0 2021-10-17 02:42 hdfs://m01.itversity.com:9000/user/itv001389/warehouse/raj.db/orders_date_part2/order_date=2014-04-16\n",
      "drwxr-xr-x   - itv001389 supergroup          0 2021-10-17 02:42 hdfs://m01.itversity.com:9000/user/itv001389/warehouse/raj.db/orders_date_part2/order_date=2014-04-17\n",
      "drwxr-xr-x   - itv001389 supergroup          0 2021-10-17 02:42 hdfs://m01.itversity.com:9000/user/itv001389/warehouse/raj.db/orders_date_part2/order_date=2014-04-18\n",
      "drwxr-xr-x   - itv001389 supergroup          0 2021-10-17 02:42 hdfs://m01.itversity.com:9000/user/itv001389/warehouse/raj.db/orders_date_part2/order_date=2014-04-19\n",
      "drwxr-xr-x   - itv001389 supergroup          0 2021-10-17 02:42 hdfs://m01.itversity.com:9000/user/itv001389/warehouse/raj.db/orders_date_part2/order_date=2014-04-20\n",
      "drwxr-xr-x   - itv001389 supergroup          0 2021-10-17 02:42 hdfs://m01.itversity.com:9000/user/itv001389/warehouse/raj.db/orders_date_part2/order_date=2014-04-21\n",
      "drwxr-xr-x   - itv001389 supergroup          0 2021-10-17 02:42 hdfs://m01.itversity.com:9000/user/itv001389/warehouse/raj.db/orders_date_part2/order_date=2014-04-22\n",
      "drwxr-xr-x   - itv001389 supergroup          0 2021-10-17 02:42 hdfs://m01.itversity.com:9000/user/itv001389/warehouse/raj.db/orders_date_part2/order_date=2014-04-23\n",
      "drwxr-xr-x   - itv001389 supergroup          0 2021-10-17 02:42 hdfs://m01.itversity.com:9000/user/itv001389/warehouse/raj.db/orders_date_part2/order_date=2014-04-24\n",
      "drwxr-xr-x   - itv001389 supergroup          0 2021-10-17 02:42 hdfs://m01.itversity.com:9000/user/itv001389/warehouse/raj.db/orders_date_part2/order_date=2014-04-25\n",
      "drwxr-xr-x   - itv001389 supergroup          0 2021-10-17 02:42 hdfs://m01.itversity.com:9000/user/itv001389/warehouse/raj.db/orders_date_part2/order_date=2014-04-26\n",
      "drwxr-xr-x   - itv001389 supergroup          0 2021-10-17 02:42 hdfs://m01.itversity.com:9000/user/itv001389/warehouse/raj.db/orders_date_part2/order_date=2014-04-27\n",
      "drwxr-xr-x   - itv001389 supergroup          0 2021-10-17 02:42 hdfs://m01.itversity.com:9000/user/itv001389/warehouse/raj.db/orders_date_part2/order_date=2014-04-28\n",
      "drwxr-xr-x   - itv001389 supergroup          0 2021-10-17 02:42 hdfs://m01.itversity.com:9000/user/itv001389/warehouse/raj.db/orders_date_part2/order_date=2014-04-29\n",
      "drwxr-xr-x   - itv001389 supergroup          0 2021-10-17 02:42 hdfs://m01.itversity.com:9000/user/itv001389/warehouse/raj.db/orders_date_part2/order_date=2014-04-30\n",
      "drwxr-xr-x   - itv001389 supergroup          0 2021-10-17 02:42 hdfs://m01.itversity.com:9000/user/itv001389/warehouse/raj.db/orders_date_part2/order_date=2014-05-01\n",
      "drwxr-xr-x   - itv001389 supergroup          0 2021-10-17 02:42 hdfs://m01.itversity.com:9000/user/itv001389/warehouse/raj.db/orders_date_part2/order_date=2014-05-02\n",
      "drwxr-xr-x   - itv001389 supergroup          0 2021-10-17 02:42 hdfs://m01.itversity.com:9000/user/itv001389/warehouse/raj.db/orders_date_part2/order_date=2014-05-03\n",
      "drwxr-xr-x   - itv001389 supergroup          0 2021-10-17 02:42 hdfs://m01.itversity.com:9000/user/itv001389/warehouse/raj.db/orders_date_part2/order_date=2014-05-04\n",
      "drwxr-xr-x   - itv001389 supergroup          0 2021-10-17 02:42 hdfs://m01.itversity.com:9000/user/itv001389/warehouse/raj.db/orders_date_part2/order_date=2014-05-05\n",
      "drwxr-xr-x   - itv001389 supergroup          0 2021-10-17 02:42 hdfs://m01.itversity.com:9000/user/itv001389/warehouse/raj.db/orders_date_part2/order_date=2014-05-06\n",
      "drwxr-xr-x   - itv001389 supergroup          0 2021-10-17 02:42 hdfs://m01.itversity.com:9000/user/itv001389/warehouse/raj.db/orders_date_part2/order_date=2014-05-07\n",
      "drwxr-xr-x   - itv001389 supergroup          0 2021-10-17 02:42 hdfs://m01.itversity.com:9000/user/itv001389/warehouse/raj.db/orders_date_part2/order_date=2014-05-08\n",
      "drwxr-xr-x   - itv001389 supergroup          0 2021-10-17 02:42 hdfs://m01.itversity.com:9000/user/itv001389/warehouse/raj.db/orders_date_part2/order_date=2014-05-09\n",
      "drwxr-xr-x   - itv001389 supergroup          0 2021-10-17 02:42 hdfs://m01.itversity.com:9000/user/itv001389/warehouse/raj.db/orders_date_part2/order_date=2014-05-10\n",
      "drwxr-xr-x   - itv001389 supergroup          0 2021-10-17 02:42 hdfs://m01.itversity.com:9000/user/itv001389/warehouse/raj.db/orders_date_part2/order_date=2014-05-11\n",
      "drwxr-xr-x   - itv001389 supergroup          0 2021-10-17 02:42 hdfs://m01.itversity.com:9000/user/itv001389/warehouse/raj.db/orders_date_part2/order_date=2014-05-12\n",
      "drwxr-xr-x   - itv001389 supergroup          0 2021-10-17 02:42 hdfs://m01.itversity.com:9000/user/itv001389/warehouse/raj.db/orders_date_part2/order_date=2014-05-13\n",
      "drwxr-xr-x   - itv001389 supergroup          0 2021-10-17 02:42 hdfs://m01.itversity.com:9000/user/itv001389/warehouse/raj.db/orders_date_part2/order_date=2014-05-14\n",
      "drwxr-xr-x   - itv001389 supergroup          0 2021-10-17 02:42 hdfs://m01.itversity.com:9000/user/itv001389/warehouse/raj.db/orders_date_part2/order_date=2014-05-15\n",
      "drwxr-xr-x   - itv001389 supergroup          0 2021-10-17 02:42 hdfs://m01.itversity.com:9000/user/itv001389/warehouse/raj.db/orders_date_part2/order_date=2014-05-16\n",
      "drwxr-xr-x   - itv001389 supergroup          0 2021-10-17 02:42 hdfs://m01.itversity.com:9000/user/itv001389/warehouse/raj.db/orders_date_part2/order_date=2014-05-17\n",
      "drwxr-xr-x   - itv001389 supergroup          0 2021-10-17 02:42 hdfs://m01.itversity.com:9000/user/itv001389/warehouse/raj.db/orders_date_part2/order_date=2014-05-18\n",
      "drwxr-xr-x   - itv001389 supergroup          0 2021-10-17 02:42 hdfs://m01.itversity.com:9000/user/itv001389/warehouse/raj.db/orders_date_part2/order_date=2014-05-19\n",
      "drwxr-xr-x   - itv001389 supergroup          0 2021-10-17 02:42 hdfs://m01.itversity.com:9000/user/itv001389/warehouse/raj.db/orders_date_part2/order_date=2014-05-20\n",
      "drwxr-xr-x   - itv001389 supergroup          0 2021-10-17 02:42 hdfs://m01.itversity.com:9000/user/itv001389/warehouse/raj.db/orders_date_part2/order_date=2014-05-21\n",
      "drwxr-xr-x   - itv001389 supergroup          0 2021-10-17 02:42 hdfs://m01.itversity.com:9000/user/itv001389/warehouse/raj.db/orders_date_part2/order_date=2014-05-22\n",
      "drwxr-xr-x   - itv001389 supergroup          0 2021-10-17 02:42 hdfs://m01.itversity.com:9000/user/itv001389/warehouse/raj.db/orders_date_part2/order_date=2014-05-23\n",
      "drwxr-xr-x   - itv001389 supergroup          0 2021-10-17 02:42 hdfs://m01.itversity.com:9000/user/itv001389/warehouse/raj.db/orders_date_part2/order_date=2014-05-24\n",
      "drwxr-xr-x   - itv001389 supergroup          0 2021-10-17 02:42 hdfs://m01.itversity.com:9000/user/itv001389/warehouse/raj.db/orders_date_part2/order_date=2014-05-25\n",
      "drwxr-xr-x   - itv001389 supergroup          0 2021-10-17 02:42 hdfs://m01.itversity.com:9000/user/itv001389/warehouse/raj.db/orders_date_part2/order_date=2014-05-26\n",
      "drwxr-xr-x   - itv001389 supergroup          0 2021-10-17 02:42 hdfs://m01.itversity.com:9000/user/itv001389/warehouse/raj.db/orders_date_part2/order_date=2014-05-27\n",
      "drwxr-xr-x   - itv001389 supergroup          0 2021-10-17 02:42 hdfs://m01.itversity.com:9000/user/itv001389/warehouse/raj.db/orders_date_part2/order_date=2014-05-28\n",
      "drwxr-xr-x   - itv001389 supergroup          0 2021-10-17 02:42 hdfs://m01.itversity.com:9000/user/itv001389/warehouse/raj.db/orders_date_part2/order_date=2014-05-29\n",
      "drwxr-xr-x   - itv001389 supergroup          0 2021-10-17 02:42 hdfs://m01.itversity.com:9000/user/itv001389/warehouse/raj.db/orders_date_part2/order_date=2014-05-30\n",
      "drwxr-xr-x   - itv001389 supergroup          0 2021-10-17 02:42 hdfs://m01.itversity.com:9000/user/itv001389/warehouse/raj.db/orders_date_part2/order_date=2014-05-31\n",
      "drwxr-xr-x   - itv001389 supergroup          0 2021-10-17 02:42 hdfs://m01.itversity.com:9000/user/itv001389/warehouse/raj.db/orders_date_part2/order_date=2014-06-01\n",
      "drwxr-xr-x   - itv001389 supergroup          0 2021-10-17 02:42 hdfs://m01.itversity.com:9000/user/itv001389/warehouse/raj.db/orders_date_part2/order_date=2014-06-02\n",
      "drwxr-xr-x   - itv001389 supergroup          0 2021-10-17 02:42 hdfs://m01.itversity.com:9000/user/itv001389/warehouse/raj.db/orders_date_part2/order_date=2014-06-03\n",
      "drwxr-xr-x   - itv001389 supergroup          0 2021-10-17 02:42 hdfs://m01.itversity.com:9000/user/itv001389/warehouse/raj.db/orders_date_part2/order_date=2014-06-04\n",
      "drwxr-xr-x   - itv001389 supergroup          0 2021-10-17 02:42 hdfs://m01.itversity.com:9000/user/itv001389/warehouse/raj.db/orders_date_part2/order_date=2014-06-05\n",
      "drwxr-xr-x   - itv001389 supergroup          0 2021-10-17 02:42 hdfs://m01.itversity.com:9000/user/itv001389/warehouse/raj.db/orders_date_part2/order_date=2014-06-06\n",
      "drwxr-xr-x   - itv001389 supergroup          0 2021-10-17 02:42 hdfs://m01.itversity.com:9000/user/itv001389/warehouse/raj.db/orders_date_part2/order_date=2014-06-07\n",
      "drwxr-xr-x   - itv001389 supergroup          0 2021-10-17 02:42 hdfs://m01.itversity.com:9000/user/itv001389/warehouse/raj.db/orders_date_part2/order_date=2014-06-08\n",
      "drwxr-xr-x   - itv001389 supergroup          0 2021-10-17 02:42 hdfs://m01.itversity.com:9000/user/itv001389/warehouse/raj.db/orders_date_part2/order_date=2014-06-09\n",
      "drwxr-xr-x   - itv001389 supergroup          0 2021-10-17 02:42 hdfs://m01.itversity.com:9000/user/itv001389/warehouse/raj.db/orders_date_part2/order_date=2014-06-10\n",
      "drwxr-xr-x   - itv001389 supergroup          0 2021-10-17 02:42 hdfs://m01.itversity.com:9000/user/itv001389/warehouse/raj.db/orders_date_part2/order_date=2014-06-11\n",
      "drwxr-xr-x   - itv001389 supergroup          0 2021-10-17 02:42 hdfs://m01.itversity.com:9000/user/itv001389/warehouse/raj.db/orders_date_part2/order_date=2014-06-12\n",
      "drwxr-xr-x   - itv001389 supergroup          0 2021-10-17 02:42 hdfs://m01.itversity.com:9000/user/itv001389/warehouse/raj.db/orders_date_part2/order_date=2014-06-13\n",
      "drwxr-xr-x   - itv001389 supergroup          0 2021-10-17 02:42 hdfs://m01.itversity.com:9000/user/itv001389/warehouse/raj.db/orders_date_part2/order_date=2014-06-14\n",
      "drwxr-xr-x   - itv001389 supergroup          0 2021-10-17 02:42 hdfs://m01.itversity.com:9000/user/itv001389/warehouse/raj.db/orders_date_part2/order_date=2014-06-15\n",
      "drwxr-xr-x   - itv001389 supergroup          0 2021-10-17 02:43 hdfs://m01.itversity.com:9000/user/itv001389/warehouse/raj.db/orders_date_part2/order_date=2014-06-16\n",
      "drwxr-xr-x   - itv001389 supergroup          0 2021-10-17 02:42 hdfs://m01.itversity.com:9000/user/itv001389/warehouse/raj.db/orders_date_part2/order_date=2014-06-17\n",
      "drwxr-xr-x   - itv001389 supergroup          0 2021-10-17 02:42 hdfs://m01.itversity.com:9000/user/itv001389/warehouse/raj.db/orders_date_part2/order_date=2014-06-18\n",
      "drwxr-xr-x   - itv001389 supergroup          0 2021-10-17 02:43 hdfs://m01.itversity.com:9000/user/itv001389/warehouse/raj.db/orders_date_part2/order_date=2014-06-19\n",
      "drwxr-xr-x   - itv001389 supergroup          0 2021-10-17 02:42 hdfs://m01.itversity.com:9000/user/itv001389/warehouse/raj.db/orders_date_part2/order_date=2014-06-20\n",
      "drwxr-xr-x   - itv001389 supergroup          0 2021-10-17 02:42 hdfs://m01.itversity.com:9000/user/itv001389/warehouse/raj.db/orders_date_part2/order_date=2014-06-21\n",
      "drwxr-xr-x   - itv001389 supergroup          0 2021-10-17 02:42 hdfs://m01.itversity.com:9000/user/itv001389/warehouse/raj.db/orders_date_part2/order_date=2014-06-22\n",
      "drwxr-xr-x   - itv001389 supergroup          0 2021-10-17 02:42 hdfs://m01.itversity.com:9000/user/itv001389/warehouse/raj.db/orders_date_part2/order_date=2014-06-23\n",
      "drwxr-xr-x   - itv001389 supergroup          0 2021-10-17 02:43 hdfs://m01.itversity.com:9000/user/itv001389/warehouse/raj.db/orders_date_part2/order_date=2014-06-24\n",
      "drwxr-xr-x   - itv001389 supergroup          0 2021-10-17 02:42 hdfs://m01.itversity.com:9000/user/itv001389/warehouse/raj.db/orders_date_part2/order_date=2014-06-25\n",
      "drwxr-xr-x   - itv001389 supergroup          0 2021-10-17 02:42 hdfs://m01.itversity.com:9000/user/itv001389/warehouse/raj.db/orders_date_part2/order_date=2014-06-26\n",
      "drwxr-xr-x   - itv001389 supergroup          0 2021-10-17 02:43 hdfs://m01.itversity.com:9000/user/itv001389/warehouse/raj.db/orders_date_part2/order_date=2014-06-27\n",
      "drwxr-xr-x   - itv001389 supergroup          0 2021-10-17 02:42 hdfs://m01.itversity.com:9000/user/itv001389/warehouse/raj.db/orders_date_part2/order_date=2014-06-28\n",
      "drwxr-xr-x   - itv001389 supergroup          0 2021-10-17 02:42 hdfs://m01.itversity.com:9000/user/itv001389/warehouse/raj.db/orders_date_part2/order_date=2014-06-29\n",
      "drwxr-xr-x   - itv001389 supergroup          0 2021-10-17 02:42 hdfs://m01.itversity.com:9000/user/itv001389/warehouse/raj.db/orders_date_part2/order_date=2014-06-30\n",
      "drwxr-xr-x   - itv001389 supergroup          0 2021-10-17 02:42 hdfs://m01.itversity.com:9000/user/itv001389/warehouse/raj.db/orders_date_part2/order_date=2014-07-01\n",
      "drwxr-xr-x   - itv001389 supergroup          0 2021-10-17 02:42 hdfs://m01.itversity.com:9000/user/itv001389/warehouse/raj.db/orders_date_part2/order_date=2014-07-02\n",
      "drwxr-xr-x   - itv001389 supergroup          0 2021-10-17 02:42 hdfs://m01.itversity.com:9000/user/itv001389/warehouse/raj.db/orders_date_part2/order_date=2014-07-03\n",
      "drwxr-xr-x   - itv001389 supergroup          0 2021-10-17 02:42 hdfs://m01.itversity.com:9000/user/itv001389/warehouse/raj.db/orders_date_part2/order_date=2014-07-04\n",
      "drwxr-xr-x   - itv001389 supergroup          0 2021-10-17 02:42 hdfs://m01.itversity.com:9000/user/itv001389/warehouse/raj.db/orders_date_part2/order_date=2014-07-05\n",
      "drwxr-xr-x   - itv001389 supergroup          0 2021-10-17 02:42 hdfs://m01.itversity.com:9000/user/itv001389/warehouse/raj.db/orders_date_part2/order_date=2014-07-06\n",
      "drwxr-xr-x   - itv001389 supergroup          0 2021-10-17 02:42 hdfs://m01.itversity.com:9000/user/itv001389/warehouse/raj.db/orders_date_part2/order_date=2014-07-07\n",
      "drwxr-xr-x   - itv001389 supergroup          0 2021-10-17 02:43 hdfs://m01.itversity.com:9000/user/itv001389/warehouse/raj.db/orders_date_part2/order_date=2014-07-08\n",
      "drwxr-xr-x   - itv001389 supergroup          0 2021-10-17 02:42 hdfs://m01.itversity.com:9000/user/itv001389/warehouse/raj.db/orders_date_part2/order_date=2014-07-09\n",
      "drwxr-xr-x   - itv001389 supergroup          0 2021-10-17 02:42 hdfs://m01.itversity.com:9000/user/itv001389/warehouse/raj.db/orders_date_part2/order_date=2014-07-10\n",
      "drwxr-xr-x   - itv001389 supergroup          0 2021-10-17 02:42 hdfs://m01.itversity.com:9000/user/itv001389/warehouse/raj.db/orders_date_part2/order_date=2014-07-11\n",
      "drwxr-xr-x   - itv001389 supergroup          0 2021-10-17 02:42 hdfs://m01.itversity.com:9000/user/itv001389/warehouse/raj.db/orders_date_part2/order_date=2014-07-12\n",
      "drwxr-xr-x   - itv001389 supergroup          0 2021-10-17 02:42 hdfs://m01.itversity.com:9000/user/itv001389/warehouse/raj.db/orders_date_part2/order_date=2014-07-13\n",
      "drwxr-xr-x   - itv001389 supergroup          0 2021-10-17 02:42 hdfs://m01.itversity.com:9000/user/itv001389/warehouse/raj.db/orders_date_part2/order_date=2014-07-14\n",
      "drwxr-xr-x   - itv001389 supergroup          0 2021-10-17 02:42 hdfs://m01.itversity.com:9000/user/itv001389/warehouse/raj.db/orders_date_part2/order_date=2014-07-15\n",
      "drwxr-xr-x   - itv001389 supergroup          0 2021-10-17 02:43 hdfs://m01.itversity.com:9000/user/itv001389/warehouse/raj.db/orders_date_part2/order_date=2014-07-16\n",
      "drwxr-xr-x   - itv001389 supergroup          0 2021-10-17 02:42 hdfs://m01.itversity.com:9000/user/itv001389/warehouse/raj.db/orders_date_part2/order_date=2014-07-17\n",
      "drwxr-xr-x   - itv001389 supergroup          0 2021-10-17 02:42 hdfs://m01.itversity.com:9000/user/itv001389/warehouse/raj.db/orders_date_part2/order_date=2014-07-18\n",
      "drwxr-xr-x   - itv001389 supergroup          0 2021-10-17 02:43 hdfs://m01.itversity.com:9000/user/itv001389/warehouse/raj.db/orders_date_part2/order_date=2014-07-19\n",
      "drwxr-xr-x   - itv001389 supergroup          0 2021-10-17 02:42 hdfs://m01.itversity.com:9000/user/itv001389/warehouse/raj.db/orders_date_part2/order_date=2014-07-20\n",
      "drwxr-xr-x   - itv001389 supergroup          0 2021-10-17 02:42 hdfs://m01.itversity.com:9000/user/itv001389/warehouse/raj.db/orders_date_part2/order_date=2014-07-21\n",
      "drwxr-xr-x   - itv001389 supergroup          0 2021-10-17 02:42 hdfs://m01.itversity.com:9000/user/itv001389/warehouse/raj.db/orders_date_part2/order_date=2014-07-22\n",
      "drwxr-xr-x   - itv001389 supergroup          0 2021-10-17 02:42 hdfs://m01.itversity.com:9000/user/itv001389/warehouse/raj.db/orders_date_part2/order_date=2014-07-23\n",
      "drwxr-xr-x   - itv001389 supergroup          0 2021-10-17 02:43 hdfs://m01.itversity.com:9000/user/itv001389/warehouse/raj.db/orders_date_part2/order_date=2014-07-24\n"
     ]
    }
   ],
   "source": [
    "!hadoop fs -ls hdfs://m01.itversity.com:9000/user/itv001389/warehouse/raj.db/orders_date_part2"
   ]
  },
  {
   "cell_type": "code",
   "execution_count": 1,
   "id": "fcf0aa29",
   "metadata": {},
   "outputs": [],
   "source": [
    "!hadoop fs -mkdir hdfs://m01.itversity.com:9000/user/itv001389/warehouse/raj.db/orders_date_part2/order_date=2014-07-25"
   ]
  },
  {
   "cell_type": "code",
   "execution_count": 2,
   "id": "d60689f4",
   "metadata": {},
   "outputs": [
    {
     "name": "stdout",
     "output_type": "stream",
     "text": [
      "Found 1 items\n",
      "-rwxr-xr-x   3 itv001389 supergroup       3987 2021-10-17 02:41 hdfs://m01.itversity.com:9000/user/itv001389/warehouse/raj.db/orders_date_part2/order_date=2014-07-24/part-00000-bec5b66a-202d-4a6e-ac21-c56c6271ae8c.c000\n"
     ]
    }
   ],
   "source": [
    "!hadoop fs -ls hdfs://m01.itversity.com:9000/user/itv001389/warehouse/raj.db/orders_date_part2/order_date=2014-07-24"
   ]
  },
  {
   "cell_type": "code",
   "execution_count": 3,
   "id": "4fdb847a",
   "metadata": {},
   "outputs": [],
   "source": [
    "!hadoop fs -cp  hdfs://m01.itversity.com:9000/user/itv001389/warehouse/raj.db/orders_date_part2/order_date=2014-07-24/part-00000-bec5b66a-202d-4a6e-ac21-c56c6271ae8c.c000 hdfs://m01.itversity.com:9000/user/itv001389/warehouse/raj.db/orders_date_part2/order_date=2014-07-25"
   ]
  },
  {
   "cell_type": "code",
   "execution_count": 4,
   "id": "eb947479",
   "metadata": {},
   "outputs": [
    {
     "name": "stdout",
     "output_type": "stream",
     "text": [
      "Found 1 items\n",
      "-rw-r--r--   3 itv001389 supergroup       3987 2021-10-17 03:04 hdfs://m01.itversity.com:9000/user/itv001389/warehouse/raj.db/orders_date_part2/order_date=2014-07-25/part-00000-bec5b66a-202d-4a6e-ac21-c56c6271ae8c.c000\n"
     ]
    }
   ],
   "source": [
    "!hadoop fs -ls hdfs://m01.itversity.com:9000/user/itv001389/warehouse/raj.db/orders_date_part2/order_date=2014-07-25"
   ]
  },
  {
   "cell_type": "markdown",
   "id": "d80a3295",
   "metadata": {},
   "source": [
    "### Though we added new folder in HDFS those are not getting reflected in HIVE as partitions"
   ]
  },
  {
   "cell_type": "code",
   "execution_count": 4,
   "id": "8f529c62",
   "metadata": {},
   "outputs": [
    {
     "name": "stdout",
     "output_type": "stream",
     "text": [
      "+--------+\n",
      "|count(1)|\n",
      "+--------+\n",
      "|   68883|\n",
      "+--------+\n",
      "\n"
     ]
    }
   ],
   "source": [
    "spark.sql(\"select count(*) from Raj.orders_date_part2\").show()"
   ]
  },
  {
   "cell_type": "code",
   "execution_count": 5,
   "id": "77099ff5",
   "metadata": {},
   "outputs": [
    {
     "data": {
      "text/plain": [
       "364"
      ]
     },
     "execution_count": 5,
     "metadata": {},
     "output_type": "execute_result"
    }
   ],
   "source": [
    "spark.sql(\"show partitions Raj.orders_date_part2\").count()"
   ]
  },
  {
   "cell_type": "code",
   "execution_count": 6,
   "id": "2e0fcdf1",
   "metadata": {},
   "outputs": [
    {
     "data": {
      "text/plain": [
       "[]"
      ]
     },
     "execution_count": 6,
     "metadata": {},
     "output_type": "execute_result"
    }
   ],
   "source": [
    "spark.sql(\"msck repair table Raj.orders_date_part2\")"
   ]
  },
  {
   "cell_type": "markdown",
   "id": "4f3901ed",
   "metadata": {},
   "source": [
    "### After running MSCK repair command the new partitions are getting reflected in HIVE metastore"
   ]
  },
  {
   "cell_type": "code",
   "execution_count": 8,
   "id": "ffa065a2",
   "metadata": {},
   "outputs": [
    {
     "name": "stdout",
     "output_type": "stream",
     "text": [
      "+--------+\n",
      "|count(1)|\n",
      "+--------+\n",
      "|   69068|\n",
      "+--------+\n",
      "\n"
     ]
    }
   ],
   "source": [
    "spark.sql(\"select count(*) from Raj.orders_date_part2\").show()"
   ]
  },
  {
   "cell_type": "code",
   "execution_count": 9,
   "id": "ec0e643b",
   "metadata": {},
   "outputs": [
    {
     "data": {
      "text/plain": [
       "365"
      ]
     },
     "execution_count": 9,
     "metadata": {},
     "output_type": "execute_result"
    }
   ],
   "source": [
    "spark.sql(\"show partitions Raj.orders_date_part2\").count()"
   ]
  },
  {
   "cell_type": "markdown",
   "id": "fce11a2b",
   "metadata": {},
   "source": [
    "# Adding partitions using ALTER STATEMENT"
   ]
  },
  {
   "cell_type": "code",
   "execution_count": 1,
   "id": "addf265f",
   "metadata": {},
   "outputs": [],
   "source": [
    "!hadoop fs -mkdir hdfs://m01.itversity.com:9000/user/itv001389/warehouse/raj.db/orders_date_part2/order_date=2014-07-26"
   ]
  },
  {
   "cell_type": "code",
   "execution_count": 2,
   "id": "41690f54",
   "metadata": {},
   "outputs": [],
   "source": [
    "!hadoop fs -cp  hdfs://m01.itversity.com:9000/user/itv001389/warehouse/raj.db/orders_date_part2/order_date=2014-07-24/part-00000-bec5b66a-202d-4a6e-ac21-c56c6271ae8c.c000 hdfs://m01.itversity.com:9000/user/itv001389/warehouse/raj.db/orders_date_part2/order_date=2014-07-26"
   ]
  },
  {
   "cell_type": "code",
   "execution_count": 3,
   "id": "bf51845a",
   "metadata": {},
   "outputs": [
    {
     "name": "stdout",
     "output_type": "stream",
     "text": [
      "Found 1 items\n",
      "-rw-r--r--   3 itv001389 supergroup       3987 2021-10-17 03:15 hdfs://m01.itversity.com:9000/user/itv001389/warehouse/raj.db/orders_date_part2/order_date=2014-07-26/part-00000-bec5b66a-202d-4a6e-ac21-c56c6271ae8c.c000\n"
     ]
    }
   ],
   "source": [
    "!hdfs dfs -ls hdfs://m01.itversity.com:9000/user/itv001389/warehouse/raj.db/orders_date_part2/order_date=2014-07-26"
   ]
  },
  {
   "cell_type": "code",
   "execution_count": 4,
   "id": "7e5bc392",
   "metadata": {},
   "outputs": [
    {
     "name": "stdout",
     "output_type": "stream",
     "text": [
      "+--------+\n",
      "|count(1)|\n",
      "+--------+\n",
      "|   69068|\n",
      "+--------+\n",
      "\n"
     ]
    }
   ],
   "source": [
    "spark.sql(\"select count(*) from Raj.orders_date_part2\").show()"
   ]
  },
  {
   "cell_type": "code",
   "execution_count": 5,
   "id": "94cca71b",
   "metadata": {},
   "outputs": [
    {
     "data": {
      "text/plain": [
       "365"
      ]
     },
     "execution_count": 5,
     "metadata": {},
     "output_type": "execute_result"
    }
   ],
   "source": [
    "spark.sql(\"show partitions Raj.orders_date_part2\").count()"
   ]
  },
  {
   "cell_type": "code",
   "execution_count": 11,
   "id": "202daa9c",
   "metadata": {},
   "outputs": [
    {
     "data": {
      "text/plain": [
       "lastException: Throwable = null\n"
      ]
     },
     "metadata": {},
     "output_type": "display_data",
     "source": "user"
    },
    {
     "data": {
      "text/plain": [
       "[]"
      ]
     },
     "execution_count": 11,
     "metadata": {},
     "output_type": "execute_result"
    }
   ],
   "source": [
    "spark.sql(\"alter table Raj.orders_date_part2 add if not exists partition(order_date='2014-07-26')\")"
   ]
  },
  {
   "cell_type": "code",
   "execution_count": 7,
   "id": "289bc95d",
   "metadata": {},
   "outputs": [
    {
     "name": "stdout",
     "output_type": "stream",
     "text": [
      "+--------+\n",
      "|count(1)|\n",
      "+--------+\n",
      "|   69253|\n",
      "+--------+\n",
      "\n"
     ]
    }
   ],
   "source": [
    "spark.sql(\"select count(*) from Raj.orders_date_part2\").show()"
   ]
  },
  {
   "cell_type": "code",
   "execution_count": 9,
   "id": "bcbd2c60",
   "metadata": {},
   "outputs": [
    {
     "data": {
      "text/plain": [
       "lastException: Throwable = null\n"
      ]
     },
     "metadata": {},
     "output_type": "display_data",
     "source": "user"
    },
    {
     "data": {
      "text/plain": [
       "366"
      ]
     },
     "execution_count": 9,
     "metadata": {},
     "output_type": "execute_result"
    }
   ],
   "source": [
    "spark.sql(\"show partitions Raj.orders_date_part2\").count()"
   ]
  },
  {
   "cell_type": "markdown",
   "id": "92182f0d",
   "metadata": {},
   "source": [
    "#####  Ideally using alter table is the best way to add the partitions into HDFS because here it will directly add the partition\n",
    "#####   without checking the entire hive metastore.Also, to use this method we need to know the partition value which \n",
    "#####   needs to be added.\n",
    "#####   If the table is partiton based on date and if we are performing incremental load then it would be easy to implement. But if the partitions are loading in multiple dates then the process would be bit complicated like we need to get all distinct values on parition column and run the Alter statement. Typically we need to write a shell script for this\n",
    "\n",
    "##### Using MSCK ---> if we run msck command then ,HIVE server will check all the existing partitions and then add the partitions which are missing. If the partitions are huge on a table then it might causes burden on Name Node as we are dealing with Metadata\n",
    "\n"
   ]
  },
  {
   "cell_type": "markdown",
   "id": "657a6196",
   "metadata": {},
   "source": []
  },
  {
   "cell_type": "code",
   "execution_count": null,
   "id": "2a54143e",
   "metadata": {},
   "outputs": [],
   "source": []
  }
 ],
 "metadata": {
  "kernelspec": {
   "display_name": "Spark 2 - Scala",
   "language": "scala",
   "name": "spark_2_scala"
  },
  "language_info": {
   "codemirror_mode": "text/x-scala",
   "file_extension": ".scala",
   "mimetype": "text/x-scala",
   "name": "scala",
   "pygments_lexer": "scala",
   "version": "2.11.12"
  }
 },
 "nbformat": 4,
 "nbformat_minor": 5
}
