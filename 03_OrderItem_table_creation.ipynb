{
 "cells": [
  {
   "cell_type": "markdown",
   "id": "1380c5cf",
   "metadata": {},
   "source": [
    "###  03_OrderItem_table_creation"
   ]
  },
  {
   "cell_type": "code",
   "execution_count": 32,
   "id": "a481ffdc",
   "metadata": {},
   "outputs": [
    {
     "data": {
      "text/plain": [
       "lastException: Throwable = null\n"
      ]
     },
     "metadata": {},
     "output_type": "display_data",
     "source": "user"
    }
   ],
   "source": [
    "import org.apache.spark.sql.SparkSession"
   ]
  },
  {
   "cell_type": "code",
   "execution_count": 33,
   "id": "01e2f092",
   "metadata": {},
   "outputs": [
    {
     "data": {
      "text/plain": [
       "spark = org.apache.spark.sql.SparkSession@4d5b201f\n"
      ]
     },
     "metadata": {},
     "output_type": "display_data",
     "source": "user"
    },
    {
     "data": {
      "text/plain": [
       "org.apache.spark.sql.SparkSession@4d5b201f"
      ]
     },
     "execution_count": 33,
     "metadata": {},
     "output_type": "execute_result"
    }
   ],
   "source": [
    "val spark = SparkSession.\n",
    "    builder.\n",
    "    config(\"spark.ui.port\", \"0\").\n",
    "    config(\"spark.sql.warehouse.dir\", \"/user/itv001389/warehouse\").\n",
    "    enableHiveSupport.\n",
    "    master(\"yarn\").\n",
    "    appName(\"Getting Started - Spark with Scala\").\n",
    "    getOrCreate"
   ]
  },
  {
   "cell_type": "code",
   "execution_count": 34,
   "id": "6f5164a8",
   "metadata": {},
   "outputs": [
    {
     "data": {
      "text/plain": [
       "[]"
      ]
     },
     "execution_count": 34,
     "metadata": {},
     "output_type": "execute_result"
    }
   ],
   "source": [
    "spark.sql(\"use Raj\")"
   ]
  },
  {
   "cell_type": "code",
   "execution_count": 15,
   "id": "dc9f4285",
   "metadata": {},
   "outputs": [
    {
     "name": "stdout",
     "output_type": "stream",
     "text": [
      "+--------+------------------+-----------+\n",
      "|database|tableName         |isTemporary|\n",
      "+--------+------------------+-----------+\n",
      "|raj     |order_immu        |false      |\n",
      "|raj     |orderitem_orc     |false      |\n",
      "|raj     |order_items       |false      |\n",
      "|raj     |order_orc         |false      |\n",
      "|raj     |orders            |false      |\n",
      "|raj     |order_skip_header |false      |\n",
      "|raj     |order_skip_header1|false      |\n",
      "|raj     |order_skip_header2|false      |\n",
      "|raj     |order_skip_header3|false      |\n",
      "|raj     |order_snap        |false      |\n",
      "+--------+------------------+-----------+\n",
      "\n"
     ]
    }
   ],
   "source": [
    "spark.sql(\"show tables\").show(false)"
   ]
  },
  {
   "cell_type": "code",
   "execution_count": 5,
   "id": "4525c70b",
   "metadata": {},
   "outputs": [
    {
     "name": "stdout",
     "output_type": "stream",
     "text": [
      "+----------------------------+-------------------------------------------------------------------------+-------+\n",
      "|col_name                    |data_type                                                                |comment|\n",
      "+----------------------------+-------------------------------------------------------------------------+-------+\n",
      "|order_item_id               |int                                                                      |null   |\n",
      "|order_item_order_id         |int                                                                      |null   |\n",
      "|order_item_product_id       |int                                                                      |null   |\n",
      "|order_item_quantity         |int                                                                      |null   |\n",
      "|order_item_subtotal         |decimal(17,4)                                                            |null   |\n",
      "|order_item_product_price    |decimal(17,4)                                                            |null   |\n",
      "|                            |                                                                         |       |\n",
      "|# Detailed Table Information|                                                                         |       |\n",
      "|Database                    |raj                                                                      |       |\n",
      "|Table                       |order_items                                                              |       |\n",
      "|Owner                       |itv001389                                                                |       |\n",
      "|Created Time                |Sat Oct 16 03:39:50 EDT 2021                                             |       |\n",
      "|Last Access                 |Wed Dec 31 19:00:00 EST 1969                                             |       |\n",
      "|Created By                  |Spark 2.4.7                                                              |       |\n",
      "|Type                        |MANAGED                                                                  |       |\n",
      "|Provider                    |parquet                                                                  |       |\n",
      "|Table Properties            |[transient_lastDdlTime=1634369990]                                       |       |\n",
      "|Statistics                  |1619257 bytes                                                            |       |\n",
      "|Location                    |hdfs://m01.itversity.com:9000/user/itv001389/warehouse/raj.db/order_items|       |\n",
      "|Serde Library               |org.apache.hadoop.hive.ql.io.parquet.serde.ParquetHiveSerDe              |       |\n",
      "+----------------------------+-------------------------------------------------------------------------+-------+\n",
      "only showing top 20 rows\n",
      "\n"
     ]
    }
   ],
   "source": [
    "spark.sql(\"describe formatted order_items \").show(false)"
   ]
  },
  {
   "cell_type": "code",
   "execution_count": 6,
   "id": "4cc30456",
   "metadata": {},
   "outputs": [
    {
     "name": "stdout",
     "output_type": "stream",
     "text": [
      "+-------------+-------------------+---------------------+-------------------+-------------------+------------------------+\n",
      "|order_item_id|order_item_order_id|order_item_product_id|order_item_quantity|order_item_subtotal|order_item_product_price|\n",
      "+-------------+-------------------+---------------------+-------------------+-------------------+------------------------+\n",
      "|153414       |61321              |1014                 |4                  |199.9200           |49.9800                 |\n",
      "|153415       |61321              |403                  |1                  |129.9900           |129.9900                |\n",
      "|153416       |61321              |1014                 |3                  |149.9400           |49.9800                 |\n",
      "|153417       |61321              |403                  |1                  |129.9900           |129.9900                |\n",
      "|153418       |61322              |1073                 |1                  |199.9900           |199.9900                |\n",
      "+-------------+-------------------+---------------------+-------------------+-------------------+------------------------+\n",
      "\n"
     ]
    }
   ],
   "source": [
    "spark.sql(\"select * from order_items limit 5\").show(false)"
   ]
  },
  {
   "cell_type": "code",
   "execution_count": 7,
   "id": "3092ee57",
   "metadata": {},
   "outputs": [
    {
     "name": "stdout",
     "output_type": "stream",
     "text": [
      "+--------+\n",
      "|count(1)|\n",
      "+--------+\n",
      "|  172198|\n",
      "+--------+\n",
      "\n"
     ]
    }
   ],
   "source": [
    "spark.sql(\"select count(*) from order_items \").show()"
   ]
  },
  {
   "cell_type": "code",
   "execution_count": null,
   "id": "75c29c10",
   "metadata": {},
   "outputs": [],
   "source": [
    "spark.sql(\"create table raj.orderitem_orc(order_item_id int,order_item_order_id int,order_item_product_id int,order_item_quantity int,order_item_subtotal decimal(17,4),order_item_product_price decimal(17,4) ) stored as orc location 'hdfs://m01.itversity.com:9000/user/itv001389/warehouse/raj.db/order_items_orc' \")"
   ]
  },
  {
   "cell_type": "code",
   "execution_count": 17,
   "id": "704dcad0",
   "metadata": {},
   "outputs": [
    {
     "name": "stdout",
     "output_type": "stream",
     "text": [
      "+----------------------------+-----------------------------------------------------------------------------+-------+\n",
      "|col_name                    |data_type                                                                    |comment|\n",
      "+----------------------------+-----------------------------------------------------------------------------+-------+\n",
      "|order_item_id               |int                                                                          |null   |\n",
      "|order_item_order_id         |int                                                                          |null   |\n",
      "|order_item_product_id       |int                                                                          |null   |\n",
      "|order_item_quantity         |int                                                                          |null   |\n",
      "|order_item_subtotal         |decimal(17,4)                                                                |null   |\n",
      "|order_item_product_price    |decimal(17,4)                                                                |null   |\n",
      "|                            |                                                                             |       |\n",
      "|# Detailed Table Information|                                                                             |       |\n",
      "|Database                    |raj                                                                          |       |\n",
      "|Table                       |orderitem_orc                                                                |       |\n",
      "|Owner                       |itv001389                                                                    |       |\n",
      "|Created Time                |Sat Oct 16 07:11:04 EDT 2021                                                 |       |\n",
      "|Last Access                 |Wed Dec 31 19:00:00 EST 1969                                                 |       |\n",
      "|Created By                  |Spark 2.4.7                                                                  |       |\n",
      "|Type                        |EXTERNAL                                                                     |       |\n",
      "|Provider                    |hive                                                                         |       |\n",
      "|Table Properties            |[transient_lastDdlTime=1634382664]                                           |       |\n",
      "|Location                    |hdfs://m01.itversity.com:9000/user/itv001389/warehouse/raj.db/order_items_orc|       |\n",
      "|Serde Library               |org.apache.hadoop.hive.ql.io.orc.OrcSerde                                    |       |\n",
      "|InputFormat                 |org.apache.hadoop.hive.ql.io.orc.OrcInputFormat                              |       |\n",
      "+----------------------------+-----------------------------------------------------------------------------+-------+\n",
      "only showing top 20 rows\n",
      "\n"
     ]
    },
    {
     "data": {
      "text/plain": [
       "lastException: Throwable = null\n"
      ]
     },
     "metadata": {},
     "output_type": "display_data",
     "source": "user"
    }
   ],
   "source": [
    "spark.sql(\"describe formatted raj.orderitem_orc\").show(false)"
   ]
  },
  {
   "cell_type": "code",
   "execution_count": 49,
   "id": "90de322b",
   "metadata": {},
   "outputs": [
    {
     "name": "stdout",
     "output_type": "stream",
     "text": [
      "+----------------------------+-----------------------------------------------------------------------------+-------+\n",
      "|col_name                    |data_type                                                                    |comment|\n",
      "+----------------------------+-----------------------------------------------------------------------------+-------+\n",
      "|order_item_id               |int                                                                          |null   |\n",
      "|order_item_order_id         |int                                                                          |null   |\n",
      "|order_item_product_id       |int                                                                          |null   |\n",
      "|order_item_quantity         |int                                                                          |null   |\n",
      "|order_item_subtotal         |decimal(17,4)                                                                |null   |\n",
      "|order_item_product_price    |decimal(17,4)                                                                |null   |\n",
      "|                            |                                                                             |       |\n",
      "|# Detailed Table Information|                                                                             |       |\n",
      "|Database                    |raj                                                                          |       |\n",
      "|Table                       |orderitem_orc                                                                |       |\n",
      "|Owner                       |itv001389                                                                    |       |\n",
      "|Created Time                |Sat Oct 16 07:11:04 EDT 2021                                                 |       |\n",
      "|Last Access                 |Wed Dec 31 19:00:00 EST 1969                                                 |       |\n",
      "|Created By                  |Spark 2.4.7                                                                  |       |\n",
      "|Type                        |EXTERNAL                                                                     |       |\n",
      "|Provider                    |hive                                                                         |       |\n",
      "|Table Properties            |[transient_lastDdlTime=1634382664]                                           |       |\n",
      "|Location                    |hdfs://m01.itversity.com:9000/user/itv001389/warehouse/raj.db/order_items_orc|       |\n",
      "|Serde Library               |org.apache.hadoop.hive.ql.io.orc.OrcSerde                                    |       |\n",
      "|InputFormat                 |org.apache.hadoop.hive.ql.io.orc.OrcInputFormat                              |       |\n",
      "+----------------------------+-----------------------------------------------------------------------------+-------+\n",
      "only showing top 20 rows\n",
      "\n"
     ]
    }
   ],
   "source": [
    "spark.sql(\"describe formatted raj.orderitem_orc\").show(false)"
   ]
  },
  {
   "cell_type": "code",
   "execution_count": 37,
   "id": "658b14c6",
   "metadata": {},
   "outputs": [
    {
     "data": {
      "text/plain": [
       "[]"
      ]
     },
     "execution_count": 37,
     "metadata": {},
     "output_type": "execute_result"
    }
   ],
   "source": [
    "spark.sql(\"insert into table raj.orderitem_orc select * from Raj.order_items\")"
   ]
  },
  {
   "cell_type": "code",
   "execution_count": null,
   "id": "df0515f8",
   "metadata": {},
   "outputs": [],
   "source": [
    "spark.sql(\"show create table raj.orderitem_orc\").show(false)"
   ]
  },
  {
   "cell_type": "code",
   "execution_count": 25,
   "id": "2aee5c3b",
   "metadata": {},
   "outputs": [
    {
     "data": {
      "text/plain": [
       "[]"
      ]
     },
     "execution_count": 25,
     "metadata": {},
     "output_type": "execute_result"
    }
   ],
   "source": [
    "spark.sql(\"create table raj.orderitem_par(order_item_id int,order_item_order_id int,order_item_product_id int,order_item_quantity int,order_item_subtotal decimal(17,4),order_item_product_price decimal(17,4) ) stored as parquet location 'hdfs://m01.itversity.com:9000/user/itv001389/warehouse/raj.db/order_items_par' \")"
   ]
  },
  {
   "cell_type": "code",
   "execution_count": 36,
   "id": "d9762b4c",
   "metadata": {},
   "outputs": [
    {
     "data": {
      "text/plain": [
       "[]"
      ]
     },
     "execution_count": 36,
     "metadata": {},
     "output_type": "execute_result"
    }
   ],
   "source": [
    "spark.sql(\"insert into raj.orderitem_par select * from Raj.order_items\")"
   ]
  },
  {
   "cell_type": "code",
   "execution_count": 28,
   "id": "69eca735",
   "metadata": {},
   "outputs": [
    {
     "data": {
      "text/plain": [
       "lastException: Throwable = null\n"
      ]
     },
     "metadata": {},
     "output_type": "display_data",
     "source": "user"
    },
    {
     "data": {
      "text/plain": [
       "[]"
      ]
     },
     "execution_count": 28,
     "metadata": {},
     "output_type": "execute_result"
    }
   ],
   "source": [
    "spark.sql(\"create table raj.orderitem_nor(order_item_id int,order_item_order_id int,order_item_product_id int,order_item_quantity int,order_item_subtotal decimal(17,4),order_item_product_price decimal(17,4) ) row format delimited fields terminated by ',' location 'hdfs://m01.itversity.com:9000/user/itv001389/warehouse/raj.db/order_items_nor' \")"
   ]
  },
  {
   "cell_type": "code",
   "execution_count": 35,
   "id": "5be1612f",
   "metadata": {},
   "outputs": [
    {
     "data": {
      "text/plain": [
       "[]"
      ]
     },
     "execution_count": 35,
     "metadata": {},
     "output_type": "execute_result"
    }
   ],
   "source": [
    "spark.sql(\"insert into table raj.orderitem_nor  select * from Raj.order_items\")"
   ]
  },
  {
   "cell_type": "code",
   "execution_count": 38,
   "id": "805f1261",
   "metadata": {},
   "outputs": [
    {
     "name": "stdout",
     "output_type": "stream",
     "text": [
      "+-------------+-------------------+---------------------+-------------------+-------------------+------------------------+\n",
      "|order_item_id|order_item_order_id|order_item_product_id|order_item_quantity|order_item_subtotal|order_item_product_price|\n",
      "+-------------+-------------------+---------------------+-------------------+-------------------+------------------------+\n",
      "|            1|                  1|                  957|                  1|           299.9800|                299.9800|\n",
      "|            2|                  2|                 1073|                  1|           199.9900|                199.9900|\n",
      "+-------------+-------------------+---------------------+-------------------+-------------------+------------------------+\n",
      "\n"
     ]
    }
   ],
   "source": [
    "spark.sql(\"select * from raj.orderitem_orc limit 2\").show()"
   ]
  },
  {
   "cell_type": "code",
   "execution_count": 39,
   "id": "2aaeb9b3",
   "metadata": {},
   "outputs": [
    {
     "name": "stdout",
     "output_type": "stream",
     "text": [
      "+-------------+-------------------+---------------------+-------------------+-------------------+------------------------+\n",
      "|order_item_id|order_item_order_id|order_item_product_id|order_item_quantity|order_item_subtotal|order_item_product_price|\n",
      "+-------------+-------------------+---------------------+-------------------+-------------------+------------------------+\n",
      "|       153414|              61321|                 1014|                  4|           199.9200|                 49.9800|\n",
      "|       153415|              61321|                  403|                  1|           129.9900|                129.9900|\n",
      "+-------------+-------------------+---------------------+-------------------+-------------------+------------------------+\n",
      "\n"
     ]
    }
   ],
   "source": [
    "spark.sql(\"select * from raj.orderitem_par limit 2\").show()"
   ]
  },
  {
   "cell_type": "code",
   "execution_count": 40,
   "id": "c8be9c22",
   "metadata": {},
   "outputs": [
    {
     "name": "stdout",
     "output_type": "stream",
     "text": [
      "+-------------+-------------------+---------------------+-------------------+-------------------+------------------------+\n",
      "|order_item_id|order_item_order_id|order_item_product_id|order_item_quantity|order_item_subtotal|order_item_product_price|\n",
      "+-------------+-------------------+---------------------+-------------------+-------------------+------------------------+\n",
      "|            1|                  1|                  957|                  1|           299.9800|                299.9800|\n",
      "|            2|                  2|                 1073|                  1|           199.9900|                199.9900|\n",
      "+-------------+-------------------+---------------------+-------------------+-------------------+------------------------+\n",
      "\n"
     ]
    }
   ],
   "source": [
    "spark.sql(\"select * from raj.orderitem_nor limit 2\").show()"
   ]
  },
  {
   "cell_type": "code",
   "execution_count": 41,
   "id": "4debcd4e",
   "metadata": {},
   "outputs": [
    {
     "name": "stdout",
     "output_type": "stream",
     "text": [
      "+--------+\n",
      "|count(1)|\n",
      "+--------+\n",
      "|   68883|\n",
      "+--------+\n",
      "\n"
     ]
    }
   ],
   "source": [
    "spark.sql(\"select count(*) from Raj.order_orc\").show()"
   ]
  },
  {
   "cell_type": "code",
   "execution_count": null,
   "id": "0866c8d4",
   "metadata": {},
   "outputs": [],
   "source": []
  }
 ],
 "metadata": {
  "kernelspec": {
   "display_name": "Spark 2 - Scala",
   "language": "scala",
   "name": "spark_2_scala"
  },
  "language_info": {
   "codemirror_mode": "text/x-scala",
   "file_extension": ".scala",
   "mimetype": "text/x-scala",
   "name": "scala",
   "pygments_lexer": "scala",
   "version": "2.11.12"
  }
 },
 "nbformat": 4,
 "nbformat_minor": 5
}
