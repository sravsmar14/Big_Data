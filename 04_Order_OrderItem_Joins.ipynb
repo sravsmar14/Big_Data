{
 "cells": [
  {
   "cell_type": "code",
   "execution_count": 57,
   "id": "84909be9",
   "metadata": {},
   "outputs": [
    {
     "data": {
      "text/plain": [
       "lastException: Throwable = null\n"
      ]
     },
     "metadata": {},
     "output_type": "display_data",
     "source": "user"
    }
   ],
   "source": [
    "import org.apache.spark.sql.SparkSession"
   ]
  },
  {
   "cell_type": "code",
   "execution_count": 58,
   "id": "a7fda1c0",
   "metadata": {},
   "outputs": [
    {
     "data": {
      "text/plain": [
       "spark = org.apache.spark.sql.SparkSession@f6347e7\n"
      ]
     },
     "metadata": {},
     "output_type": "display_data",
     "source": "user"
    },
    {
     "data": {
      "text/plain": [
       "org.apache.spark.sql.SparkSession@f6347e7"
      ]
     },
     "execution_count": 58,
     "metadata": {},
     "output_type": "execute_result"
    }
   ],
   "source": [
    "val spark = SparkSession.\n",
    "    builder.\n",
    "    config(\"spark.ui.port\", \"0\").\n",
    "    config(\"spark.sql.warehouse.dir\", \"/user/itv001389/warehouse\").\n",
    "    enableHiveSupport.\n",
    "    master(\"yarn\").\n",
    "    appName(\"Getting Started - Spark with Scala\").\n",
    "    getOrCreate"
   ]
  },
  {
   "cell_type": "code",
   "execution_count": 59,
   "id": "5ebc74f1",
   "metadata": {},
   "outputs": [
    {
     "data": {
      "text/plain": [
       "[]"
      ]
     },
     "execution_count": 59,
     "metadata": {},
     "output_type": "execute_result"
    }
   ],
   "source": [
    "spark.sql(\"use Raj\")"
   ]
  },
  {
   "cell_type": "code",
   "execution_count": 4,
   "id": "5417893f",
   "metadata": {},
   "outputs": [
    {
     "name": "stdout",
     "output_type": "stream",
     "text": [
      "+--------+------------------+-----------+\n",
      "|database|tableName         |isTemporary|\n",
      "+--------+------------------+-----------+\n",
      "|raj     |order_immu        |false      |\n",
      "|raj     |orderitem_nor     |false      |\n",
      "|raj     |orderitem_orc     |false      |\n",
      "|raj     |orderitem_par     |false      |\n",
      "|raj     |order_items       |false      |\n",
      "|raj     |order_orc         |false      |\n",
      "|raj     |orders            |false      |\n",
      "|raj     |order_skip_header |false      |\n",
      "|raj     |order_skip_header1|false      |\n",
      "|raj     |order_skip_header2|false      |\n",
      "|raj     |order_skip_header3|false      |\n",
      "|raj     |order_snap        |false      |\n",
      "+--------+------------------+-----------+\n",
      "\n"
     ]
    }
   ],
   "source": [
    "spark.sql(\"show tables\").show(false)"
   ]
  },
  {
   "cell_type": "code",
   "execution_count": 5,
   "id": "a3caed24",
   "metadata": {},
   "outputs": [
    {
     "name": "stdout",
     "output_type": "stream",
     "text": [
      "+--------+-------------------+----------------+---------------+\n",
      "|order_id|Order_date         |Order_product_id|Order_status   |\n",
      "+--------+-------------------+----------------+---------------+\n",
      "|1       |2013-07-25 00:00:00|11599           |CLOSED         |\n",
      "|2       |2013-07-25 00:00:00|256             |PENDING_PAYMENT|\n",
      "|3       |2013-07-25 00:00:00|12111           |COMPLETE       |\n",
      "|4       |2013-07-25 00:00:00|8827            |CLOSED         |\n",
      "|5       |2013-07-25 00:00:00|11318           |COMPLETE       |\n",
      "+--------+-------------------+----------------+---------------+\n",
      "\n"
     ]
    }
   ],
   "source": [
    "spark.sql(\"select * from orders limit 5\").show(false)"
   ]
  },
  {
   "cell_type": "code",
   "execution_count": 6,
   "id": "08bc4152",
   "metadata": {},
   "outputs": [
    {
     "name": "stdout",
     "output_type": "stream",
     "text": [
      "+-------------+-------------------+---------------------+-------------------+-------------------+------------------------+\n",
      "|order_item_id|order_item_order_id|order_item_product_id|order_item_quantity|order_item_subtotal|order_item_product_price|\n",
      "+-------------+-------------------+---------------------+-------------------+-------------------+------------------------+\n",
      "|1            |1                  |957                  |1                  |299.9800           |299.9800                |\n",
      "|2            |2                  |1073                 |1                  |199.9900           |199.9900                |\n",
      "|3            |2                  |502                  |5                  |250.0000           |50.0000                 |\n",
      "|4            |2                  |403                  |1                  |129.9900           |129.9900                |\n",
      "|5            |4                  |897                  |2                  |49.9800            |24.9900                 |\n",
      "+-------------+-------------------+---------------------+-------------------+-------------------+------------------------+\n",
      "\n"
     ]
    }
   ],
   "source": [
    "spark.sql(\"select * from order_items limit 5\").show(false)"
   ]
  },
  {
   "cell_type": "code",
   "execution_count": 7,
   "id": "7c4f5361",
   "metadata": {},
   "outputs": [
    {
     "data": {
      "text/plain": [
       "[]"
      ]
     },
     "execution_count": 7,
     "metadata": {},
     "output_type": "execute_result"
    }
   ],
   "source": [
    "spark.sql(\"create table Raj.order_oi(order_id int,order_date timestamp,order_status string,order_item_id int,order_item_quantity int,order_item_product_price decimal(17,4)) row format delimited fields terminated by ',' stored as textfile location 'hdfs://m01.itversity.com:9000/user/itv001389/warehouse/raj.db/order_oi' \")"
   ]
  },
  {
   "cell_type": "code",
   "execution_count": 13,
   "id": "0270c2fd",
   "metadata": {},
   "outputs": [
    {
     "name": "stdout",
     "output_type": "stream",
     "text": [
      "+--------+-------------------+---------------+-------------+-------------------+------------------------+\n",
      "|order_id|order_date         |order_status   |order_item_id|order_item_quantity|order_item_product_price|\n",
      "+--------+-------------------+---------------+-------------+-------------------+------------------------+\n",
      "|1       |2013-07-25 00:00:00|CLOSED         |1            |1                  |299.9800                |\n",
      "|2       |2013-07-25 00:00:00|PENDING_PAYMENT|2            |1                  |199.9900                |\n",
      "|2       |2013-07-25 00:00:00|PENDING_PAYMENT|3            |5                  |50.0000                 |\n",
      "|2       |2013-07-25 00:00:00|PENDING_PAYMENT|4            |1                  |129.9900                |\n",
      "|4       |2013-07-25 00:00:00|CLOSED         |5            |2                  |24.9900                 |\n",
      "|4       |2013-07-25 00:00:00|CLOSED         |6            |5                  |59.9900                 |\n",
      "|4       |2013-07-25 00:00:00|CLOSED         |7            |3                  |50.0000                 |\n",
      "|4       |2013-07-25 00:00:00|CLOSED         |8            |4                  |49.9800                 |\n",
      "|5       |2013-07-25 00:00:00|COMPLETE       |9            |1                  |299.9800                |\n",
      "|5       |2013-07-25 00:00:00|COMPLETE       |10           |5                  |59.9900                 |\n",
      "+--------+-------------------+---------------+-------------+-------------------+------------------------+\n",
      "\n"
     ]
    }
   ],
   "source": [
    "spark.sql(\"SELECT a.order_id,a.order_date,a.order_status,b.order_item_id,b.order_item_quantity,b.order_item_product_price FROM orders a JOIN order_items b ON (a.order_id = b.order_item_order_id) limit 10\").show(false)"
   ]
  },
  {
   "cell_type": "code",
   "execution_count": 21,
   "id": "a962b04f",
   "metadata": {},
   "outputs": [
    {
     "data": {
      "text/plain": [
       "[]"
      ]
     },
     "execution_count": 21,
     "metadata": {},
     "output_type": "execute_result"
    }
   ],
   "source": [
    "spark.sql(\"insert into Raj.order_oi select a.order_id,a.order_date,a.order_status,b.order_item_id,b.order_item_quantity,b.order_item_quantity from orders a join order_items b on (a.order_id=b.order_item_order_id)\")"
   ]
  },
  {
   "cell_type": "code",
   "execution_count": 22,
   "id": "85cd1bd5",
   "metadata": {},
   "outputs": [
    {
     "name": "stdout",
     "output_type": "stream",
     "text": [
      "+--------+-------------------+---------------+-------------+-------------------+------------------------+\n",
      "|order_id|order_date         |order_status   |order_item_id|order_item_quantity|order_item_product_price|\n",
      "+--------+-------------------+---------------+-------------+-------------------+------------------------+\n",
      "|1       |2013-07-25 00:00:00|CLOSED         |1            |1                  |1.0000                  |\n",
      "|2       |2013-07-25 00:00:00|PENDING_PAYMENT|2            |1                  |1.0000                  |\n",
      "|2       |2013-07-25 00:00:00|PENDING_PAYMENT|3            |5                  |5.0000                  |\n",
      "|2       |2013-07-25 00:00:00|PENDING_PAYMENT|4            |1                  |1.0000                  |\n",
      "|4       |2013-07-25 00:00:00|CLOSED         |5            |2                  |2.0000                  |\n",
      "|4       |2013-07-25 00:00:00|CLOSED         |6            |5                  |5.0000                  |\n",
      "|4       |2013-07-25 00:00:00|CLOSED         |7            |3                  |3.0000                  |\n",
      "|4       |2013-07-25 00:00:00|CLOSED         |8            |4                  |4.0000                  |\n",
      "|5       |2013-07-25 00:00:00|COMPLETE       |9            |1                  |1.0000                  |\n",
      "|5       |2013-07-25 00:00:00|COMPLETE       |10           |5                  |5.0000                  |\n",
      "+--------+-------------------+---------------+-------------+-------------------+------------------------+\n",
      "\n"
     ]
    }
   ],
   "source": [
    "spark.sql(\"select * from Raj.order_oi limit 10\").show(false)"
   ]
  },
  {
   "cell_type": "code",
   "execution_count": 33,
   "id": "868b94dc",
   "metadata": {},
   "outputs": [
    {
     "data": {
      "text/plain": [
       "lastException: Throwable = null\n"
      ]
     },
     "metadata": {},
     "output_type": "display_data",
     "source": "user"
    },
    {
     "data": {
      "text/plain": [
       "[]"
      ]
     },
     "execution_count": 33,
     "metadata": {},
     "output_type": "execute_result"
    }
   ],
   "source": [
    "spark.sql(\"create table raj.order_oi_cast1 as select cast(a.order_date as date),sum(b.order_item_quantity) from orders a join order_items b on (a.order_id=b.order_item_order_id) group by order_date \")"
   ]
  },
  {
   "cell_type": "code",
   "execution_count": 36,
   "id": "229b80ec",
   "metadata": {},
   "outputs": [
    {
     "name": "stdout",
     "output_type": "stream",
     "text": [
      "+----------+------------------------+\n",
      "|order_date|sum(order_item_quantity)|\n",
      "+----------+------------------------+\n",
      "|2014-06-11|795                     |\n",
      "|2013-07-25|741                     |\n",
      "|2014-01-13|974                     |\n",
      "|2014-07-16|811                     |\n",
      "|2014-07-02|667                     |\n",
      "+----------+------------------------+\n",
      "\n"
     ]
    }
   ],
   "source": [
    "spark.sql(\"select * from raj.order_oi_cast limit 5\").show(false)"
   ]
  },
  {
   "cell_type": "code",
   "execution_count": 66,
   "id": "ff8f652f",
   "metadata": {},
   "outputs": [
    {
     "data": {
      "text/plain": [
       "lastException: Throwable = null\n"
      ]
     },
     "metadata": {},
     "output_type": "display_data",
     "source": "user"
    },
    {
     "data": {
      "text/plain": [
       "[]"
      ]
     },
     "execution_count": 66,
     "metadata": {},
     "output_type": "execute_result"
    }
   ],
   "source": [
    " spark.sql(\"create table raj.order_oi_sum2 as select a.order_date,a.order_status,sum(b.order_item_quantity*b.order_item_product_price) AS Total_Revenue from orders a join order_items b on (a.order_id=b.order_item_order_id) group by order_date,order_status\")"
   ]
  },
  {
   "cell_type": "code",
   "execution_count": 67,
   "id": "fbb7f244",
   "metadata": {},
   "outputs": [
    {
     "name": "stdout",
     "output_type": "stream",
     "text": [
      "+--------+\n",
      "|count(1)|\n",
      "+--------+\n",
      "|    3165|\n",
      "+--------+\n",
      "\n"
     ]
    }
   ],
   "source": [
    "spark.sql(\"select count(*) from  raj.order_oi_sum2 \").show()"
   ]
  },
  {
   "cell_type": "code",
   "execution_count": 68,
   "id": "662b91de",
   "metadata": {},
   "outputs": [
    {
     "name": "stdout",
     "output_type": "stream",
     "text": [
      "+-------------------+---------------+-------------+\n",
      "|         order_date|   order_status|Total_Revenue|\n",
      "+-------------------+---------------+-------------+\n",
      "|2014-02-01 00:00:00|       COMPLETE|   48115.3600|\n",
      "|2014-04-04 00:00:00|         CLOSED|   10926.7800|\n",
      "|2014-04-11 00:00:00|     PROCESSING|   12967.7400|\n",
      "|2014-04-15 00:00:00|        ON_HOLD|    4961.3600|\n",
      "|2014-04-30 00:00:00|PENDING_PAYMENT|   14399.4200|\n",
      "|2014-05-08 00:00:00|         CLOSED|    4009.6400|\n",
      "|2014-05-19 00:00:00|        ON_HOLD|    1219.8500|\n",
      "|2014-06-23 00:00:00|     PROCESSING|    6155.3700|\n",
      "|2014-07-13 00:00:00|        PENDING|   15974.4000|\n",
      "|2014-07-14 00:00:00|         CLOSED|    5881.3400|\n",
      "+-------------------+---------------+-------------+\n",
      "\n"
     ]
    }
   ],
   "source": [
    "spark.sql(\"select * from  raj.order_oi_sum2 limit 10\").show()"
   ]
  },
  {
   "cell_type": "code",
   "execution_count": null,
   "id": "41af368a",
   "metadata": {},
   "outputs": [],
   "source": []
  }
 ],
 "metadata": {
  "kernelspec": {
   "display_name": "Spark 2 - Scala",
   "language": "scala",
   "name": "spark_2_scala"
  },
  "language_info": {
   "codemirror_mode": "text/x-scala",
   "file_extension": ".scala",
   "mimetype": "text/x-scala",
   "name": "scala",
   "pygments_lexer": "scala",
   "version": "2.11.12"
  }
 },
 "nbformat": 4,
 "nbformat_minor": 5
}
