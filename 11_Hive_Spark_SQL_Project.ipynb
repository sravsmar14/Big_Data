{
 "cells": [
  {
   "cell_type": "code",
   "execution_count": null,
   "id": "64a5a4e9",
   "metadata": {},
   "outputs": [],
   "source": [
    "hadoop fs -mkdir hdfs://m01.itversity.com:9000/user/itv001389/warehouse/raj.db/project"
   ]
  },
  {
   "cell_type": "code",
   "execution_count": null,
   "id": "250a5b98",
   "metadata": {},
   "outputs": [],
   "source": [
    " hadoop fs -mkdir hdfs://m01.itversity.com:9000/user/itv001389/warehouse/raj.db/project/source\n"
   ]
  },
  {
   "cell_type": "code",
   "execution_count": null,
   "id": "1a28cc45",
   "metadata": {},
   "outputs": [],
   "source": [
    " hadoop fs -mkdir hdfs://m01.itversity.com:9000/user/itv001389/warehouse/raj.db/project/source/emp"
   ]
  },
  {
   "cell_type": "code",
   "execution_count": null,
   "id": "e8a2b93f",
   "metadata": {},
   "outputs": [],
   "source": [
    "hadoop fs -copyFromLocal /home/itv001389/emp.txt hdfs://m01.itversity.com:9000/user/itv001389/warehouse/raj.db/project/source/emp"
   ]
  },
  {
   "cell_type": "code",
   "execution_count": null,
   "id": "d5e19452",
   "metadata": {},
   "outputs": [],
   "source": [
    "hadoop fs -cat hdfs://m01.itversity.com:9000/user/itv001389/warehouse/raj.db/project/source/emp/emp.txt"
   ]
  },
  {
   "cell_type": "code",
   "execution_count": null,
   "id": "b78bc0f0",
   "metadata": {},
   "outputs": [],
   "source": [
    "hadoop fs -mkdir hdfs://m01.itversity.com:9000/user/itv001389/warehouse/raj.db/project/source/dep"
   ]
  },
  {
   "cell_type": "code",
   "execution_count": null,
   "id": "9d68da0c",
   "metadata": {},
   "outputs": [],
   "source": [
    "hadoop fs -copyFromLocal /home/itv001389/dept.csv hdfs://m01.itversity.com:9000/user/itv001389/warehouse/raj.db/project/source/dep"
   ]
  },
  {
   "cell_type": "code",
   "execution_count": 1,
   "id": "ab015076",
   "metadata": {},
   "outputs": [],
   "source": [
    "import org.apache.spark.sql.SparkSession"
   ]
  },
  {
   "cell_type": "code",
   "execution_count": 2,
   "id": "b03ef5ac",
   "metadata": {},
   "outputs": [
    {
     "data": {
      "text/plain": [
       "spark = org.apache.spark.sql.SparkSession@547444c7\n"
      ]
     },
     "metadata": {},
     "output_type": "display_data",
     "source": "user"
    },
    {
     "data": {
      "text/plain": [
       "org.apache.spark.sql.SparkSession@547444c7"
      ]
     },
     "execution_count": 2,
     "metadata": {},
     "output_type": "execute_result"
    }
   ],
   "source": [
    "val spark = SparkSession.\n",
    "    builder.\n",
    "    config(\"spark.ui.port\", \"0\").\n",
    "    config(\"spark.sql.warehouse.dir\", \"/user/itv001389/warehouse\").\n",
    "    enableHiveSupport.\n",
    "    master(\"yarn\").\n",
    "    appName(\"Getting Started - Spark with Scala\").\n",
    "    getOrCreate"
   ]
  },
  {
   "cell_type": "code",
   "execution_count": 4,
   "id": "6d1be8ce",
   "metadata": {},
   "outputs": [
    {
     "data": {
      "text/plain": [
       "lastException: Throwable = null\n"
      ]
     },
     "metadata": {},
     "output_type": "display_data",
     "source": "user"
    },
    {
     "data": {
      "text/plain": [
       "[]"
      ]
     },
     "execution_count": 4,
     "metadata": {},
     "output_type": "execute_result"
    }
   ],
   "source": [
    "spark.sql(\"use raj\")"
   ]
  },
  {
   "cell_type": "code",
   "execution_count": 18,
   "id": "ab1af5b1",
   "metadata": {},
   "outputs": [
    {
     "data": {
      "text/plain": [
       "[]"
      ]
     },
     "execution_count": 18,
     "metadata": {},
     "output_type": "execute_result"
    }
   ],
   "source": [
    "spark.sql(\"create table raj.emp(EMPNO int,ENAME string,JOB string,MGR int,HIREDATE date,SAL int,COMM int,DEPTNO int) row format delimited fields terminated by '\\t' stored as textfile location'hdfs://m01.itversity.com:9000/user/itv001389/warehouse/raj.db/project/source/emp/' \")"
   ]
  },
  {
   "cell_type": "code",
   "execution_count": 17,
   "id": "5b9ff70a",
   "metadata": {},
   "outputs": [
    {
     "data": {
      "text/plain": [
       "lastException: Throwable = null\n"
      ]
     },
     "metadata": {},
     "output_type": "display_data",
     "source": "user"
    },
    {
     "data": {
      "text/plain": [
       "[]"
      ]
     },
     "execution_count": 17,
     "metadata": {},
     "output_type": "execute_result"
    }
   ],
   "source": [
    "spark.sql(\"drop table raj.emp\")"
   ]
  },
  {
   "cell_type": "code",
   "execution_count": 19,
   "id": "e257fd2f",
   "metadata": {},
   "outputs": [
    {
     "name": "stdout",
     "output_type": "stream",
     "text": [
      "+-----+------+---------+----+----------+----+----+------+\n",
      "|EMPNO|ENAME |JOB      |MGR |HIREDATE  |SAL |COMM|DEPTNO|\n",
      "+-----+------+---------+----+----------+----+----+------+\n",
      "|7839 |KING  |PRESIDENT|null|1981-11-17|5000|null|10    |\n",
      "|7698 |BLAKE |MANAGER  |7839|1981-05-01|2850|null|30    |\n",
      "|7782 |CLARK |MANAGER  |7839|1981-06-09|2450|null|10    |\n",
      "|7566 |JONES |MANAGER  |7839|1981-04-02|2975|null|20    |\n",
      "|7788 |SCOTT |ANALYST  |7566|1987-04-19|3000|null|20    |\n",
      "|7902 |FORD  |ANALYST  |7566|1981-12-03|3000|null|20    |\n",
      "|7369 |SMITH |CLERK    |7902|1980-12-17|800 |null|20    |\n",
      "|7499 |ALLEN |SALESMAN |7698|1981-02-20|1600|300 |30    |\n",
      "|7521 |WARD  |SALESMAN |7698|1981-02-22|1250|500 |30    |\n",
      "|7654 |MARTIN|SALESMAN |7698|1981-09-28|1250|1400|30    |\n",
      "|7844 |TURNER|SALESMAN |7698|1981-09-08|1500|0   |30    |\n",
      "|7876 |ADAMS |CLERK    |7788|1987-05-23|1100|null|20    |\n",
      "|7900 |JAMES |CLERK    |7698|1981-12-03|950 |null|30    |\n",
      "|7934 |MILLER|CLERK    |7782|1982-01-23|1300|null|10    |\n",
      "+-----+------+---------+----+----------+----+----+------+\n",
      "\n"
     ]
    }
   ],
   "source": [
    "spark.sql(\"select * from raj.emp\").show(false)"
   ]
  },
  {
   "cell_type": "code",
   "execution_count": 13,
   "id": "a7e7786b",
   "metadata": {},
   "outputs": [
    {
     "data": {
      "text/plain": [
       "lastException: Throwable = null\n"
      ]
     },
     "metadata": {},
     "output_type": "display_data",
     "source": "user"
    },
    {
     "data": {
      "text/plain": [
       "[]"
      ]
     },
     "execution_count": 13,
     "metadata": {},
     "output_type": "execute_result"
    }
   ],
   "source": [
    "spark.sql(\"create table raj.dep(DEPTNO int,DNAME string,LOC string) row format delimited fields terminated by ',' stored as textfile location 'hdfs://m01.itversity.com:9000/user/itv001389/warehouse/raj.db/project/source/dep' \")"
   ]
  },
  {
   "cell_type": "code",
   "execution_count": 15,
   "id": "cb5e973f",
   "metadata": {},
   "outputs": [
    {
     "name": "stdout",
     "output_type": "stream",
     "text": [
      "+------+----------+--------+\n",
      "|DEPTNO|DNAME     |LOC     |\n",
      "+------+----------+--------+\n",
      "|10    |ACCOUNTING|NEW YORK|\n",
      "|20    |RESEARCH  |DALLAS  |\n",
      "|30    |SALES     |CHICAGO |\n",
      "|40    |OPERATIONS|BOSTON  |\n",
      "+------+----------+--------+\n",
      "\n"
     ]
    }
   ],
   "source": [
    "spark.sql(\"select * from raj.dep\").show(false)"
   ]
  },
  {
   "cell_type": "code",
   "execution_count": null,
   "id": "ffa2c62f",
   "metadata": {},
   "outputs": [],
   "source": []
  }
 ],
 "metadata": {
  "kernelspec": {
   "display_name": "Spark 2 - Scala",
   "language": "scala",
   "name": "spark_2_scala"
  },
  "language_info": {
   "codemirror_mode": "text/x-scala",
   "file_extension": ".scala",
   "mimetype": "text/x-scala",
   "name": "scala",
   "pygments_lexer": "scala",
   "version": "2.11.12"
  }
 },
 "nbformat": 4,
 "nbformat_minor": 5
}
